{
 "cells": [
  {
   "cell_type": "markdown",
   "metadata": {},
   "source": [
    "# %title%\n",
    "\n",
    "**_Author: Jessica Cervi_**\n",
    "\n",
    "**Expected time = %expected_time%**\n",
    "\n",
    "**Total points = 120 points**"
   ]
  },
  {
   "cell_type": "markdown",
   "metadata": {},
   "source": [
    "## Assignment Overview\n",
    "\n",
    "\n",
    "In this assignment, you will work with the Python data types you learned in Module 2, such as integers, floats, booleans, lists, tuples, and dictionaries. You will also practice using comparison and logical operators. In the second half of the assignment, you will apply what you have learned in Module 3 to use built-in and user-defined functions. You will also work with loops and conditional statements. Before you begin the assignment, review the instructions below and complete Question 0 to practice using Vocareum.\n",
    "\n",
    "\n",
    "This assignment is designed to build your familiarity and comfort coding in Python while also helping you review key topics from each module. As you progress through the assignment, answers will get increasingly complex. It is important that you adopt a data scientist's mindset when completing this assignment. **Remember to run your code from each cell before submitting your assignment.** Running your code beforehand will notify you of errors and give you a chance to fix them before submitting. You should view your Vocareum submission as if you are delivering a final project to your manager or client. \n",
    "\n",
    "\n",
    "### Learning Objectives\n",
    "\n",
    "- Use Jupyter Notebooks to begin programming in Python.  \n",
    "- Identify Python data types, including strings, integers, floats, booleans, lists, and tuples. \n",
    "- Explain the operations that can be performed on a given data type.  \n",
    "- Examine the benefits and limitations of using lists, tuples, and dictionaries to store and organize your data. \n",
    "- Explain the benefits of functions in performing specified tasks in Python.  \n",
    "- Use built-in functions to perform common tasks in Python.  \n",
    "- Use methods to perform analyses on specific data types.  \n",
    "- Create custom functions to perform custom analyses relevant to the dataset or research question. "
   ]
  },
  {
   "cell_type": "markdown",
   "metadata": {},
   "source": [
    "\n",
    "\n",
    "## Index:\n",
    "\n",
    "####  %subtitle_1%\n",
    "\n",
    "- [Question 1](#Question-1)\n",
    "- [Question 2](#Question-2)\n",
    "- [Question 3](#Question-3)\n",
    "- [Question 4](#Question-4)\n",
    "- [Question 5](#Question-5)\n",
    "- [Question 6](#Question-6)\n",
    "- [Question 7](#Question-7)\n",
    "- [Question 8](#Question-8)\n",
    "- [Question 9](#Question-9)\n",
    "- [Question 10](#Question-10)\n",
    "- [Question 11](#Question-11)\n",
    "- [Question 12](#Question-12)\n",
    "- [Question 13](#Question-13)\n",
    "\n",
    "\n",
    "####  %subtitle_2%\n",
    "- [Question 14](#Question-14)\n",
    "- [Question 15](#Question-15)\n",
    "- [Question 16](#Question-16)\n",
    "- [Question 17](#Question-17)\n",
    "- [Question 18](#Question-18)\n",
    "- [Question 19](#Question-19)\n",
    "- [Question 20](#Question-20)"
   ]
  },
  {
   "cell_type": "markdown",
   "metadata": {},
   "source": [
    "## Instructions:\n",
    "\n",
    "All the questions in the assigments will be graded automatically and you will have the chance to fix your solutions many times in order to get the expected output. Make sure to follow the steps carefully (and don't delete or change anything unless you're asked to).\n",
    "\n",
    "Question 0 is designed and solved for you to understand how to complete this and the next assignments. You will see this question appear in your grading report. It's worth 0 points so you can just ignore it.\n",
    "\n",
    "Below you can see the structure of the questions. In the markdown cell just before the question, you will see the question number and the description of what has been asked. \n",
    "\n",
    "Next, there is a code cell starting with the comment: `### YOUR ANSWER BELOW`. This means that the cell will  be autograded.\n",
    "\n",
    "The line `###BEGIN SOLUTION` tells you where to write your solution. You can use as many auxiliary variables and additional codes as you need. Note that we have already initialized the answer variables that you will need for you final answer and assigned them the placeholder value `None`. This is to avoid errors when typing the variable names that contain the results. You can replace the value `None` with the actual answer or redefine it below.\n",
    "\n",
    "Finally, you will see a second code cell with the autograded solution. **DO NOT CHANGE ANYTHING IN THAT CELL**\n",
    "\n",
    "\n",
    "### Question 0:\n",
    "Assign the String `\"hello\"` to the variable `var`:\n"
   ]
  },
  {
   "cell_type": "code",
   "execution_count": 1,
   "metadata": {},
   "outputs": [],
   "source": [
    "### YOUR ANSWER BELOW\n",
    "\n",
    "### YOUR SOLUTION HERE\n",
    "var = None ## edit code here, i.e., set var = \"hello\"\n",
    "\n",
    "### BEGIN SOLUTION\n",
    "var = \"hello\"\n",
    "### END SOLUTION"
   ]
  },
  {
   "cell_type": "code",
   "execution_count": 2,
   "metadata": {},
   "outputs": [],
   "source": [
    "###\n",
    "### AUTOGRADER CELL - DO NOT REMOVE\n",
    "###"
   ]
  },
  {
   "cell_type": "markdown",
   "metadata": {},
   "source": [
    "\n",
    "##  %subtitle_1%\n",
    "\n",
    "In the first part of this assignment, we will be testing your knowledge of the topics covered in Module 2, such as basic data types (`int`, `floats`, and `str`) as well as lists, tuples, and dictonaries."
   ]
  },
  {
   "cell_type": "markdown",
   "metadata": {},
   "source": [
    "## Floats\n",
    "\n",
    "As you have learned, float are data types designed to store decimal numbers.\n",
    "\n",
    "[Back to top](#Index:) \n",
    "\n",
    "### Question 1\n",
    "\n",
    "*5 points* \n",
    "\n",
    "\n",
    "Assign the value of 175 multiplied by 16.28 to the variable `ans1` and make sure it's stored as a float."
   ]
  },
  {
   "cell_type": "code",
   "execution_count": 3,
   "metadata": {},
   "outputs": [
    {
     "data": {
      "text/plain": [
       "float"
      ]
     },
     "execution_count": 3,
     "metadata": {},
     "output_type": "execute_result"
    }
   ],
   "source": [
    "### GRADED\n",
    "### YOUR ANSWER BELOW\n",
    "\n",
    "### YOUR SOLUTION HERE\n",
    "ans1 = None\n",
    "\n",
    "### BEGIN SOLUTION\n",
    "ans1 = 175*16.28\n",
    "type(ans1)\n",
    "### END SOLUTION"
   ]
  },
  {
   "cell_type": "code",
   "execution_count": 4,
   "metadata": {},
   "outputs": [
    {
     "name": "stdout",
     "output_type": "stream",
     "text": [
      "Correct!\n"
     ]
    }
   ],
   "source": [
    "### BEGIN HIDDEN TESTS (5)\n",
    "ans1_ = 175*16.28\n",
    "#\n",
    "#\n",
    "import math\n",
    "assert type(ans1_) == type(ans1), \"Don't forget you need to return ans1 as a float.\"\n",
    "assert math.isclose(ans1_, ans1), \"Please make sure you haven't made any typos when defining ans1.\"\n",
    "print(\"Correct!\")\n",
    "### END HIDDEN TESTS"
   ]
  },
  {
   "cell_type": "markdown",
   "metadata": {},
   "source": [
    "[Back to top](#Index:) \n",
    "\n",
    "### Question 2\n",
    "\n",
    "*5 points* \n",
    "\n",
    "Assign the value of 572 divided by 8.73 to the variable `ans2` and make sure it's stored as a float."
   ]
  },
  {
   "cell_type": "code",
   "execution_count": 5,
   "metadata": {},
   "outputs": [
    {
     "data": {
      "text/plain": [
       "float"
      ]
     },
     "execution_count": 5,
     "metadata": {},
     "output_type": "execute_result"
    }
   ],
   "source": [
    "### GRADED\n",
    "### YOUR ANSWER BELOW\n",
    "\n",
    "### YOUR SOLUTION HERE\n",
    "ans2 = None\n",
    "\n",
    "### BEGIN SOLUTION\n",
    "ans2 = 572/8.73\n",
    "type(ans2)\n",
    "### END SOLUTION"
   ]
  },
  {
   "cell_type": "code",
   "execution_count": 6,
   "metadata": {},
   "outputs": [
    {
     "name": "stdout",
     "output_type": "stream",
     "text": [
      "Correct!\n"
     ]
    }
   ],
   "source": [
    "### BEGIN HIDDEN TESTS (5)\n",
    "ans2_ = 572/8.73\n",
    "#\n",
    "#\n",
    "import math\n",
    "assert type(ans2_) == type(ans2), \"Don't forget you need to return ans2 as a float.\"\n",
    "assert math.isclose(ans2_, ans2), \"Please make sure you haven't made any typos when defining ans2.\"\n",
    "print(\"Correct!\")\n",
    "### END HIDDEN TESTS"
   ]
  },
  {
   "cell_type": "markdown",
   "metadata": {},
   "source": [
    "## Strings\n",
    "\n",
    "Strings are data types designed to contain single characters or a series of them, such as words or sentences.\n",
    "\n",
    "Note that Python can't guess at the meaning of strings, it just understands strings as sequences of characters. This means that two seemingly equal strings like `\"Hello world\"`, `\"hello world\"`, and `\"hello world \"` (note the extra space at the end) appear to be different to Python, since they are composed of different characters. In this example, for instance, we can see how Python is case-sensitive and how the space is treated like any other character. In the same vein, Python can't solve typos.\n",
    "\n",
    "[Back to top](#Index:)  \n",
    "\n",
    "### Question 3\n",
    "\n",
    "*5 points* \n",
    "\n",
    "Assign the sentence \"I am a student\" as a string to the variable `ans3`."
   ]
  },
  {
   "cell_type": "code",
   "execution_count": 7,
   "metadata": {},
   "outputs": [
    {
     "data": {
      "text/plain": [
       "str"
      ]
     },
     "execution_count": 7,
     "metadata": {},
     "output_type": "execute_result"
    }
   ],
   "source": [
    "### GRADED\n",
    "### YOUR ANSWER BELOW\n",
    "\n",
    "### YOUR SOLUTION HERE\n",
    "ans3 = None\n",
    "\n",
    "### BEGIN SOLUTION\n",
    "ans3 = 'I am a student'\n",
    "type(ans3)\n",
    "### END SOLUTION"
   ]
  },
  {
   "cell_type": "code",
   "execution_count": 8,
   "metadata": {},
   "outputs": [
    {
     "name": "stdout",
     "output_type": "stream",
     "text": [
      "Correct!\n"
     ]
    }
   ],
   "source": [
    "### BEGIN HIDDEN TESTS (5)\n",
    "ans3_ = 'I am a student'\n",
    "#\n",
    "#\n",
    "assert type(ans3_) == type(ans3), \"Don't forget you need to return ans3 as a string.\"\n",
    "assert ans3_ == ans3, \"Please make sure you haven't made any typos when defining ans3.\"\n",
    "print(\"Correct!\")\n",
    "### END HIDDEN TESTS"
   ]
  },
  {
   "cell_type": "markdown",
   "metadata": {},
   "source": [
    "## Converting Data Types\n",
    "\n",
    "As you have learned, int are data types designed to store integer numbers.\n",
    "\n",
    "[Back to top](#Index:) \n",
    "\n",
    "### Question 4\n",
    "\n",
    "*5 points* \n",
    "\n",
    "Take the value of 25.927, convert it to an integer, and assign the result to the variable `ans4`."
   ]
  },
  {
   "cell_type": "code",
   "execution_count": 9,
   "metadata": {},
   "outputs": [
    {
     "data": {
      "text/plain": [
       "25"
      ]
     },
     "execution_count": 9,
     "metadata": {},
     "output_type": "execute_result"
    }
   ],
   "source": [
    "### GRADED\n",
    "### YOUR ANSWER BELOW\n",
    "\n",
    "### YOUR SOLUTION HERE\n",
    "ans4 = None\n",
    "\n",
    "### BEGIN SOLUTION\n",
    "ans4 = int(25.927)\n",
    "int(ans4)\n",
    "### END SOLUTION"
   ]
  },
  {
   "cell_type": "code",
   "execution_count": 10,
   "metadata": {},
   "outputs": [
    {
     "name": "stdout",
     "output_type": "stream",
     "text": [
      "Correct!\n"
     ]
    }
   ],
   "source": [
    "### BEGIN HIDDEN TESTS (5)\n",
    "ans4_ = int(25.927)\n",
    "#\n",
    "#\n",
    "assert type(ans4_) == type(ans4),  \"Don't forget you need to return ans4 as an int.\"\n",
    "assert ans4_ == ans4, \"Please make sure you haven't made any typos when defining ans4.\"\n",
    "print(\"Correct!\")\n",
    "### END HIDDEN TESTS"
   ]
  },
  {
   "cell_type": "markdown",
   "metadata": {},
   "source": [
    "## Lists\n",
    "\n",
    "In Python, a list is a collection of elements which is **ordered** and **mutable** (it can be changed). Lists can contain any data type such as integers, floats, strings, and even other lists.\n",
    "\n",
    "If needed, we can even define a list without any elements in it. This is called an *empty list* and is used when we want to add elements to it in the future.\n",
    "\n",
    "```\n",
    "example_list = [1, 2, 3]\n",
    "empy_list = []\n",
    "```\n",
    "\n",
    "[Back to top](#Index:) \n",
    "\n",
    "### Question 5\n",
    "\n",
    "*5 points* \n",
    "\n",
    "Create a list with the numbers `1,4,9,16,25`, in that order, and assign it to a variable called `list_1`."
   ]
  },
  {
   "cell_type": "code",
   "execution_count": 11,
   "metadata": {},
   "outputs": [
    {
     "name": "stdout",
     "output_type": "stream",
     "text": [
      "<class 'list'>\n"
     ]
    }
   ],
   "source": [
    "### GRADED\n",
    "### YOUR ANSWER BELOW\n",
    "\n",
    "### YOUR SOLUTION HERE\n",
    "list_1 = None\n",
    "\n",
    "### BEGIN SOLUTION\n",
    "list_1 = [1,4,9,16,25]\n",
    "print(type(list_1))\n",
    "### END SOLUTION"
   ]
  },
  {
   "cell_type": "code",
   "execution_count": 12,
   "metadata": {},
   "outputs": [
    {
     "name": "stdout",
     "output_type": "stream",
     "text": [
      "Correct!\n"
     ]
    }
   ],
   "source": [
    "### BEGIN HIDDEN TESTS (5)\n",
    "list_1_ = [1,4,9,16,25]\n",
    "#\n",
    "#\n",
    "assert type(list_1) == type(list_1_),  \"Don't forget that list_1 needs to be a list.\"\n",
    "assert list_1_ == list_1,  \"Please make sure you haven't made any typos when defining list_1.\"\n",
    "print(\"Correct!\")\n",
    "### END HIDDEN TESTS"
   ]
  },
  {
   "cell_type": "markdown",
   "metadata": {},
   "source": [
    "[Back to top](#Index:) \n",
    "\n",
    "### Question 6\n",
    "\n",
    "*5 points* \n",
    "\n",
    "Create a list with the elements: `1, \"Hello\", 14, 5.6`, in that order, and assign it to a variable called `list_2`. "
   ]
  },
  {
   "cell_type": "code",
   "execution_count": 13,
   "metadata": {},
   "outputs": [
    {
     "name": "stdout",
     "output_type": "stream",
     "text": [
      "<class 'list'>\n"
     ]
    }
   ],
   "source": [
    "### GRADED\n",
    "### YOUR ANSWER BELOW\n",
    "\n",
    "### YOUR SOLUTION HERE\n",
    "list_2 = None\n",
    "\n",
    "### BEGIN SOLUTION\n",
    "list_2 = [1, \"Hello\", 14, 5.6]\n",
    "print(type(list_2))\n",
    "### END SOLUTION"
   ]
  },
  {
   "cell_type": "code",
   "execution_count": 14,
   "metadata": {},
   "outputs": [
    {
     "name": "stdout",
     "output_type": "stream",
     "text": [
      "Correct!\n"
     ]
    }
   ],
   "source": [
    "### BEGIN HIDDEN TESTS (5)\n",
    "list_2_ = [1, \"Hello\", 14, 5.6]\n",
    "#\n",
    "#\n",
    "assert type(list_2) == type(list_2_),  \"Don't forget you need to return list_2 as a list.\"\n",
    "assert list_2_ == list_2,  \"Please make sure you haven't made any typos when defining list_2.\"\n",
    "print(\"Correct!\")\n",
    "### END HIDDEN TESTS"
   ]
  },
  {
   "cell_type": "markdown",
   "metadata": {},
   "source": [
    "It is also possible to define nested lists (i.e., a list inside another list). Additionally, lists can have repeated elements.\n",
    "\n",
    "[Back to top](#Index:) \n",
    "\n",
    "### Question 7\n",
    "\n",
    "*5 points* \n",
    "\n",
    "Given `list_3 = [3,4,5]`, create a nested list that includes the elements `\"Columbia\", 11, 24.5, 3, list_3`, in that order, and assign it to a variable called `list_4`."
   ]
  },
  {
   "cell_type": "code",
   "execution_count": 15,
   "metadata": {},
   "outputs": [],
   "source": [
    "### GRADED\n",
    "### YOUR ANSWER BELOW\n",
    "list_3 = [3,4,5]\n",
    "\n",
    "### YOUR SOLUTION HERE\n",
    "list_4 = None\n",
    "\n",
    "### BEGIN SOLUTION\n",
    "list_4 = [\"Columbia\", 11, 24.5, 3, list_3]\n",
    "### END SOLUTION"
   ]
  },
  {
   "cell_type": "code",
   "execution_count": 16,
   "metadata": {},
   "outputs": [
    {
     "name": "stdout",
     "output_type": "stream",
     "text": [
      "Correct!\n"
     ]
    }
   ],
   "source": [
    "### BEGIN HIDDEN TESTS (5)\n",
    "list_3_ = [3,4,5]\n",
    "list_4_ = [\"Columbia\", 11, 24.5, 3, list_3]\n",
    "#\n",
    "#\n",
    "assert type(list_4) == type(list_4_), \"Don't forget you need to return list_4 as a list.\"\n",
    "assert list_4_ == list_4, \"Please make sure you haven't made any typos when defining list_4.\"\n",
    "print(\"Correct!\")\n",
    "### END HIDDEN TESTS"
   ]
  },
  {
   "cell_type": "markdown",
   "metadata": {},
   "source": [
    "You can access the list items by referring to the index number. Remember, Python starts counting from 0, **not 1**. Additionally, negative indexing means beginning from the end: -1 refers to the last item, -2 refers to the second last item, etc.\n",
    "\n",
    "[Back to top](#Index:) \n",
    "\n",
    "### Question 8\n",
    "\n",
    "*5 points* \n",
    "\n",
    "Given `list_5 = [3,4,5,6,7,8,9]`, access the last element of the list and assign it to the variable `list_5_elem`."
   ]
  },
  {
   "cell_type": "code",
   "execution_count": 17,
   "metadata": {},
   "outputs": [],
   "source": [
    "### GRADED\n",
    "list_5 = [3,4,5,6,7,8,9]\n",
    "### YOUR ANSWER BELOW\n",
    "\n",
    "### YOUR SOLUTION HERE\n",
    "list_5_elem = None\n",
    "\n",
    "### BEGIN SOLUTION\n",
    "list_5_elem = list_5[-1]\n",
    "### END SOLUTION"
   ]
  },
  {
   "cell_type": "code",
   "execution_count": 18,
   "metadata": {},
   "outputs": [
    {
     "name": "stdout",
     "output_type": "stream",
     "text": [
      "Correct!\n"
     ]
    }
   ],
   "source": [
    "### BEGIN HIDDEN TESTS (5)\n",
    "list_5_ = [3,4,5,6,7,8,9]\n",
    "list_5_elem_ = list_5_[-1]\n",
    "#\n",
    "#\n",
    "assert list_5_elem_ == list_5_elem, \"Make sure you have assigned to list_5_elem the last element from list_5. You can access the last element by using the index -1.\"\n",
    "print(\"Correct!\")\n",
    "### END HIDDEN TESTS"
   ]
  },
  {
   "cell_type": "markdown",
   "metadata": {},
   "source": [
    "[Back to top](#Index:)  \n",
    "\n",
    "### Question 9\n",
    "\n",
    "*5 points* \n",
    "\n",
    "Define `list_6 = [10,20,30,\"Hello\", 5.82,1,\"student\", \"Python\"]` and delete the third last element on the list."
   ]
  },
  {
   "cell_type": "code",
   "execution_count": 19,
   "metadata": {},
   "outputs": [],
   "source": [
    "### GRADED\n",
    "### YOUR ANSWER BELOW\n",
    "\n",
    "### YOUR SOLUTION HERE\n",
    "list_6 = None\n",
    "\n",
    "### BEGIN SOLUTION\n",
    "list_6 = [10,20,30,\"Hello\", 5.82,1,\"student\", \"Python\"]\n",
    "del list_6[-3]\n",
    "### END SOLUTION"
   ]
  },
  {
   "cell_type": "code",
   "execution_count": 20,
   "metadata": {},
   "outputs": [
    {
     "name": "stdout",
     "output_type": "stream",
     "text": [
      "Correct!\n"
     ]
    }
   ],
   "source": [
    "### BEGIN HIDDEN TESTS (5)\n",
    "list_6_ = [10,20,30,\"Hello\", 5.82,1,\"student\", \"Python\"]\n",
    "del list_6_[-3]\n",
    "#\n",
    "#\n",
    "assert list_6 == list_6_, \"Make sure you have deleted  the last third element in list_3. You can delete an element by using the keyword del \"\n",
    "print(\"Correct!\")\n",
    "### END HIDDEN TESTS"
   ]
  },
  {
   "cell_type": "markdown",
   "metadata": {},
   "source": [
    "## Tuples\n",
    "\n",
    "A tuple is a collection which is **ordered** and **unmutable** (it can't be changed once it has been created). In the same way as lists, tuples allow duplicate members.\n",
    "\n",
    "[Back to top](#Index:) \n",
    "\n",
    "### Question 10\n",
    "\n",
    "*5 points* \n",
    "\n",
    "Create a tuple with elements from 10 to 20 and assign it to the variable 'tuple_1'. Get the first three values and assign them to a variable called `sliced_tuple_1`."
   ]
  },
  {
   "cell_type": "code",
   "execution_count": 21,
   "metadata": {},
   "outputs": [],
   "source": [
    "### GRADED\n",
    "### YOUR ANSWER BELOW\n",
    "\n",
    "### YOUR SOLUTION HERE\n",
    "tuple_1 = None\n",
    "sliced_tuple_1 =None\n",
    "\n",
    "### BEGIN SOLUTION\n",
    "tuple_1 = tuple(range(10,21))\n",
    "sliced_tuple_1 = tuple_1[:3]\n",
    "### END SOLUTION"
   ]
  },
  {
   "cell_type": "code",
   "execution_count": 22,
   "metadata": {},
   "outputs": [
    {
     "name": "stdout",
     "output_type": "stream",
     "text": [
      "Correct!\n"
     ]
    }
   ],
   "source": [
    "### BEGIN HIDDEN TESTS (5)\n",
    "tuple_1_ = tuple(range(10,21))\n",
    "sliced_tuple_1_ = tuple_1_[:3]\n",
    "#\n",
    "#\n",
    "assert type(tuple_1) == type(tuple_1_), \"Don't forget you need to define tuple_1 as a tuple.\"\n",
    "assert type(sliced_tuple_1) == type(sliced_tuple_1_), \"Don't forget you need to define sliced_tuple_1 as a tuple.\"\n",
    "assert tuple_1_ == tuple_1, \"Please make you haven't made any typos when defining tuple_1\"\n",
    "assert sliced_tuple_1_ == sliced_tuple_1, \"Recall how to slice the first three elements of tuple\"\n",
    "print(\"Correct!\")\n",
    "### END HIDDEN TESTS"
   ]
  },
  {
   "cell_type": "markdown",
   "metadata": {},
   "source": [
    "## Dictionaries\n",
    "\n",
    "A very important data type in Python is dictonary. A dictionary is a collection which is mutable and indexed (we access its elements using a key, instead their position in the dictionary). \n",
    "\n",
    "A dictionary holds a `key: value` pair. Each key and its corresponding value are separated by a `:`, whereas each key-value pair in the dictionary is separated by a `,`. Keys in a dictonary must be unique, but values can repeat themselves.\n",
    "\n",
    "```\n",
    "{key1: value1, key2: value2, ..., keyN: valueN}\n",
    "```\n",
    "\n",
    "As with lists, *empty dictionaries* can also be defined for later use if we don't fill them with any value.\n",
    "```\n",
    "empty_dict = {}\n",
    "```\n",
    "\n",
    "[Back to top](#Index:) \n",
    "\n",
    "### Question 11\n",
    "\n",
    "*5 points* \n",
    "\n",
    "Create a dictionary with a key \"name\" with value \"Andrew\" and a key \"age\" with value 25. Assign it to a variable called `dict_1`."
   ]
  },
  {
   "cell_type": "code",
   "execution_count": 23,
   "metadata": {},
   "outputs": [],
   "source": [
    "### GRADED\n",
    "### YOUR ANSWER BELOW\n",
    "\n",
    "### YOUR SOLUTION HERE\n",
    "dict_1 = None\n",
    "\n",
    "### BEGIN SOLUTION\n",
    "dict_1 = {\"name\":\"Andrew\", \"age\":25}\n",
    "### END SOLUTION"
   ]
  },
  {
   "cell_type": "code",
   "execution_count": 24,
   "metadata": {},
   "outputs": [
    {
     "name": "stdout",
     "output_type": "stream",
     "text": [
      "Correct!\n"
     ]
    }
   ],
   "source": [
    "### BEGIN HIDDEN TESTS (5)\n",
    "dict_1_ = {\"name\":\"Andrew\", \"age\":25}\n",
    "#\n",
    "#\n",
    "assert type(dict_1) ==  type(dict_1_), \"Don't forget you need to define dict_1 as a dictonary.\"\n",
    "assert dict_1_ == dict_1,\"Please make sure you haven't made any typos when defining dict_1\"\n",
    "print(\"Correct!\")\n",
    "### END HIDDEN TESTS"
   ]
  },
  {
   "cell_type": "markdown",
   "metadata": {},
   "source": [
    "[Back to top](#Index:) \n",
    "\n",
    "### Question 12\n",
    "\n",
    "*5 points* \n",
    "\n",
    "Create a new key `\"city\"` in `dict_1` and assign the value `\"Seattle\"` to it."
   ]
  },
  {
   "cell_type": "code",
   "execution_count": 25,
   "metadata": {},
   "outputs": [],
   "source": [
    "### GRADED\n",
    "### YOUR ANSWER BELOW\n",
    "\n",
    "### YOUR SOLUTION HERE\n",
    "\n",
    "### BEGIN SOLUTION\n",
    "dict_1[\"city\"] = \"Seattle\" \n",
    "### END SOLUTION"
   ]
  },
  {
   "cell_type": "code",
   "execution_count": 26,
   "metadata": {},
   "outputs": [
    {
     "name": "stdout",
     "output_type": "stream",
     "text": [
      "Correct!\n"
     ]
    }
   ],
   "source": [
    "### BEGIN HIDDEN TESTS (5)\n",
    "dict_1_[\"city\"] = \"Seattle\" \n",
    "#\n",
    "#\n",
    "assert type(dict_1) ==  type(dict_1_),  \"Don't forget you need to define dict_1 as a dictonary.\"\n",
    "assert dict_1_ == dict_1, \"Remember that you can create a new key in a dicotnary by using square brackets and by assigning the desired value to it.\"\n",
    "print(\"Correct!\")\n",
    "### END HIDDEN TESTS"
   ]
  },
  {
   "cell_type": "markdown",
   "metadata": {},
   "source": [
    "[Back to top](#Index:) \n",
    "\n",
    "### Question 13\n",
    "\n",
    "*5 points* \n",
    "\n",
    "Change the value of `\"city\"` to `\"New York\"` in `dict_1`. "
   ]
  },
  {
   "cell_type": "code",
   "execution_count": 27,
   "metadata": {},
   "outputs": [],
   "source": [
    "### GRADED\n",
    "### YOUR ANSWER BELOW\n",
    "\n",
    "### YOUR SOLUTION HERE\n",
    "\n",
    "### BEGIN SOLUTION\n",
    "dict_1[\"city\"] = \"New York\"\n",
    "### END SOLUTION"
   ]
  },
  {
   "cell_type": "code",
   "execution_count": 28,
   "metadata": {},
   "outputs": [
    {
     "name": "stdout",
     "output_type": "stream",
     "text": [
      "Correct!\n"
     ]
    }
   ],
   "source": [
    "### BEGIN HIDDEN TESTS (5)\n",
    "dict_1_[\"city\"] = \"New York\" \n",
    "#\n",
    "#\n",
    "#\n",
    "assert type(dict_1) ==  type(dict_1_),  \"Don't forget you need to define dict_1 as a dictonary.\"\n",
    "assert dict_1_ == dict_1, \"Remember that you can select a key in a dictionary using square brackets. You can change the value assigned to a key using the = sign.\"\n",
    "print(\"Correct!\")\n",
    "### END HIDDEN TESTS"
   ]
  },
  {
   "cell_type": "markdown",
   "metadata": {},
   "source": [
    "## %subtitle_2%\n",
    "\n",
    "In the second part of this assignment, we will be testing your knowledge of the topics covered in Module 3, such as Python built-in functions, user-defined functions loops, and conditional statements.\n",
    "\n",
    "\n",
    "## Methods Scripts\n",
    "\n",
    "A function is a bundle of code which only runs when it is called. Python comes with many built-in functions. You can find a list of the functions that come with Python [here]( https://docs.python.org/3/library/stdtypes.html)."
   ]
  },
  {
   "cell_type": "markdown",
   "metadata": {},
   "source": [
    "[Back to top](#Index:) \n",
    "\n",
    "### Question 14\n",
    "\n",
    "*5 points* \n",
    "\n",
    "Assign -25.82 to the variable `ans14` and take the absolute value."
   ]
  },
  {
   "cell_type": "code",
   "execution_count": 29,
   "metadata": {},
   "outputs": [],
   "source": [
    "### GRADED\n",
    "### YOUR ANSWER BELOW\n",
    "\n",
    "### YOUR SOLUTION HERE\n",
    "ans14 = None\n",
    "\n",
    "### BEGIN SOLUTION\n",
    "ans14 = -25.82\n",
    "ans14 = abs(ans14)\n",
    "### END SOLUTION"
   ]
  },
  {
   "cell_type": "code",
   "execution_count": 30,
   "metadata": {},
   "outputs": [
    {
     "name": "stdout",
     "output_type": "stream",
     "text": [
      "Correct!\n"
     ]
    }
   ],
   "source": [
    "### BEGIN HIDDEN TESTS (5)\n",
    "ans14_ = -25.82\n",
    "ans14_ = abs(ans14)\n",
    "#\n",
    "#\n",
    "import math\n",
    "assert math.isclose(ans14, ans14_), \"To take the absolute value of a variable you can use the built-in function abs()\"\n",
    "print(\"Correct!\")\n",
    "### END HIDDEN TESTS"
   ]
  },
  {
   "cell_type": "markdown",
   "metadata": {},
   "source": [
    "[Back to top](#Index:) \n",
    "\n",
    "### Question 15\n",
    "\n",
    "*5 points* \n",
    "\n",
    "Assign the string \"I live in the US\" to the variable `ans15`. Next, using the appropriate string method, change all the characters to lower-case letters. Don't forget to assing the result of this operation back to `ans15`."
   ]
  },
  {
   "cell_type": "code",
   "execution_count": 31,
   "metadata": {},
   "outputs": [
    {
     "data": {
      "text/plain": [
       "'i live in the us'"
      ]
     },
     "execution_count": 31,
     "metadata": {},
     "output_type": "execute_result"
    }
   ],
   "source": [
    "### GRADED\n",
    "### YOUR ANSWER BELOW\n",
    "\n",
    "### YOUR SOLUTION HERE\n",
    "ans15 = None\n",
    "\n",
    "### BEGIN SOLUTION\n",
    "ans15 = 'I live in the US'\n",
    "ans15 = ans15.lower()\n",
    "ans15\n",
    "### END SOLUTION"
   ]
  },
  {
   "cell_type": "code",
   "execution_count": 32,
   "metadata": {},
   "outputs": [
    {
     "name": "stdout",
     "output_type": "stream",
     "text": [
      "Correct!\n"
     ]
    }
   ],
   "source": [
    "### BEGIN HIDDEN TESTS (5)\n",
    "ans15_ = 'I live in the US'\n",
    "ans15_ = ans15_.lower()\n",
    "#\n",
    "#\n",
    "assert ans15_ == ans15, \"You can change the characters in a string to lower-case by using the built-in funtion lower()\"\n",
    "print(\"Correct!\")\n",
    "### END HIDDEN TESTS"
   ]
  },
  {
   "cell_type": "markdown",
   "metadata": {},
   "source": [
    "## Conditional if statements\n",
    "\n",
    "\n",
    "Sometimes you want your function to do one thing under one condition and another thing under another condition. We can specify this in the function body using the keywords `if`, `else`, and `elif`. "
   ]
  },
  {
   "cell_type": "markdown",
   "metadata": {},
   "source": [
    "[Back to top](#Index:) \n",
    "\n",
    "### Question 16\n",
    "\n",
    "*5 points* \n",
    "\n",
    "Given `num_1`, `num_2`, and the list `values`, write a program that appends the boolean `True` to `values` if `num_1` is less than 0, and appends `False` to values if `num_2` is greater than 0."
   ]
  },
  {
   "cell_type": "code",
   "execution_count": 33,
   "metadata": {},
   "outputs": [],
   "source": [
    "### GRADED\n",
    "\n",
    "num_1 = -738.9\n",
    "num_2 = 11\n",
    "values = []\n",
    "\n",
    "### YOUR SOLUTION HERE\n",
    "\n",
    "### BEGIN SOLUTION\n",
    "if num_1 < 0:\n",
    "    values.append(True)\n",
    "if num_2 > 0:\n",
    "    values.append(False)\n",
    "### END SOLUTION"
   ]
  },
  {
   "cell_type": "code",
   "execution_count": 34,
   "metadata": {},
   "outputs": [
    {
     "name": "stdout",
     "output_type": "stream",
     "text": [
      "Correct!\n"
     ]
    }
   ],
   "source": [
    "### BEGIN HIDDEN TESTS (5)\n",
    "values_ = [True, False]\n",
    "#\n",
    "#\n",
    "assert type(values) == type(values_), \"values is not a list\"\n",
    "assert values_ == values, \"You can combine two if statements and the built-in function append() to add the desired elements to an emtpy list\"\n",
    "print(\"Correct!\")\n",
    "### END HIDDEN TESTS"
   ]
  },
  {
   "cell_type": "markdown",
   "metadata": {},
   "source": [
    "## Foor loops\n",
    "\n",
    "For loops work on iterable objects.  An iterable object is an object that returns its members one at a time. \n",
    "\n",
    "\n",
    "[Back to top](#Index:) \n",
    "\n",
    "Another basic operator in Python is the remainder function. The corresponding symbol is `%`. This function returns the remainder when first operand is divided by the second\n",
    "\n",
    "### Question 17\n",
    "\n",
    "*10 points* \n",
    "\n",
    "Create a program that iterates using a **for loop** over all values of `list_mod`. The program must check each value and append the boolean `True` to the list `result` if the value is even or append the boolean `False` to the list result otherwise."
   ]
  },
  {
   "cell_type": "code",
   "execution_count": 35,
   "metadata": {},
   "outputs": [],
   "source": [
    "### GRADED\n",
    "### YOUR ANSWER BELOW\n",
    "\n",
    "list_mod = list(range(1,15))\n",
    "result = []\n",
    "\n",
    "### YOUR SOLUTION HERE\n",
    "\n",
    "### BEGIN SOLUTION\n",
    "for number in list_mod:\n",
    "    if number % 2 == 0:\n",
    "        result.append(True)\n",
    "    else:\n",
    "        result.append(False)\n",
    "### END SOLUTION"
   ]
  },
  {
   "cell_type": "code",
   "execution_count": 36,
   "metadata": {},
   "outputs": [
    {
     "name": "stdout",
     "output_type": "stream",
     "text": [
      "Correct!\n"
     ]
    }
   ],
   "source": [
    "### BEGIN HIDDEN TESTS (10)\n",
    "list_mod_ = list(range(1,15))\n",
    "result_ = []\n",
    "for number in list_mod_:\n",
    "    if number % 2 == 0:\n",
    "        result_.append(True)\n",
    "    else:\n",
    "        result_.append(False)\n",
    "#\n",
    "#\n",
    "assert type(result) == type(result_), \"result is not a list\"\n",
    "assert result_ == result, \"You need to iterate over list_mod using a for loop. Next, use conditional if/else statements to check whether a number is even or odd. Finally, add elements to your list with the built-in functions append().\"\n",
    "print(\"Correct!\")\n",
    "### END HIDDEN TESTS"
   ]
  },
  {
   "cell_type": "markdown",
   "metadata": {},
   "source": [
    "[Back to top](#Index:) \n",
    "\n",
    "### Question 18\n",
    "\n",
    "*10 points*  \n",
    "\n",
    "Given the list `time`, with elements from 7 to 24, use a **for loop** to iterate over it and create a program that appends the string `\"Good morning\"` to `result_time` if the element in the list `time` is less than or equal to 12, appends `\"Good afternoon\"` if the element is grater than 12 and less than 20, and appends `\"Good night\"` otherwise."
   ]
  },
  {
   "cell_type": "code",
   "execution_count": 37,
   "metadata": {},
   "outputs": [],
   "source": [
    "### GRADED\n",
    "### YOUR ANSWER BELOW\n",
    "\n",
    "time = list(range(7,25))\n",
    "result_time = []\n",
    "\n",
    "### YOUR SOLUTION HERE\n",
    "\n",
    "### BEGIN SOLUTION\n",
    "for hour in time:\n",
    "    if hour <= 12:\n",
    "        result_time.append(\"Good morning\")\n",
    "    elif hour < 20:\n",
    "        result_time.append(\"Good afternoon\")\n",
    "    else:\n",
    "        result_time.append(\"Good night\")\n",
    "### END SOLUTION"
   ]
  },
  {
   "cell_type": "code",
   "execution_count": 38,
   "metadata": {},
   "outputs": [
    {
     "name": "stdout",
     "output_type": "stream",
     "text": [
      "Correct!\n"
     ]
    }
   ],
   "source": [
    "### BEGIN HIDDEN TESTS(10)\n",
    "time_ = list(range(7,25))\n",
    "result_time_ = []\n",
    "\n",
    "for hour in time_:\n",
    "    if hour <= 12:\n",
    "        result_time_.append(\"Good morning\")\n",
    "    elif hour < 20:\n",
    "        result_time_.append(\"Good afternoon\")\n",
    "    else:\n",
    "        result_time_.append(\"Good night\")\n",
    "#\n",
    "#\n",
    "#\n",
    "assert type(result_time) == type(result_time_)\n",
    "assert result_time_ == result_time, \"You need to iterate over list_mod using a for loop. Next, combine if/else statements with the append() function to add elements to your list result_time.\"\n",
    "print(\"Correct!\")\n",
    "### END HIDDEN TESTS"
   ]
  },
  {
   "cell_type": "markdown",
   "metadata": {},
   "source": [
    "## User-defined Functions\n",
    "\n",
    "As you write more complicated code, built-in Python functions won't be enough. For this reason, Python allows you to create user-defined function. Function are defined using the `def` keyword followed by the name of the function and the arguments you need to pass.\n",
    "\n",
    "\n",
    "Arguments are specified after the function name, inside parentheses and a colon is needed after the arguments. You can add as many arguments as you want, just separate them with a comma. Finally, after you wrote the block of instructions you want your function to perform, return a value using the `return` keyword. This will make that value accessible outside the function. Note that the bundle of instructions and the return statement need to be **indented**."
   ]
  },
  {
   "cell_type": "markdown",
   "metadata": {},
   "source": [
    "[Back to top](#Index:) \n",
    "\n",
    "### Question 19\n",
    "\n",
    "*10 points* \n",
    "\n",
    "Create a function called `validate` that takes a number as an argument and checks whether it's even. If it's even, return the string `\"even\"`; if it's odd, return the string `\"odd\"`. Keep in mind that, in Python strings, case-sensitivity matters."
   ]
  },
  {
   "cell_type": "code",
   "execution_count": 39,
   "metadata": {},
   "outputs": [],
   "source": [
    "### GRADED\n",
    "### YOUR ANSWER BELOW\n",
    "\n",
    "### YOUR SOLUTION HERE\n",
    "def validate(x):\n",
    "    return\n",
    "\n",
    "### BEGIN SOLUTION\n",
    "def validate(x):\n",
    "    if x % 2 == 0: \n",
    "        return \"even\"\n",
    "    else: \n",
    "        return \"odd\"\n",
    "### END SOLUTION"
   ]
  },
  {
   "cell_type": "code",
   "execution_count": 40,
   "metadata": {},
   "outputs": [
    {
     "name": "stdout",
     "output_type": "stream",
     "text": [
      "Correct!\n"
     ]
    }
   ],
   "source": [
    "### BEGIN HIDDEN TESTS(10)\n",
    "def validate_(x):\n",
    "    if x % 2 == 0: \n",
    "        return \"even\"\n",
    "    else: \n",
    "        return \"odd\"\n",
    "#\n",
    "#\n",
    "#\n",
    "assert validate_(10) == validate(10), \"Make sure you have defined your function without any errors. You can compute the remainder of a division using the % operator\"\n",
    "assert validate_(7) == validate(7),  \"Make sure you have defined your function without any errors. You can compute the remainder of a division  using the % operator\"\n",
    "print(\"Correct!\")\n",
    "### END HIDDEN TESTS"
   ]
  },
  {
   "cell_type": "markdown",
   "metadata": {},
   "source": [
    "[Back to top](#Index:) \n",
    "\n",
    "### Question 20\n",
    "\n",
    "*10 points*  \n",
    "\n",
    "Create a function called `abs_value` that takes a number as an argument and returns its absolute value."
   ]
  },
  {
   "cell_type": "code",
   "execution_count": 41,
   "metadata": {},
   "outputs": [],
   "source": [
    "### GRADED\n",
    "### YOUR ANSWER BELOW\n",
    "\n",
    "### YOUR SOLUTION HERE\n",
    "def abs_value(x):\n",
    "    return\n",
    "\n",
    "### BEGIN SOLUTION\n",
    "def abs_value(x):\n",
    "    if x >= 0:\n",
    "        return x\n",
    "    else:\n",
    "        return -x\n",
    "\n",
    "### END SOLUTION"
   ]
  },
  {
   "cell_type": "code",
   "execution_count": 42,
   "metadata": {},
   "outputs": [
    {
     "name": "stdout",
     "output_type": "stream",
     "text": [
      "Correct!\n"
     ]
    }
   ],
   "source": [
    "### BEGIN HIDDEN TESTS(10)\n",
    "def abs_value_(num):\n",
    "    if num >= 0:\n",
    "        return num\n",
    "    else:\n",
    "        return -num\n",
    "#\n",
    "#\n",
    "#\n",
    "assert abs_value_(10) == abs_value(10), \"Make sure you have defined your function without any errors. You can use an if/else statement to check whether you need to return x or -x.\"\n",
    "assert abs_value_(-5) == abs_value(-5), \"Make sure you have defined your function without any errors. You can use an if/else statement to check whether you need to return x or -x.\"\n",
    "assert abs_value_(0) == abs_value(0),  \"Make sure you have defined your function without any errors. You can use an if/else statement to check whether you need to return x or -x.\"\n",
    "print(\"Correct!\")\n",
    "### END HIDDEN TESTS"
   ]
  }
 ],
 "metadata": {
  "kernelspec": {
   "display_name": "Python 3",
   "language": "python",
   "name": "python3"
  },
  "language_info": {
   "codemirror_mode": {
    "name": "ipython",
    "version": 3
   },
   "file_extension": ".py",
   "mimetype": "text/x-python",
   "name": "python",
   "nbconvert_exporter": "python",
   "pygments_lexer": "ipython3",
   "version": "3.7.3"
  }
 },
 "nbformat": 4,
 "nbformat_minor": 4
}
