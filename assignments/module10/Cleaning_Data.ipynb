{
 "cells": [
  {
   "cell_type": "markdown",
   "metadata": {},
   "source": [
    "# %title%\n",
    "\n",
    "**_Author: Jessica Cervi_**\n",
    "\n",
    "**Expected time = %expected_time%**\n",
    "\n",
    "**Total points = 45 points**"
   ]
  },
  {
   "cell_type": "markdown",
   "metadata": {},
   "source": [
    "    \n",
    "## Assignment Overview\n",
    "\n",
    "\n",
    "In this assignment you will work with the pandas concepts you learned to examine and clean Data in a DataFrame.  You will use the concept of Tidy Data and to explore different ways of cleaning Data, such as filling in missing values or getting rid of duplicates. \n",
    "\n",
    "\n",
    "This assignment is designed to build your familiarity and comfort coding in Python while also helping you review key topics from each module. As you progress through the assignment, answers will get increasingly complex. It is important that you adopt a data scientist's mindset when completing this assignment. **Remember to run your code from each cell before submitting your assignment.** Running your code beforehand will notify you of errors and give you a chance to fix your errors before submitting. You should view your Vocareum submission as if you are delivering a final project to your manager or client. \n",
    "\n",
    "***Vocareum Tips***\n",
    "- Do not add arguments or options to functions unless you are specifically asked to. This will cause an error in Vocareum.\n",
    "- Do not use a library unless you are expicitly asked to in the question. \n",
    "- You can download the Grading Report after submitting the assignment. This will include feedback and hints on incorrect questions. \n",
    "\n",
    "\n",
    "### Learning Objectives\n",
    "\n",
    "- Examine and clean data to prepare data  for analysis.  \n",
    "- Describe the key components of Tidy Data. \n",
    "- Practice cleaning data across data types. \n",
    " "
   ]
  },
  {
   "cell_type": "markdown",
   "metadata": {},
   "source": [
    "## Index:\n",
    "\n",
    "\n",
    "#### %title%\n",
    "\n",
    "- [Question 1](#Question-1)\n",
    "- [Question 2](#Question-2)\n",
    "- [Question 3](#Question-3)\n",
    "- [Question 4](#Question-4)\n",
    "- [Question 5](#Question-5)\n",
    "- [Question 6](#Question-6)\n",
    "- [Question 7](#Question-7)\n",
    "- [Question 8](#Question-8)\n",
    "- [Question 9](#Question-9)"
   ]
  },
  {
   "cell_type": "markdown",
   "metadata": {},
   "source": [
    "## %title%\n",
    "\n",
    "In this assignment you will examine and clean data using pandas. You will also use the Tidy Data framework as you solve new data cleaning problems. In this assignment we will use a dataset that describes sample grading of the students in a course.It includes columns for the enrollment numbers in each course and grades for each assignment. More detailed information about the dataset can be found [here](https://www.kaggle.com/tanmoyie/grading-of-the-students-in-the-exam-or).\n",
    "\n",
    "\n",
    "\n",
    "### Inspecting your Data\n",
    "\n",
    "We will begin this assignment by inspecting the data. In this step, we want to visualize the data and look for ways to make the dataset more usable for our research questions. We will rename the Class Roll column to Enrollment, which may help us remember what this represents. We will then convert the entries of the Enrollment column from integers to floats. \n",
    "\n",
    "We will review the attributes .shape, .info and .columns\n"
   ]
  },
  {
   "cell_type": "markdown",
   "metadata": {},
   "source": [
    "We will begin by importing the necessary libraries for this assignment and by reading the dataset."
   ]
  },
  {
   "cell_type": "code",
   "execution_count": 1,
   "metadata": {},
   "outputs": [],
   "source": [
    "import pandas as pd\n",
    "import numpy as np\n",
    "\n",
    "df = pd.read_csv(\"./data/grading.csv\")"
   ]
  },
  {
   "cell_type": "markdown",
   "metadata": {},
   "source": [
    "Next, we will use the command `.head()` to visualize the first 10 rows of our DataFrame"
   ]
  },
  {
   "cell_type": "code",
   "execution_count": 2,
   "metadata": {},
   "outputs": [
    {
     "data": {
      "text/html": [
       "<div>\n",
       "<style scoped>\n",
       "    .dataframe tbody tr th:only-of-type {\n",
       "        vertical-align: middle;\n",
       "    }\n",
       "\n",
       "    .dataframe tbody tr th {\n",
       "        vertical-align: top;\n",
       "    }\n",
       "\n",
       "    .dataframe thead th {\n",
       "        text-align: right;\n",
       "    }\n",
       "</style>\n",
       "<table border=\"1\" class=\"dataframe\">\n",
       "  <thead>\n",
       "    <tr style=\"text-align: right;\">\n",
       "      <th></th>\n",
       "      <th>Class Roll</th>\n",
       "      <th>CT-1 (Marks: 20)</th>\n",
       "      <th>CT-2 (Marks: 20)</th>\n",
       "      <th>CT-3 (Marks: 20)</th>\n",
       "      <th>CT-4 (Marks: 20)</th>\n",
       "      <th>CT-5 (Marks: 20)</th>\n",
       "      <th>Class Test (Total of best 4, Marks: 80)</th>\n",
       "      <th>Attendance (Marks: 20)</th>\n",
       "      <th>Observation (Marks: 20)</th>\n",
       "      <th>Total (Marks: 120)</th>\n",
       "      <th>Sec A (140)</th>\n",
       "      <th>Sec B</th>\n",
       "      <th>Final Mark</th>\n",
       "    </tr>\n",
       "  </thead>\n",
       "  <tbody>\n",
       "    <tr>\n",
       "      <th>0</th>\n",
       "      <td>100</td>\n",
       "      <td>8.5</td>\n",
       "      <td>2.0</td>\n",
       "      <td>11</td>\n",
       "      <td>12.0</td>\n",
       "      <td>16.0</td>\n",
       "      <td>47.5</td>\n",
       "      <td>20</td>\n",
       "      <td>17</td>\n",
       "      <td>84.5</td>\n",
       "      <td>57</td>\n",
       "      <td>93.0</td>\n",
       "      <td>58.625</td>\n",
       "    </tr>\n",
       "    <tr>\n",
       "      <th>1</th>\n",
       "      <td>101</td>\n",
       "      <td>7.0</td>\n",
       "      <td>3.0</td>\n",
       "      <td>9</td>\n",
       "      <td>15.0</td>\n",
       "      <td>11.0</td>\n",
       "      <td>42.0</td>\n",
       "      <td>20</td>\n",
       "      <td>8</td>\n",
       "      <td>70.0</td>\n",
       "      <td>83</td>\n",
       "      <td>55.0</td>\n",
       "      <td>52.000</td>\n",
       "    </tr>\n",
       "    <tr>\n",
       "      <th>2</th>\n",
       "      <td>102</td>\n",
       "      <td>11.5</td>\n",
       "      <td>3.0</td>\n",
       "      <td>14</td>\n",
       "      <td>14.0</td>\n",
       "      <td>9.0</td>\n",
       "      <td>48.5</td>\n",
       "      <td>20</td>\n",
       "      <td>14</td>\n",
       "      <td>82.5</td>\n",
       "      <td>77</td>\n",
       "      <td>69.0</td>\n",
       "      <td>57.125</td>\n",
       "    </tr>\n",
       "    <tr>\n",
       "      <th>3</th>\n",
       "      <td>103</td>\n",
       "      <td>6.0</td>\n",
       "      <td>4.0</td>\n",
       "      <td>12</td>\n",
       "      <td>16.0</td>\n",
       "      <td>13.0</td>\n",
       "      <td>47.0</td>\n",
       "      <td>20</td>\n",
       "      <td>15</td>\n",
       "      <td>82.0</td>\n",
       "      <td>enter first 2 digits of ur roll number</td>\n",
       "      <td>88.0</td>\n",
       "      <td>42.500</td>\n",
       "    </tr>\n",
       "    <tr>\n",
       "      <th>4</th>\n",
       "      <td>104</td>\n",
       "      <td>8.0</td>\n",
       "      <td>4.5</td>\n",
       "      <td>15</td>\n",
       "      <td>0.0</td>\n",
       "      <td>14.0</td>\n",
       "      <td>41.5</td>\n",
       "      <td>20</td>\n",
       "      <td>12</td>\n",
       "      <td>73.5</td>\n",
       "      <td>71</td>\n",
       "      <td>31.0</td>\n",
       "      <td>43.875</td>\n",
       "    </tr>\n",
       "    <tr>\n",
       "      <th>5</th>\n",
       "      <td>105</td>\n",
       "      <td>12.0</td>\n",
       "      <td>5.0</td>\n",
       "      <td>12</td>\n",
       "      <td>14.0</td>\n",
       "      <td>13.0</td>\n",
       "      <td>51.0</td>\n",
       "      <td>20</td>\n",
       "      <td>10</td>\n",
       "      <td>81.0</td>\n",
       "      <td>68</td>\n",
       "      <td>93.0</td>\n",
       "      <td>60.500</td>\n",
       "    </tr>\n",
       "    <tr>\n",
       "      <th>6</th>\n",
       "      <td>106</td>\n",
       "      <td>14.0</td>\n",
       "      <td>NaN</td>\n",
       "      <td>14</td>\n",
       "      <td>15.0</td>\n",
       "      <td>18.0</td>\n",
       "      <td>61.0</td>\n",
       "      <td>20</td>\n",
       "      <td>18</td>\n",
       "      <td>99.0</td>\n",
       "      <td>110</td>\n",
       "      <td>86.0</td>\n",
       "      <td>73.750</td>\n",
       "    </tr>\n",
       "    <tr>\n",
       "      <th>7</th>\n",
       "      <td>107</td>\n",
       "      <td>3.5</td>\n",
       "      <td>5.0</td>\n",
       "      <td>8</td>\n",
       "      <td>NaN</td>\n",
       "      <td>13.0</td>\n",
       "      <td>40.0</td>\n",
       "      <td>20</td>\n",
       "      <td>10</td>\n",
       "      <td>70.0</td>\n",
       "      <td>67</td>\n",
       "      <td>11.0</td>\n",
       "      <td>37.000</td>\n",
       "    </tr>\n",
       "    <tr>\n",
       "      <th>8</th>\n",
       "      <td>108</td>\n",
       "      <td>14.0</td>\n",
       "      <td>5.0</td>\n",
       "      <td>0</td>\n",
       "      <td>16.0</td>\n",
       "      <td>7.0</td>\n",
       "      <td>42.0</td>\n",
       "      <td>16</td>\n",
       "      <td>10</td>\n",
       "      <td>68.0</td>\n",
       "      <td>49</td>\n",
       "      <td>58.0</td>\n",
       "      <td>43.750</td>\n",
       "    </tr>\n",
       "    <tr>\n",
       "      <th>9</th>\n",
       "      <td>109</td>\n",
       "      <td>1.0</td>\n",
       "      <td>5.0</td>\n",
       "      <td>0</td>\n",
       "      <td>0.0</td>\n",
       "      <td>2.0</td>\n",
       "      <td>8.0</td>\n",
       "      <td>20</td>\n",
       "      <td>10</td>\n",
       "      <td>38.0</td>\n",
       "      <td>88</td>\n",
       "      <td>79.0</td>\n",
       "      <td>51.250</td>\n",
       "    </tr>\n",
       "  </tbody>\n",
       "</table>\n",
       "</div>"
      ],
      "text/plain": [
       "   Class Roll  CT-1 (Marks: 20)  CT-2 (Marks: 20)  CT-3 (Marks: 20)  \\\n",
       "0         100               8.5               2.0                11   \n",
       "1         101               7.0               3.0                 9   \n",
       "2         102              11.5               3.0                14   \n",
       "3         103               6.0               4.0                12   \n",
       "4         104               8.0               4.5                15   \n",
       "5         105              12.0               5.0                12   \n",
       "6         106              14.0               NaN                14   \n",
       "7         107               3.5               5.0                 8   \n",
       "8         108              14.0               5.0                 0   \n",
       "9         109               1.0               5.0                 0   \n",
       "\n",
       "   CT-4 (Marks: 20)  CT-5 (Marks: 20)  \\\n",
       "0              12.0              16.0   \n",
       "1              15.0              11.0   \n",
       "2              14.0               9.0   \n",
       "3              16.0              13.0   \n",
       "4               0.0              14.0   \n",
       "5              14.0              13.0   \n",
       "6              15.0              18.0   \n",
       "7               NaN              13.0   \n",
       "8              16.0               7.0   \n",
       "9               0.0               2.0   \n",
       "\n",
       "   Class Test (Total of best 4, Marks: 80)  Attendance (Marks: 20)  \\\n",
       "0                                     47.5                      20   \n",
       "1                                     42.0                      20   \n",
       "2                                     48.5                      20   \n",
       "3                                     47.0                      20   \n",
       "4                                     41.5                      20   \n",
       "5                                     51.0                      20   \n",
       "6                                     61.0                      20   \n",
       "7                                     40.0                      20   \n",
       "8                                     42.0                      16   \n",
       "9                                      8.0                      20   \n",
       "\n",
       "   Observation (Marks: 20)  Total (Marks: 120)  \\\n",
       "0                       17                84.5   \n",
       "1                        8                70.0   \n",
       "2                       14                82.5   \n",
       "3                       15                82.0   \n",
       "4                       12                73.5   \n",
       "5                       10                81.0   \n",
       "6                       18                99.0   \n",
       "7                       10                70.0   \n",
       "8                       10                68.0   \n",
       "9                       10                38.0   \n",
       "\n",
       "                              Sec A (140)  Sec B  Final Mark  \n",
       "0                                      57   93.0      58.625  \n",
       "1                                      83   55.0      52.000  \n",
       "2                                      77   69.0      57.125  \n",
       "3  enter first 2 digits of ur roll number   88.0      42.500  \n",
       "4                                      71   31.0      43.875  \n",
       "5                                      68   93.0      60.500  \n",
       "6                                     110   86.0      73.750  \n",
       "7                                      67   11.0      37.000  \n",
       "8                                      49   58.0      43.750  \n",
       "9                                      88   79.0      51.250  "
      ]
     },
     "execution_count": 2,
     "metadata": {},
     "output_type": "execute_result"
    }
   ],
   "source": [
    "df.head(10)"
   ]
  },
  {
   "cell_type": "markdown",
   "metadata": {},
   "source": [
    "[Back to top](#Index:) \n",
    "\n",
    "### Question 1\n",
    "*5 points*\n",
    "\n",
    "Retrieve the number of rows of the DataFrame df and assign the value as an integer to ans1."
   ]
  },
  {
   "cell_type": "code",
   "execution_count": 3,
   "metadata": {},
   "outputs": [],
   "source": [
    "### GRADED\n",
    "\n",
    "### YOUR SOLUTION HERE\n",
    "ans1 = None \n",
    "\n",
    "### BEGIN SOLUTION\n",
    "ans1 = df.shape[0]\n",
    "### END SOLUTION"
   ]
  },
  {
   "cell_type": "code",
   "execution_count": 4,
   "metadata": {},
   "outputs": [
    {
     "name": "stdout",
     "output_type": "stream",
     "text": [
      "Correct!\n"
     ]
    }
   ],
   "source": [
    "### BEGIN HIDDEN TESTS (5)\n",
    "ans1_= df.shape[0]\n",
    "#\n",
    "#\n",
    "#\n",
    "assert ans1 == ans1_, \"Remember that the dimensions of a DataFrame are returned as a tuple by the attribute .shape\"\n",
    "print(\"Correct!\")\n",
    "### END HIDDEN TESTS"
   ]
  },
  {
   "cell_type": "markdown",
   "metadata": {},
   "source": [
    "[Back to top](#Index:) \n",
    "\n",
    "### Question 2\n",
    "    \n",
    "*5 points*\n",
    "\n",
    "What does the attribute `.columns` return? \n",
    "- a) A dictionary that has column labels as keys and the mean of each column as values. \n",
    "- b) The number of columns in the DataFrame.\n",
    "- c) The column labels of the DataFrame.\n",
    "- d) An empty DataFrame with the column labels.\n",
    "\n",
    "Assign the letter corresponding to your choice as a string to `ans2`."
   ]
  },
  {
   "cell_type": "code",
   "execution_count": 5,
   "metadata": {},
   "outputs": [],
   "source": [
    "### GRADED\n",
    "\n",
    "### YOUR SOLUTION HERE\n",
    "ans2 = None \n",
    "\n",
    "### BEGIN SOLUTION\n",
    "ans2 = \"c\"\n",
    "### END SOLUTION"
   ]
  },
  {
   "cell_type": "code",
   "execution_count": 6,
   "metadata": {},
   "outputs": [
    {
     "name": "stdout",
     "output_type": "stream",
     "text": [
      "Correct!\n"
     ]
    }
   ],
   "source": [
    "### BEGIN HIDDEN TESTS (5)\n",
    "ans2_= \"c\"\n",
    "#\n",
    "#\n",
    "#\n",
    "assert ans2 == ans2_, \"Remember that .columns return just the labels\"\n",
    "print(\"Correct!\")\n",
    "### END HIDDEN TESTS"
   ]
  },
  {
   "cell_type": "markdown",
   "metadata": {},
   "source": [
    "[Back to top](#Index:) \n",
    "\n",
    "### Question 3\n",
    "    \n",
    "*5 points*\n",
    "\n",
    "Use the `.rename()` function in `pandas` to rename the column `Class Roll` to `enrollment` and assign this to a new DataFrame called `df3`.\n",
    "\n",
    "__Note: questions 3, 4, and 5 are related and need to be solved in sequence.__"
   ]
  },
  {
   "cell_type": "code",
   "execution_count": 7,
   "metadata": {},
   "outputs": [],
   "source": [
    "### GRADED\n",
    "\n",
    "### YOUR SOLUTION HERE\n",
    "df3 = None \n",
    "\n",
    "### BEGIN SOLUTION\n",
    "df3 = df.rename(columns={'Class Roll': 'enrollment'})\n",
    "### END SOLUTION"
   ]
  },
  {
   "cell_type": "code",
   "execution_count": 8,
   "metadata": {},
   "outputs": [
    {
     "name": "stdout",
     "output_type": "stream",
     "text": [
      "Correct!\n"
     ]
    }
   ],
   "source": [
    "### BEGIN HIDDEN TESTS (5)\n",
    "from pandas.testing import assert_frame_equal\n",
    "df3_ = df.rename(columns={'Class Roll': 'enrollment'})\n",
    "#\n",
    "#\n",
    "#\n",
    "assert_frame_equal(df3, df3_), \"The correct syntax is df.rename(columns = {old_name:new_name})\"\n",
    "print(\"Correct!\")\n",
    "### END HIDDEN TESTS"
   ]
  },
  {
   "cell_type": "markdown",
   "metadata": {},
   "source": [
    "[Back to top](#Index:) \n",
    "\n",
    "### Question 4\n",
    "    \n",
    "*5 points*\n",
    "\n",
    "Convert the entries from `df3` in the column `Observation (Marks: 20)` from integers to floats. Assign the result to `df4`.\n",
    "\n",
    "*Hint: use the function `.to_numeric()` by setting the argument `downcast = float`*"
   ]
  },
  {
   "cell_type": "code",
   "execution_count": 9,
   "metadata": {},
   "outputs": [],
   "source": [
    "### GRADED\n",
    "\n",
    "### YOUR SOLUTION HERE\n",
    "df4 = None \n",
    "\n",
    "### BEGIN SOLUTION\n",
    "df4 = pd.to_numeric(df3[\"Observation (Marks: 20)\"], downcast = \"float\")\n",
    "### END SOLUTION"
   ]
  },
  {
   "cell_type": "code",
   "execution_count": 10,
   "metadata": {},
   "outputs": [
    {
     "name": "stdout",
     "output_type": "stream",
     "text": [
      "Correct!\n"
     ]
    }
   ],
   "source": [
    "### BEGIN HIDDEN TESTS (5)\n",
    "df4_ = pd.to_numeric(df3_[\"Observation (Marks: 20)\"], downcast = \"float\")\n",
    "#\n",
    "#\n",
    "#\n",
    "assert df4_.all()== df4.all(), \"Make sure you used `.to_numeric()` correctly and that you set `downcast = 'float'`\"\n",
    "print(\"Correct!\")\n",
    "### END HIDDEN TESTS"
   ]
  },
  {
   "cell_type": "markdown",
   "metadata": {},
   "source": [
    "[Back to top](#Index:) \n",
    "\n",
    "### Question 5\n",
    "    \n",
    "*5 points*\n",
    "\n",
    "\n",
    "What is the type of `df4`? \n",
    "- a) A dictionary \n",
    "- b) A pandas DataFrame\n",
    "- c) A pandas series\n",
    "- d) A list\n",
    "\n",
    "Assign the letter corresponding to your choice as a string to `ans5`."
   ]
  },
  {
   "cell_type": "code",
   "execution_count": 11,
   "metadata": {},
   "outputs": [],
   "source": [
    "### GRADED\n",
    "\n",
    "### YOUR SOLUTION HERE\n",
    "ans5 = None \n",
    "\n",
    "### BEGIN SOLUTION\n",
    "ans5 = 'c'\n",
    "### END SOLUTION"
   ]
  },
  {
   "cell_type": "code",
   "execution_count": 12,
   "metadata": {},
   "outputs": [
    {
     "name": "stdout",
     "output_type": "stream",
     "text": [
      "Correct!\n"
     ]
    }
   ],
   "source": [
    "### BEGIN HIDDEN TESTS (5)\n",
    "ans5_ = 'c'\n",
    "#\n",
    "#\n",
    "#\n",
    "assert ans5 == ans5_, \"Use the .type() to retrieve the type of df4\"\n",
    "print(\"Correct!\")\n",
    "### END HIDDEN TESTS"
   ]
  },
  {
   "cell_type": "markdown",
   "metadata": {},
   "source": [
    "[Back to top](#Index:) \n",
    "\n",
    "## %subtitle%\n",
    "You will often have missing or duplicate data in your dataset. It is important that you know how to work through this issue without fundamentally impacting the results of your analysis. The first sentinel value used by Pandas is `None`, a Python singleton object that is often used for missing data in Python code. Because it is a Python object, `None` cannot be used in any arbitrary NumPy/Pandas array, but only in arrays with data type `object`.\n",
    "The other missing data representation, `NaN` (acronym for Not a Number), is different; it is a special floating-point value recognized by all systems that use the standard IEEE floating-point representation. A complete guide about how to handle missing values values in pandas can be found [here](https://jakevdp.github.io/PythonDataScienceHandbook/03.04-missing-values.html).\n",
    "\n",
    "\n",
    "Next, we will fill in missing values with `Nan`. In another column, we will drop all `Nan` values. We will also drop all duplicate values. \n",
    "\n",
    "### Question 6\n",
    "    \n",
    "*5 points*\n",
    "\n",
    "\n",
    "\n",
    "Take the column `CT-2 (Marks: 20)` of the DataFrame `df3` and fill the missing values with the mean value of that column. Assign the resulting Series to the variable `s6`."
   ]
  },
  {
   "cell_type": "code",
   "execution_count": 13,
   "metadata": {},
   "outputs": [],
   "source": [
    "### GRADED\n",
    "\n",
    "### YOUR SOLUTION HERE\n",
    "s6 = None \n",
    "\n",
    "### BEGIN SOLUTION\n",
    "s6 = df3['CT-2 (Marks: 20)'].fillna( df3['CT-2 (Marks: 20)'].mean()) \n",
    "### END SOLUTION"
   ]
  },
  {
   "cell_type": "code",
   "execution_count": 14,
   "metadata": {},
   "outputs": [
    {
     "name": "stdout",
     "output_type": "stream",
     "text": [
      "Correct!\n"
     ]
    }
   ],
   "source": [
    "### BEGIN HIDDEN TESTS (5)\n",
    "from pandas.testing import assert_series_equal\n",
    "s6_ = df3_['CT-2 (Marks: 20)'].fillna( df3_['CT-2 (Marks: 20)'].mean()) \n",
    "#\n",
    "#\n",
    "#\n",
    "assert_series_equal(s6, s6_), \"Make sure you haven't made any typos and that you used the method `.fillna()`\"\n",
    "print(\"Correct!\")\n",
    "### END HIDDEN TESTS"
   ]
  },
  {
   "cell_type": "markdown",
   "metadata": {},
   "source": [
    "[Back to top](#Index:) \n",
    "\n",
    "### Question 7\n",
    "    \n",
    "*5 points*\n",
    "\n",
    "Drop all of the Nan entries in `df3`. Assign the result to `df7`."
   ]
  },
  {
   "cell_type": "code",
   "execution_count": 15,
   "metadata": {},
   "outputs": [],
   "source": [
    "### GRADED\n",
    "\n",
    "### YOUR SOLUTION HERE\n",
    "df7 = None \n",
    "\n",
    "### BEGIN SOLUTION\n",
    "df7 = df3.dropna()\n",
    "### END SOLUTION"
   ]
  },
  {
   "cell_type": "code",
   "execution_count": 16,
   "metadata": {},
   "outputs": [
    {
     "name": "stdout",
     "output_type": "stream",
     "text": [
      "Correct!\n"
     ]
    }
   ],
   "source": [
    "### BEGIN HIDDEN TESTS (5)\n",
    "from pandas.testing import assert_frame_equal\n",
    "df7_ = df3.dropna()\n",
    "#\n",
    "#\n",
    "#\n",
    "assert_frame_equal(df7, df7_), \"Make sure you have used the function .dropna()\"\n",
    "print(\"Correct!\")\n",
    "### END HIDDEN TESTS"
   ]
  },
  {
   "cell_type": "markdown",
   "metadata": {},
   "source": [
    "[Back to top](#Index:) \n",
    "\n",
    "### Question 8\n",
    "    \n",
    "*5 points*\n",
    "\n",
    "Compute the mean of `enrollment` in the DatFrame `df3`. Assign the result to `ans8`."
   ]
  },
  {
   "cell_type": "code",
   "execution_count": 17,
   "metadata": {},
   "outputs": [],
   "source": [
    "### GRADED\n",
    "\n",
    "### YOUR SOLUTION HERE\n",
    "ans8 = None \n",
    "\n",
    "### BEGIN SOLUTION\n",
    "ans8 = np.mean(df3.enrollment)\n",
    "### END SOLUTION"
   ]
  },
  {
   "cell_type": "code",
   "execution_count": 18,
   "metadata": {},
   "outputs": [
    {
     "name": "stdout",
     "output_type": "stream",
     "text": [
      "Correct!\n"
     ]
    }
   ],
   "source": [
    "### BEGIN HIDDEN TESTS (5)\n",
    "ans8_ = np.mean(df3_.enrollment)\n",
    "#\n",
    "#\n",
    "#\n",
    "assert ans8 == ans8_, \"Make sure you have used the `NumPy` function `.mean()`\"\n",
    "print(\"Correct!\")\n",
    "### END HIDDEN TESTS"
   ]
  },
  {
   "cell_type": "markdown",
   "metadata": {},
   "source": [
    "[Back to top](#Index:) \n",
    "\n",
    "### Question 9\n",
    "    \n",
    "*5 points*\n",
    "\n",
    "Drop all of the duplicate values in the DataFrame `df3`. Assign the new result to `df9`."
   ]
  },
  {
   "cell_type": "code",
   "execution_count": 19,
   "metadata": {},
   "outputs": [],
   "source": [
    "### GRADED\n",
    "\n",
    "### YOUR SOLUTION HEREd\n",
    "df9 = None \n",
    "\n",
    "### BEGIN SOLUTION\n",
    "df9 = df3.drop_duplicates()\n",
    "### END SOLUTION"
   ]
  },
  {
   "cell_type": "code",
   "execution_count": 20,
   "metadata": {},
   "outputs": [
    {
     "name": "stdout",
     "output_type": "stream",
     "text": [
      "Correct!\n"
     ]
    }
   ],
   "source": [
    "### BEGIN HIDDEN TESTS (5)\n",
    "from pandas.testing import assert_frame_equal\n",
    "df9_ = df9.drop_duplicates()\n",
    "#\n",
    "#\n",
    "#\n",
    "assert_frame_equal(df9, df9_), \"Make sure you have used the function .drop_duplicates()\"\n",
    "print(\"Correct!\")\n",
    "### END HIDDEN TESTS"
   ]
  }
 ],
 "metadata": {
  "kernelspec": {
   "display_name": "Python 3",
   "language": "python",
   "name": "python3"
  },
  "language_info": {
   "codemirror_mode": {
    "name": "ipython",
    "version": 3
   },
   "file_extension": ".py",
   "mimetype": "text/x-python",
   "name": "python",
   "nbconvert_exporter": "python",
   "pygments_lexer": "ipython3",
   "version": "3.8.3"
  }
 },
 "nbformat": 4,
 "nbformat_minor": 4
}
