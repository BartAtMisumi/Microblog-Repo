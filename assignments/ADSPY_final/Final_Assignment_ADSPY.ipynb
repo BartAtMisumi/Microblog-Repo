{
 "cells": [
  {
   "cell_type": "markdown",
   "metadata": {
    "nbgrader": {
     "grade": false,
     "locked": true,
     "solution": false
    }
   },
   "source": [
    "# %title%\n",
    "\n",
    "**_Author: Favio Vázquez_**\n",
    "\n",
    "**Expected time = %expected_time%**\n",
    "\n",
    "**Total points = 165 points**"
   ]
  },
  {
   "cell_type": "markdown",
   "metadata": {
    "nbgrader": {
     "grade": false,
     "locked": true,
     "solution": false
    }
   },
   "source": [
    "## Assignment Overview\n",
    "\n",
    "The following activity is a comprehensive assignment assessing your capability across the key areas covered in Python for Data Science. Completing this assignment will demonstrate your proficiency in basic Python operations as well as more advanced activities such as data manipulation with pandas, data visualization, and statistics. This is a graded, required assignment. Those who score 75% or higher can be confident in their proficiency. \n",
    "\n",
    "This assignment is designed to build your familiarity and comfort coding in Python while also helping you review key topics from each module. As you progress through the assignment, answers will get increasingly complex. It is important that you adopt a data scientist's mindset when completing this assignment. **Remember to run your code from each cell before submitting your assignment.** Running your code beforehand will notify you of errors and give you a chance to fix your errors before submitting. You should view your Vocareum submission as if you are delivering a final project to your manager or client. \n",
    "\n",
    "***Vocareum Tips***\n",
    "\n",
    "- Do not add arguments or options to functions unless you are specifically asked to. This will cause an error in Vocareum.\n",
    "- Do not use a library unless you are expicitly asked to in the question.\n",
    "\n",
    "\n",
    "### Learning Objectives\n",
    "\n",
    "- Explain the benefits of functions in performing specified tasks in Python. \n",
    "- Explain the operations that can be performed on a given data type. \n",
    "- Use Pandas to build, extract, filter, and transform dataframes.\n",
    "- Use matplotlib to visualize data including basic plots and advanced plots.\n",
    "- Use the fundamental concepts of probability theory to examine random variables and quantify the probability of a given outcome.  \n",
    "- Explain common statistical distributions such as the normal distribution, t-distribution, and bernoulli distribution. \n",
    "- Conduct basic hypothesis testing to determine the reliability of your conclusions. "
   ]
  },
  {
   "cell_type": "markdown",
   "metadata": {
    "nbgrader": {
     "grade": false,
     "locked": true,
     "solution": false
    }
   },
   "source": [
    "## Index:\n",
    "\n",
    "#### Final Assignment Topics:\n",
    "\n",
    "##### %subtitle_1%\n",
    "\n",
    "- [Question 1](#Question-1)\n",
    "- [Question 2](#Question-2)\n",
    "\n",
    "##### %subtitle_2%\n",
    "\n",
    "- [Question 3](#Question-3)\n",
    "- [Question 4](#Question-4)\n",
    "\n",
    "##### %subtitle_3%\n",
    "\n",
    "- [Question 5](#Question-5)\n",
    "- [Question 6](#Question-6)\n",
    "- [Question 7](#Question-7)\n",
    "\n",
    "##### %subtitle_4%\n",
    "\n",
    "- [Question 8](#Question-8)\n",
    "\n",
    "##### %subtitle_5%\n",
    "- [Question 9](#Question-9)\n",
    "- [Question 10](#Question-10)\n",
    "- [Question 11](#Question-11)\n",
    "\n",
    "\n",
    "##### %subtitle_6%\n",
    "- [Question 12](#Question-12)\n",
    "- [Question 13](#Question-13)\n",
    "- [Question 14](#Question-14)\n"
   ]
  },
  {
   "cell_type": "code",
   "execution_count": 1,
   "metadata": {
    "nbgrader": {
     "grade": false,
     "locked": true,
     "solution": false
    }
   },
   "outputs": [],
   "source": [
    "# Let's start by importing the libraries we will be using\n",
    "import pandas as pd\n",
    "import numpy as np\n",
    "import matplotlib.pyplot as plt\n",
    "from dateutil.parser import parse\n",
    "from sklearn import datasets\n",
    "import scipy.stats as sp\n",
    "import math\n",
    "\n",
    "# Avoid warnings\n",
    "import warnings\n",
    "warnings.filterwarnings(\"ignore\")"
   ]
  },
  {
   "cell_type": "markdown",
   "metadata": {
    "nbgrader": {
     "grade": false,
     "locked": true,
     "solution": false
    }
   },
   "source": [
    "## %subtitle_1%"
   ]
  },
  {
   "cell_type": "markdown",
   "metadata": {
    "nbgrader": {
     "grade": false,
     "locked": true,
     "solution": false
    }
   },
   "source": [
    "[Back to top](#Index:) \n",
    "\n",
    "### Question 1\n",
    "*15 points*\n",
    "\n",
    "Perform the following operations on the list below, which is stored in the variable `my_list`.\n",
    "\n",
    "- Reverse the list and store your result in a variable called `my_reversed_list`, **without using the `.reverse()` method.**\n",
    "- Sort the list (in descending order) and store your result in a variable called `my_sorted_list`. **To do this, create a function called `my_sort` and implement a sorting algorithm. You must do this without using the `.sort()` method.** \n",
    "    - To create the sorting algorithm you need to use a `for` loop with the argument arr with a range of `len(arr)` and a minimum of `i`. \n",
    "    - In this loop will be a nested `for` loop with a range of i+1 to `len(arr)`.\n",
    "    - Check if `j` is below the minimum. If it is, then assign `j` to the minimum. Place the appropriate variables in the array after checking this.\n",
    "- With a list comprehension, multiply every element of the list by the number 3 and store your result in a variable called `my_other_list`.\n",
    "\n"
   ]
  },
  {
   "cell_type": "code",
   "execution_count": 2,
   "metadata": {},
   "outputs": [
    {
     "name": "stdout",
     "output_type": "stream",
     "text": [
      "Original: [9, 8, 7, 6, 5, 4, 3, 2, 1, 0]\n",
      "Reversed: [0, 8, 9, 7, 5, 6, 2, 3, 4, 1]\n",
      "Sorted: [9, 8, 7, 6, 5, 4, 3, 2, 1, 0]\n",
      "Mult by 3: [27, 24, 21, 18, 15, 12, 9, 6, 3, 0]\n"
     ]
    }
   ],
   "source": [
    "### GRADED \n",
    "my_list = [1, 4, 3, 2, 6, 5, 7, 9, 8, 0] # Don't change this line\n",
    "\n",
    "### YOUR SOLUTION HERE\n",
    "\n",
    "def my_sort():\n",
    "    return\n",
    "\n",
    "my_reversed_list = None\n",
    "my_sorted_list = None\n",
    "my_other_list = None\n",
    "\n",
    "### BEGIN SOLUTION\n",
    "def my_sort(arr):\n",
    "    for i in range(len(arr)):\n",
    "        maximum = i\n",
    "        \n",
    "        for j in range(i + 1, len(arr)):\n",
    "            # Select the smallest value\n",
    "            if arr[j] > arr[maximum]:\n",
    "                maximum = j\n",
    "\n",
    "        # Place it at the front of the \n",
    "        # sorted end of the array\n",
    "        arr[maximum], arr[i] = arr[i], arr[maximum]\n",
    "            \n",
    "    return arr\n",
    "    \n",
    "my_reversed_list = my_list[::-1]\n",
    "my_sorted_list = my_sort(my_list)\n",
    "my_other_list = [n*3 for n in my_list]\n",
    "### END SOLUTION\n",
    "\n",
    "# Checking results\n",
    "print(\"Original:\", my_list)\n",
    "print(\"Reversed:\", my_reversed_list)\n",
    "print(\"Sorted:\", my_sorted_list)\n",
    "print(\"Mult by 3:\", my_other_list)"
   ]
  },
  {
   "cell_type": "code",
   "execution_count": 11,
   "metadata": {
    "nbgrader": {
     "grade": true,
     "grade_id": "Question 01",
     "locked": true,
     "points": "15",
     "solution": false
    }
   },
   "outputs": [
    {
     "name": "stdout",
     "output_type": "stream",
     "text": [
      "Correct!\n"
     ]
    }
   ],
   "source": [
    "### BEGIN HIDDEN TESTS (15)\n",
    "\n",
    "my_list_ = [1, 4, 3, 2, 6, 5, 7, 9, 8, 0]\n",
    "\n",
    "def my_sort_(arr):\n",
    "    for i in range(len(arr)):\n",
    "        maximum = i\n",
    "        \n",
    "        for j in range(i + 1, len(arr)):\n",
    "            # Select the smallest value\n",
    "            if arr[j] > arr[maximum]:\n",
    "                maximum = j\n",
    "\n",
    "        # Place it at the front of the \n",
    "        # sorted end of the array\n",
    "        arr[maximum], arr[i] = arr[i], arr[maximum]\n",
    "            \n",
    "    return arr\n",
    "\n",
    "\n",
    "\n",
    "my_reversed_list_ = my_list_[::-1]\n",
    "my_sorted_list_ = my_sort_(my_list_)\n",
    "my_other_list_ = [n*3 for n in my_list_]\n",
    "\n",
    "#test\n",
    "#\n",
    "#\n",
    "#\n",
    "#testing\n",
    "assert 'my_sort' in globals(), \"Make sure you have defined the function my_sort.\"\n",
    "assert callable(my_sort), \"Make sure my_sort is a function.\"\n",
    "assert my_list_ == my_list, \"Make sure you are using the appropriate methods and sorting algorithms to create your new lists.\"\n",
    "assert my_reversed_list_ == my_reversed_list, \"Make sure you are using the appropriate methods and sorting algorithms to create your new lists.\"\n",
    "assert my_sorted_list_ == my_sorted_list, \"Make sure you are using the appropriate methods and sorting algorithms to create your new lists.\"\n",
    "assert my_other_list_ == my_other_list, \"Make sure you are using the appropriate methods and sorting algorithms to create your new lists.\"\n",
    "print(\"Correct!\")\n",
    "### END HIDDEN TESTS"
   ]
  },
  {
   "cell_type": "markdown",
   "metadata": {
    "nbgrader": {
     "grade": false,
     "locked": true,
     "solution": false
    }
   },
   "source": [
    "[Back to top](#Index:) \n",
    "\n",
    "### Question 2\n",
    "*5 points*\n",
    "    \n",
    "The dictionary `my_dict` contains 2 oher dictionaries inside. Change the key \"nme\" to \"name\" for each of those inner dictionaries. Remember, you can get the name of the first entry in the dictionary by using `my_dict[1][\"nme\"]`.\n",
    "\n",
    "**Hint: Consider using a for loop**."
   ]
  },
  {
   "cell_type": "code",
   "execution_count": 4,
   "metadata": {},
   "outputs": [],
   "source": [
    "### GRADED\n",
    "my_dict = {1: {'nme': 'John', 'age': '27', 'sex': 'Male'},\n",
    "           2: {'nme': 'Mary', 'age': '22', 'sex': 'Female'}}\n",
    "\n",
    "### YOUR SOLUTION HERE\n",
    "\n",
    "\n",
    "### BEGIN SOLUTION\n",
    "for i in my_dict:\n",
    "    my_dict[i][\"name\"] = my_dict[i][\"nme\"]\n",
    "    del my_dict[i][\"nme\"]\n",
    "### END SOLUTION"
   ]
  },
  {
   "cell_type": "code",
   "execution_count": 5,
   "metadata": {
    "nbgrader": {
     "grade": true,
     "grade_id": "Question 02",
     "locked": true,
     "points": "5",
     "solution": false
    }
   },
   "outputs": [
    {
     "name": "stdout",
     "output_type": "stream",
     "text": [
      "Correct!\n"
     ]
    }
   ],
   "source": [
    "### BEGIN HIDDEN TESTS (5)\n",
    "my_dict_ = {1: {'nme': 'John', 'age': '27', 'sex': 'Male'},\n",
    "            2: {'nme': 'Mary', 'age': '22', 'sex': 'Female'}}\n",
    "\n",
    "for i in my_dict:\n",
    "    my_dict_[i][\"name\"] = my_dict_[i][\"nme\"]\n",
    "    del my_dict_[i][\"nme\"]\n",
    "        \n",
    "#\n",
    "#\n",
    "#\n",
    "assert \"name\" in my_dict[1], \"Make sure to create a new key 'name' in my_dict[1] with the names.\"\n",
    "assert \"name\" in my_dict[2], \"Make sure to create a new key 'name' in my_dict[2] with the names.\"\n",
    "assert \"nme\" not in my_dict[1], \"Make sure to remove the key 'nme' from my_dict[1].\"\n",
    "assert \"nme\" not in my_dict[2], \"Make sure to remove the key 'nme' from my_dict[2].\"\n",
    "assert my_dict_ == my_dict , \"Make sure to subsitute the keys 'nme' with 'name'.\"\n",
    "assert my_dict_[1] == my_dict[1], \"Make sure to subsitute the keys 'nme' with 'name'.\"\n",
    "assert my_dict_[2] == my_dict[2], \"Make sure to subsitute the keys 'nme' with 'name'.\"\n",
    "print(\"Correct!\")\n",
    "### END HIDDEN TESTS"
   ]
  },
  {
   "cell_type": "markdown",
   "metadata": {
    "nbgrader": {
     "grade": false,
     "locked": true,
     "solution": false
    }
   },
   "source": [
    "## %subtitle_2%"
   ]
  },
  {
   "cell_type": "markdown",
   "metadata": {
    "nbgrader": {
     "grade": false,
     "locked": true,
     "solution": false
    }
   },
   "source": [
    "[Back to top](#Index:) \n",
    "\n",
    "### Question 3\n",
    "*10 points*\n",
    "\n",
    "Create a function called `factors` with one argument `num` that determines all of the factors of a number. \n",
    "\n",
    "Factors are the numbers you multiply to get another number, including 1 and the number itself. In your function, return `i` using a range to determine if `num` can be divided by `i` and have a remainder of 0.\n"
   ]
  },
  {
   "cell_type": "code",
   "execution_count": 6,
   "metadata": {},
   "outputs": [],
   "source": [
    "### GRADED\n",
    "\n",
    "### YOUR SOLUTION HERE\n",
    "def factors():\n",
    "    return\n",
    "\n",
    "### BEGIN SOLUTION\n",
    "def factors(num):\n",
    "    return [i for i in range(1, num + 1) if num % i == 0]\n",
    "### END SOLUTION"
   ]
  },
  {
   "cell_type": "code",
   "execution_count": 7,
   "metadata": {
    "nbgrader": {
     "grade": true,
     "grade_id": "Question 03",
     "locked": true,
     "points": "10",
     "solution": false
    }
   },
   "outputs": [
    {
     "name": "stdout",
     "output_type": "stream",
     "text": [
      "Correct!\n"
     ]
    }
   ],
   "source": [
    "### BEGIN HIDDEN TESTS (10)\n",
    "def factors_(num):\n",
    "    return [i for i in range(1, num + 1) if num % i == 0]\n",
    "#\n",
    "#\n",
    "#\n",
    "\n",
    "assert factors_(5) == factors(5), \"Make sure to use the for in the range() and check that the remainder is 0.\"\n",
    "assert factors(10) == [1, 2, 5, 10], \"Make sure to use the for in the range() and check that the remainder is 0.\"\n",
    "assert factors(1) == factors(1), \"Make sure to use the for in the range() and check that the remainder is 0.\"\n",
    "assert factors_(120) == factors(120), \"Make sure to use the for in the range() and check that the remainder is 0.\"\n",
    "print(\"Correct!\")\n",
    "### END HIDDEN TESTS"
   ]
  },
  {
   "cell_type": "markdown",
   "metadata": {
    "nbgrader": {
     "grade": false,
     "locked": true,
     "solution": false
    }
   },
   "source": [
    "[Back to top](#Index:) \n",
    "\n",
    "### Question 4\n",
    "*15 points*\n",
    "\n",
    "Create a function that checks if a number is prime or not and name the function `check_prime`. The function must return the boolean `True` if the number is prime and `False` otherwise.\n",
    "\n",
    "Remember that a number is prime if it can only be divided without remainder by 1 and itself. Also remember that negative numbers, 0, and 1 are not considered prime by definition.\n",
    "\n",
    "**Hint: Except 2, all prime numbers are odd.**"
   ]
  },
  {
   "cell_type": "code",
   "execution_count": 8,
   "metadata": {},
   "outputs": [],
   "source": [
    "### GRADED\n",
    "import math\n",
    "\n",
    "\n",
    "### YOUR SOLUTION HERE\n",
    "def check_prime():\n",
    "    return\n",
    "\n",
    "### BEGIN SOLUTION\n",
    "def check_prime(number):                               \n",
    "    if number < 2:\n",
    "        # Negatives, 0 and 1 are not primes\n",
    "        return False\n",
    "    if number < 4:\n",
    "        # 2 and 3 are primes\n",
    "        return True\n",
    "    if number % 2 == 0:\n",
    "        # Even values are not primes\n",
    "        return False\n",
    "\n",
    "    # Except 2, all primes are odd. If any odd value divide\n",
    "    # the number, then that number is not prime.\n",
    "    odd_numbers = range(3, int(math.sqrt(number)) + 1, 2)\n",
    "    return not any(number % i == 0 for i in odd_numbers)\n",
    "### END SOLUTION"
   ]
  },
  {
   "cell_type": "code",
   "execution_count": 9,
   "metadata": {
    "nbgrader": {
     "grade": true,
     "grade_id": "Question 04",
     "locked": true,
     "points": "15",
     "solution": false
    }
   },
   "outputs": [
    {
     "name": "stdout",
     "output_type": "stream",
     "text": [
      "Correct!\n"
     ]
    }
   ],
   "source": [
    "### BEGIN HIDDEN TESTS (15)\n",
    "def check_prime_(number):\n",
    "    if number < 2:\n",
    "        # Negatives, 0 and 1 are not primes\n",
    "        return False\n",
    "    if number < 4:\n",
    "        # 2 and 3 are primes\n",
    "        return True\n",
    "    if number % 2 == 0:\n",
    "        # Even values are not primes\n",
    "        return False\n",
    "\n",
    "    # Except 2, all primes are odd. If any odd value divide\n",
    "    # the number, then that number is not prime.\n",
    "    odd_numbers = range(3, int(math.sqrt(number)) + 1, 2)\n",
    "    return not any(number % i == 0 for i in odd_numbers)\n",
    "#\n",
    "#\n",
    "#\n",
    "for i in list(range(-1, 10)):\n",
    "    assert check_prime_(i) == check_prime(i), \"Make sure to check that the number isn't below 2 and can't be divided by other numbers without remainder.\"\n",
    "print(\"Correct!\")\n",
    "### END HIDDEN TESTS"
   ]
  },
  {
   "cell_type": "markdown",
   "metadata": {},
   "source": [
    "## %subtitle_3%\n",
    "\n",
    "For the next three questions we will be using a dataset coming from a list of video games with sales greater than 100,000 copies. The columns include the following data for each game:\n",
    "\n",
    "- Rank - Ranking of overall sales\n",
    "- Name - The name of the game\n",
    "- Platform - Platform of the game's release (i.e. PC,PS4, etc.)\n",
    "- Year - Year of the game's release\n",
    "- Genre - Genre of the game\n",
    "- Publisher - Publisher of the game\n",
    "- NA_Sales - Sales in North America (in millions)\n",
    "- EU_Sales - Sales in Europe (in millions)\n",
    "- JP_Sales - Sales in Japan (in millions)\n",
    "- Other_Sales - Sales in the rest of the world (in millions)\n",
    "- Global_Sales - Total worldwide sales (in millions)\n",
    "\n",
    "There are 16,598 records in total"
   ]
  },
  {
   "cell_type": "code",
   "execution_count": 10,
   "metadata": {
    "nbgrader": {
     "grade": false,
     "locked": true,
     "solution": false
    }
   },
   "outputs": [],
   "source": [
    "## Read the dataset\n",
    "df = pd.read_csv(\"data/vgsales.csv\")"
   ]
  },
  {
   "cell_type": "code",
   "execution_count": 11,
   "metadata": {
    "nbgrader": {
     "grade": false,
     "locked": true,
     "solution": false
    }
   },
   "outputs": [
    {
     "data": {
      "text/html": [
       "<div>\n",
       "<style scoped>\n",
       "    .dataframe tbody tr th:only-of-type {\n",
       "        vertical-align: middle;\n",
       "    }\n",
       "\n",
       "    .dataframe tbody tr th {\n",
       "        vertical-align: top;\n",
       "    }\n",
       "\n",
       "    .dataframe thead th {\n",
       "        text-align: right;\n",
       "    }\n",
       "</style>\n",
       "<table border=\"1\" class=\"dataframe\">\n",
       "  <thead>\n",
       "    <tr style=\"text-align: right;\">\n",
       "      <th></th>\n",
       "      <th>Rank</th>\n",
       "      <th>Name</th>\n",
       "      <th>Platform</th>\n",
       "      <th>Year</th>\n",
       "      <th>Genre</th>\n",
       "      <th>Publisher</th>\n",
       "      <th>NA_Sales</th>\n",
       "      <th>EU_Sales</th>\n",
       "      <th>JP_Sales</th>\n",
       "      <th>Other_Sales</th>\n",
       "      <th>Global_Sales</th>\n",
       "    </tr>\n",
       "  </thead>\n",
       "  <tbody>\n",
       "    <tr>\n",
       "      <th>0</th>\n",
       "      <td>1</td>\n",
       "      <td>Wii Sports</td>\n",
       "      <td>Wii</td>\n",
       "      <td>2006.0</td>\n",
       "      <td>Sports</td>\n",
       "      <td>Nintendo</td>\n",
       "      <td>41.49</td>\n",
       "      <td>29.02</td>\n",
       "      <td>3.77</td>\n",
       "      <td>8.46</td>\n",
       "      <td>82.74</td>\n",
       "    </tr>\n",
       "    <tr>\n",
       "      <th>1</th>\n",
       "      <td>2</td>\n",
       "      <td>Super Mario Bros.</td>\n",
       "      <td>NES</td>\n",
       "      <td>1985.0</td>\n",
       "      <td>Platform</td>\n",
       "      <td>Nintendo</td>\n",
       "      <td>29.08</td>\n",
       "      <td>3.58</td>\n",
       "      <td>6.81</td>\n",
       "      <td>0.77</td>\n",
       "      <td>40.24</td>\n",
       "    </tr>\n",
       "    <tr>\n",
       "      <th>2</th>\n",
       "      <td>3</td>\n",
       "      <td>Mario Kart Wii</td>\n",
       "      <td>Wii</td>\n",
       "      <td>2008.0</td>\n",
       "      <td>Racing</td>\n",
       "      <td>Nintendo</td>\n",
       "      <td>15.85</td>\n",
       "      <td>12.88</td>\n",
       "      <td>3.79</td>\n",
       "      <td>3.31</td>\n",
       "      <td>35.82</td>\n",
       "    </tr>\n",
       "    <tr>\n",
       "      <th>3</th>\n",
       "      <td>4</td>\n",
       "      <td>Wii Sports Resort</td>\n",
       "      <td>Wii</td>\n",
       "      <td>2009.0</td>\n",
       "      <td>Sports</td>\n",
       "      <td>Nintendo</td>\n",
       "      <td>15.75</td>\n",
       "      <td>11.01</td>\n",
       "      <td>3.28</td>\n",
       "      <td>2.96</td>\n",
       "      <td>33.00</td>\n",
       "    </tr>\n",
       "    <tr>\n",
       "      <th>4</th>\n",
       "      <td>5</td>\n",
       "      <td>Pokemon Red/Pokemon Blue</td>\n",
       "      <td>GB</td>\n",
       "      <td>1996.0</td>\n",
       "      <td>Role-Playing</td>\n",
       "      <td>Nintendo</td>\n",
       "      <td>11.27</td>\n",
       "      <td>8.89</td>\n",
       "      <td>10.22</td>\n",
       "      <td>1.00</td>\n",
       "      <td>31.37</td>\n",
       "    </tr>\n",
       "  </tbody>\n",
       "</table>\n",
       "</div>"
      ],
      "text/plain": [
       "   Rank                      Name Platform    Year         Genre Publisher  \\\n",
       "0     1                Wii Sports      Wii  2006.0        Sports  Nintendo   \n",
       "1     2         Super Mario Bros.      NES  1985.0      Platform  Nintendo   \n",
       "2     3            Mario Kart Wii      Wii  2008.0        Racing  Nintendo   \n",
       "3     4         Wii Sports Resort      Wii  2009.0        Sports  Nintendo   \n",
       "4     5  Pokemon Red/Pokemon Blue       GB  1996.0  Role-Playing  Nintendo   \n",
       "\n",
       "   NA_Sales  EU_Sales  JP_Sales  Other_Sales  Global_Sales  \n",
       "0     41.49     29.02      3.77         8.46         82.74  \n",
       "1     29.08      3.58      6.81         0.77         40.24  \n",
       "2     15.85     12.88      3.79         3.31         35.82  \n",
       "3     15.75     11.01      3.28         2.96         33.00  \n",
       "4     11.27      8.89     10.22         1.00         31.37  "
      ]
     },
     "execution_count": 11,
     "metadata": {},
     "output_type": "execute_result"
    }
   ],
   "source": [
    "## See the data\n",
    "df.head()"
   ]
  },
  {
   "cell_type": "markdown",
   "metadata": {
    "nbgrader": {
     "grade": false,
     "locked": true,
     "solution": false
    }
   },
   "source": [
    "[Back to top](#Index:) \n",
    "\n",
    "### Question 5\n",
    "*5 points*\n",
    "\n",
    "How many video games were released after 2001? Store the final result as an integer in a variable called `count_2001`. We can count how many video games there are by counting the first column of the dataframe. "
   ]
  },
  {
   "cell_type": "code",
   "execution_count": 12,
   "metadata": {},
   "outputs": [],
   "source": [
    "### GRADED\n",
    "\n",
    "### YOUR SOLUTION HERE\n",
    "count_2001 = None\n",
    "\n",
    "### BEGIN SOLUTION\n",
    "count_2001 = df[df['Year'] > 2001].count()[0]\n",
    "### END SOLUTION"
   ]
  },
  {
   "cell_type": "code",
   "execution_count": 13,
   "metadata": {
    "nbgrader": {
     "grade": true,
     "grade_id": "Question 05",
     "locked": true,
     "points": "5",
     "solution": false
    }
   },
   "outputs": [
    {
     "name": "stdout",
     "output_type": "stream",
     "text": [
      "Correct!\n"
     ]
    }
   ],
   "source": [
    "### BEGIN HIDDEN TESTS (5)\n",
    "#\n",
    "#\n",
    "#testing\n",
    "assert count_2001 == 13522, \"Make sure to use the .count() function on the [0] column.\"\n",
    "print(\"Correct!\")\n",
    "### END HIDDEN TESTS"
   ]
  },
  {
   "cell_type": "markdown",
   "metadata": {
    "nbgrader": {
     "grade": false,
     "locked": true,
     "solution": false
    }
   },
   "source": [
    "[Back to top](#Index:) \n",
    "\n",
    "### Question 6\n",
    "*10 points*\n",
    "\n",
    "In a new dataframe called `df_nintendo_years`, include the best selling years from the publisher Nintendo. We define a good year as a year when the \"Global_Sales\" exceeded 30 million video games sold. We can accomplish this by grouping the sum of Global_Sales by year. Only include the years and Global_Sales in the new dataframe."
   ]
  },
  {
   "cell_type": "code",
   "execution_count": 14,
   "metadata": {},
   "outputs": [],
   "source": [
    "### GRADED\n",
    "\n",
    "\n",
    "### YOUR SOLUTION HERE\n",
    "df_nintendo_years = None\n",
    "\n",
    "### BEGIN SOLUTION\n",
    "df_nintendo_years = df[df.Publisher == 'Nintendo'].groupby('Year').agg({\"Global_Sales\": \"sum\"})\n",
    "df_nintendo_years = df_nintendo_years[df_nintendo_years.Global_Sales > 30]\n",
    "### END SOLUTION"
   ]
  },
  {
   "cell_type": "code",
   "execution_count": 15,
   "metadata": {
    "nbgrader": {
     "grade": true,
     "grade_id": "Question 06",
     "locked": true,
     "points": "10",
     "solution": false
    }
   },
   "outputs": [
    {
     "name": "stdout",
     "output_type": "stream",
     "text": [
      "Correct!\n"
     ]
    }
   ],
   "source": [
    "### BEGIN HIDDEN TESTS (10)\n",
    "from pandas.util.testing import assert_frame_equal\n",
    "\n",
    "df_nintendo_years_ = df[df.Publisher == 'Nintendo'].groupby('Year').agg({\"Global_Sales\": \"sum\"})\n",
    "df_nintendo_years_ = df_nintendo_years[df_nintendo_years.Global_Sales > 30]\n",
    "#\n",
    "#\n",
    "#\n",
    "assert df_nintendo_years.equals(df_nintendo_years_), \"Make sure you used .groupby() to group the data by year and agg.() to sum up the sales data.\"\n",
    "print(\"Correct!\")\n",
    "### END HIDDEN TESTS"
   ]
  },
  {
   "cell_type": "markdown",
   "metadata": {
    "nbgrader": {
     "grade": false,
     "locked": true,
     "solution": false
    }
   },
   "source": [
    "[Back to top](#Index:) \n",
    "\n",
    "### Question 7\n",
    "*15 points*\n",
    "\n",
    "The column \"Global_Sales\" is supposed to come from summing the \"NA_Sales\", \"EU_Sales\", \"JP_Sales\" and \"Other_Sales\" columns. In this question you will confirm that. Create a new column called \"My_Global_Sales\" by applying a lambda function that is the result of summing all of the other individual sales columns for every row. \n",
    "\n",
    "Then compare \"Global_Sales\" with \"My_Global_Sales\" using the `np.isclose()` function to check if the two columns are equal (or close) with an absolute tolerance of 0.001. For Example:\n",
    "\n",
    "35.82 is close to 35.821 in our criteria but 35.82 and 35.83 are not.\n",
    "\n",
    "Store the comparison as a boolean column (True or False), and name that column \"Close\".\n",
    "\n",
    "**Hint: See the numpy documentation for [np.isclose()](https://docs.scipy.org/doc/numpy/reference/generated/numpy.isclose.html) function**."
   ]
  },
  {
   "cell_type": "code",
   "execution_count": 16,
   "metadata": {},
   "outputs": [],
   "source": [
    "### GRADED\n",
    "\n",
    "\n",
    "### YOUR SOLUTION HERE\n",
    "df[\"My_Global_Sales\"] = None\n",
    "df[\"Close\"] = None\n",
    "\n",
    "### BEGIN SOLUTION\n",
    "df[\"My_Global_Sales\"] = df.apply(lambda x: x['NA_Sales'] + x['EU_Sales'] + x['JP_Sales'] + x[\"Other_Sales\"], axis=1)\n",
    "df[\"Close\"] = np.isclose(df['My_Global_Sales'], df['Global_Sales'], atol=0.001)\n",
    "### END SOLUTION"
   ]
  },
  {
   "cell_type": "code",
   "execution_count": 17,
   "metadata": {
    "nbgrader": {
     "grade": true,
     "grade_id": "Question 07",
     "locked": true,
     "points": "15",
     "solution": false
    }
   },
   "outputs": [
    {
     "name": "stdout",
     "output_type": "stream",
     "text": [
      "Correct!\n"
     ]
    }
   ],
   "source": [
    "### BEGIN HIDDEN TESTS (15)\n",
    "from pandas.util.testing import assert_frame_equal\n",
    "\n",
    "df_ = pd.read_csv(\"data/vgsales.csv\")\n",
    "df_[\"My_Global_Sales\"] = df_.apply(lambda x: x['NA_Sales'] + x['EU_Sales'] + x['JP_Sales'] + x[\"Other_Sales\"], axis=1)\n",
    "df_[\"Close\"] = np.isclose(df_['My_Global_Sales'], df_['Global_Sales'], atol=0.001)\n",
    "#\n",
    "#\n",
    "#\n",
    "assert df_.equals(df), \"Make sure you used df.apply(lambda x: ) to define My_Global_Sales.\"\n",
    "print(\"Correct!\")\n",
    "### END HIDDEN TESTS"
   ]
  },
  {
   "cell_type": "markdown",
   "metadata": {
    "nbgrader": {
     "grade": false,
     "locked": true,
     "solution": false
    }
   },
   "source": [
    "## %subtitle_4%\n",
    "\n",
    "IMPORTANT INSTRUCTIONS:\n",
    "\n",
    "- To be able to test for this part of the assignment, you will be asked to save your figures as PNG into a folder called \"results\". Please don't change the name of the plots or the folder as this will impact the grading. You must use the name we ask you to use in order to get the points. The code you will use to save the PNG files is (for example): `plt.savefig(\"results/plot.png\")`\n",
    "- Don't add any customization to the plots, except what you are asked to do."
   ]
  },
  {
   "cell_type": "markdown",
   "metadata": {
    "nbgrader": {
     "grade": false,
     "locked": true,
     "solution": false
    }
   },
   "source": [
    "[Back to top](#Index:) \n",
    "\n",
    "### Question 8\n",
    "*20 points*\n",
    "    \n",
    "Given the iris dataset create a scatter plot of the sepal length (cm) vs the petal width (cm) by using a `for` loop with a range of 0 to 3. Define `species_df = iris_df[iris_df['species'] == i]`. In the scatter plot for sepal length (cm) and the petal width (cm) have color equal `colours`, alpha equal 0.5, and label equal `species`. Plot this with these customizations:\n",
    "\n",
    "- The colors of the species should follow the colours and species lists from below.\n",
    "- X-label: 'sepal length (cm)'\n",
    "- Y-label: 'petal width (cm)'\n",
    "- Title: 'Iris dataset: sepal length vs petal width'\n",
    "- Legend = Should be displayed with the argument loc=\"lower right\".\n",
    "\n",
    "Save your plot as a png with the name \"plot1.png\" in the folder \"results\"."
   ]
  },
  {
   "cell_type": "code",
   "execution_count": 18,
   "metadata": {},
   "outputs": [],
   "source": [
    "### GRADED \n",
    "\n",
    "# Data\n",
    "iris = datasets.load_iris()\n",
    "iris_df = pd.DataFrame(iris['data'], columns=iris['feature_names'])\n",
    "iris_df['species'] = iris['target']\n",
    "\n",
    "# Set color and names for legend\n",
    "colours = ['red', 'orange', 'blue']\n",
    "species = ['I. setosa', 'I. versicolor', 'I. virginica']\n",
    "\n",
    "### YOUR SOLUTION HERE\n",
    "\n",
    "### BEGIN SOLUTION\n",
    "for i in range(0, 3):    \n",
    "    species_df = iris_df[iris_df['species'] == i]    \n",
    "    plt.scatter(        \n",
    "        species_df['sepal length (cm)'],        \n",
    "        species_df['petal width (cm)'],\n",
    "        color=colours[i],        \n",
    "        alpha=0.5,        \n",
    "        label=species[i]   \n",
    "    )\n",
    "\n",
    "plt.xlabel('sepal length (cm)')\n",
    "plt.ylabel('petal width (cm)')\n",
    "plt.title('Iris dataset: sepal length vs petal width')\n",
    "plt.legend(loc='lower right')\n",
    "plt.savefig(\"results/plot1.png\")\n",
    "plt.close()\n",
    "### END SOLUTION"
   ]
  },
  {
   "cell_type": "code",
   "execution_count": 19,
   "metadata": {
    "nbgrader": {
     "grade": true,
     "grade_id": "Question 08",
     "locked": true,
     "points": "20",
     "solution": false
    }
   },
   "outputs": [
    {
     "name": "stdout",
     "output_type": "stream",
     "text": [
      "Correct!\n"
     ]
    }
   ],
   "source": [
    "### BEGIN HIDDEN TESTS (20)\n",
    "from matplotlib.testing.decorators import compare_images\n",
    "\n",
    "# Data\n",
    "iris_ = datasets.load_iris()\n",
    "iris_df_ = pd.DataFrame(iris_['data'], columns=iris_['feature_names'])\n",
    "iris_df_['species'] = iris_['target']\n",
    "\n",
    "# Set color and names for legend\n",
    "colours_ = ['red', 'orange', 'blue']\n",
    "species_ = ['I. setosa', 'I. versicolor', 'I. virginica']\n",
    "\n",
    "for i in range(0, 3):    \n",
    "    species_df_ = iris_df_[iris_df['species'] == i]    \n",
    "    plt.scatter(        \n",
    "        species_df_['sepal length (cm)'],        \n",
    "        species_df_['petal width (cm)'],\n",
    "        color=colours_[i],        \n",
    "        alpha=0.5,        \n",
    "        label=species_[i]   \n",
    "    )\n",
    "\n",
    "plt.xlabel('sepal length (cm)')\n",
    "plt.ylabel('petal width (cm)')\n",
    "plt.title('Iris dataset: sepal length vs petal width')\n",
    "plt.legend(loc='lower right')\n",
    "plt.savefig(\"results/plot1_.png\")\n",
    "\n",
    "plt.close()\n",
    "#\n",
    "#\n",
    "#\n",
    "\n",
    "import os\n",
    "\n",
    "assert os.path.isfile('results/plot1.png'), \"Make sure than you saved the plot in the 'results' folder and that the plot name is correct.\"\n",
    "assert isinstance(compare_images(\"results/plot1.png\",\"results/plot1_.png\", tol=0.0001), type(None)), \"The plots are not the same\"\n",
    "print(\"Correct!\")\n",
    "\n",
    "if os.path.isfile('results/plot1.png'):\n",
    "    os.remove('results/plot1.png')\n",
    "### END HIDDEN TESTS"
   ]
  },
  {
   "cell_type": "markdown",
   "metadata": {
    "nbgrader": {
     "grade": false,
     "locked": true,
     "solution": false
    }
   },
   "source": [
    "## %subtitle_5%"
   ]
  },
  {
   "cell_type": "markdown",
   "metadata": {
    "nbgrader": {
     "grade": false,
     "locked": true,
     "solution": false
    }
   },
   "source": [
    "[Back to top](#Index:) \n",
    "\n",
    "### Question 9\n",
    "*10 points*\n",
    "\n",
    "Create a $t$ distribution with 15 degrees of freedom and save it in a variable called `t_dist`. Next, calculate the cumulative distribution function of `t_dist` with `t_values` and save it in a variable called `t_cdf`. \n",
    "\n",
    "**Hint: Use the scipy.stats sp module to find the t-statistic.**"
   ]
  },
  {
   "cell_type": "code",
   "execution_count": 20,
   "metadata": {},
   "outputs": [],
   "source": [
    "### GRADED\n",
    "\n",
    "# Use these values for the calculations below\n",
    "t_values = np.linspace(-4, 4, 1000)\n",
    "\n",
    "### YOUR SOLUTION HERE\n",
    "t_dist = None\n",
    "t_cdf = None\n",
    "\n",
    "### BEGIN SOLUTION\n",
    "t_dist = sp.t(15)\n",
    "t_cdf = t_dist.cdf(t_values)\n",
    "### END SOLUTION"
   ]
  },
  {
   "cell_type": "code",
   "execution_count": 21,
   "metadata": {
    "nbgrader": {
     "grade": true,
     "grade_id": "Question 09",
     "locked": true,
     "points": "10",
     "solution": false
    }
   },
   "outputs": [
    {
     "name": "stdout",
     "output_type": "stream",
     "text": [
      "Correct!\n"
     ]
    }
   ],
   "source": [
    "### BEGIN HIDDEN TESTS (10)\n",
    "from numpy.testing import assert_array_equal\n",
    "\n",
    "t_values_ = np.linspace(-4, 4, 1000)\n",
    "t_dist_ = sp.t(15)\n",
    "t_cdf_ = t_dist_.cdf(t_values_)\n",
    "\n",
    "#\n",
    "#\n",
    "assert_array_equal(t_values_, t_values, err_msg =\"Make sure to use sp.t() to get the t-value and the .cdf() function to get the cumulative distribution function.\", verbose = False), \n",
    "assert_array_equal(t_cdf_, t_cdf, err_msg = \"Make sure to use sp.t() to get the t-value and the .cdf() function to get the cumulative distribution function.\", verbose = False)\n",
    "print(\"Correct!\")\n",
    "### END HIDDEN TESTS"
   ]
  },
  {
   "cell_type": "markdown",
   "metadata": {
    "nbgrader": {
     "grade": false,
     "locked": true,
     "solution": false
    }
   },
   "source": [
    "Let's plot our distribution and CDF:"
   ]
  },
  {
   "cell_type": "code",
   "execution_count": 22,
   "metadata": {
    "nbgrader": {
     "grade": false,
     "locked": true,
     "solution": false
    }
   },
   "outputs": [
    {
     "data": {
      "image/png": "[encoded data removed]",
      "text/plain": [
       "<Figure size 432x288 with 1 Axes>"
      ]
     },
     "metadata": {
      "needs_background": "light"
     },
     "output_type": "display_data"
    }
   ],
   "source": [
    "# Plot the PDF\n",
    "plt.plot(t_values, t_dist.pdf(t_values))\n",
    "plt.xlabel('t value')\n",
    "plt.ylabel('probability for t value')\n",
    "plt.title('PDF for t distribution with df=15')\n",
    "plt.show()"
   ]
  },
  {
   "cell_type": "code",
   "execution_count": 23,
   "metadata": {
    "nbgrader": {
     "grade": false,
     "locked": true,
     "solution": false
    }
   },
   "outputs": [
    {
     "data": {
      "image/png": "[encoded data removed]",
      "text/plain": [
       "<Figure size 432x288 with 1 Axes>"
      ]
     },
     "metadata": {
      "needs_background": "light"
     },
     "output_type": "display_data"
    }
   ],
   "source": [
    "# Plot the CDF\n",
    "plt.plot(t_values, t_cdf)\n",
    "plt.xlabel('t value')\n",
    "plt.ylabel('probability for t value <= t')\n",
    "plt.title('CDF for t distribution with df=15')\n",
    "plt.show()"
   ]
  },
  {
   "cell_type": "markdown",
   "metadata": {
    "nbgrader": {
     "grade": false,
     "locked": true,
     "solution": false
    }
   },
   "source": [
    "[Back to top](#Index:) \n",
    "\n",
    "### Question 10\n",
    "*10 points*\n",
    "\n",
    "Create a function `simulate` that uses a `for` loop to simulate $n$ samples from a binomial distribution. \n",
    "- The function `simulate` must use the function `binomial` inside of its definition.\n",
    "- The function `binomial` represents one simulation of 100 coin tosses. The function `simulate` must return the average number of heads across all of the simulations depending on the number of simulations $n$ chosen by the user.\n",
    "- The function `simulate` must start with the statement `random.seed(123)` so your results are reproducible.\n",
    "\n",
    "**Hint: The function `simulate` must have the parameter `n`.**"
   ]
  },
  {
   "cell_type": "code",
   "execution_count": 24,
   "metadata": {},
   "outputs": [
    {
     "name": "stdout",
     "output_type": "stream",
     "text": [
      "61.0\n",
      "52.8\n",
      "52.4\n",
      "49.7\n",
      "49.993\n",
      "50.01734\n"
     ]
    }
   ],
   "source": [
    "### GRADED\n",
    "\n",
    "import random \n",
    "\n",
    "def binomial():\n",
    "    heads = 0\n",
    "    for i in range(100):\n",
    "        if random.random() <= 0.5:\n",
    "            heads +=1\n",
    "    return heads\n",
    "\n",
    "\n",
    "### YOUR SOLUTION HERE\n",
    "def simulate():\n",
    "    return\n",
    "\n",
    "### BEGIN SOLUTION\n",
    "def simulate(n):\n",
    "    random.seed(123)\n",
    "    samples = []\n",
    "    for i in range(n):\n",
    "        samples.append(binomial())\n",
    "    return(sum(samples)/n)\n",
    "### END SOLUTION\n",
    "# Let's use now our function to simulate different experiments\n",
    "print(simulate(1))\n",
    "print(simulate(5))\n",
    "print(simulate(10))\n",
    "print(simulate(100))\n",
    "print(simulate(1000))\n",
    "print(simulate(100000))"
   ]
  },
  {
   "cell_type": "code",
   "execution_count": 25,
   "metadata": {
    "nbgrader": {
     "grade": true,
     "grade_id": "Question 11",
     "locked": true,
     "points": "10",
     "solution": false
    }
   },
   "outputs": [
    {
     "name": "stdout",
     "output_type": "stream",
     "text": [
      "Correct!\n"
     ]
    }
   ],
   "source": [
    "### BEGIN HIDDEN TESTS (10)\n",
    "import random \n",
    "\n",
    "def binomial_():\n",
    "    heads = 0\n",
    "    for i in range(100):\n",
    "        if random.random() <= 0.5:\n",
    "            heads +=1\n",
    "    return heads\n",
    "    \n",
    "def simulate_(n):\n",
    "    random.seed(123)\n",
    "    samples = []\n",
    "    for i in range(n):\n",
    "        samples.append(binomial_())\n",
    "    return(sum(samples)/n)\n",
    "#\n",
    "#\n",
    "for i in [1, 100, 10000]:\n",
    "    assert math.isclose(simulate_(i), simulate(i)), \"Make sure you are using a for loop with range(n) to append the samples and then return the average number of heads per sample.\"\n",
    "\n",
    "print(\"Correct!\")\n",
    "### END HIDDEN TESTS"
   ]
  },
  {
   "cell_type": "markdown",
   "metadata": {
    "nbgrader": {
     "grade": false,
     "locked": true,
     "solution": false
    }
   },
   "source": [
    "[Back to top](#Index:) \n",
    "\n",
    "### Question 11\n",
    "*5 points*\n",
    "\n",
    "We know that for a fair coin the number of heads and tails in $n$ trials should be something like 50% and 50%.\n",
    "\n",
    "From the above function, would you say that for a bigger $n$ value we are further or closer from that theoretical value?\n",
    "\n",
    "Answer above with the words \"further\" or \"closer\" and assign that String to the variable `ans1`."
   ]
  },
  {
   "cell_type": "code",
   "execution_count": 26,
   "metadata": {},
   "outputs": [],
   "source": [
    "### GRADED\n",
    "\n",
    "### YOUR SOLUTION HERE\n",
    "ans1 = None\n",
    "\n",
    "### BEGIN SOLUTION\n",
    "ans1 = \"closer\"\n",
    "### END SOLUTION"
   ]
  },
  {
   "cell_type": "code",
   "execution_count": 27,
   "metadata": {
    "nbgrader": {
     "grade": true,
     "grade_id": "Question 12",
     "locked": true,
     "points": "5",
     "solution": false
    }
   },
   "outputs": [
    {
     "name": "stdout",
     "output_type": "stream",
     "text": [
      "Correct!\n"
     ]
    }
   ],
   "source": [
    "### BEGIN HIDDEN TESTS (5)\n",
    "#\n",
    "#\n",
    "assert ans1 == \"closer\", \"More trials usually means we get a more accurate value compared to the theoretical value.\"\n",
    "print(\"Correct!\")\n",
    "### END HIDDEN TESTS"
   ]
  },
  {
   "cell_type": "markdown",
   "metadata": {
    "nbgrader": {
     "grade": false,
     "locked": true,
     "solution": false
    }
   },
   "source": [
    "## %subtitle_6%"
   ]
  },
  {
   "cell_type": "markdown",
   "metadata": {
    "nbgrader": {
     "grade": false,
     "locked": true,
     "solution": false
    }
   },
   "source": [
    "[Back to top](#Index:) \n",
    "\n",
    "### Question 12\n",
    "*20 points*\n",
    "\n",
    "This question is about the Binomial distribution. Remember that the binomial distribution is the distribution found from repeating a Bernoulli trial with a $p$ chance of success  $n$ times. Let's setup an experiment. You are a data scientist and you are asked to improve the ROI (Return on Investment) of a company’s call center, where employees attempt to cold call potential customers and get them to purchase our product.\n",
    "\n",
    "You look at some historical data and find the following:\n",
    "\n",
    "- The typical call center employee completes on average 50 calls per day.\n",
    "- The probability of a conversion (purchase) for each call is 4%.\n",
    "- The average revenue to your company for each conversion is \\$20.\n",
    "- The call center you are analyzing has 100 employees.\n",
    "- Each employee is paid $200 per day of work.\n",
    "\n",
    "We can think of each employee as a binomially distributed random variable with the following parameters:\n",
    "\n",
    "- $n $= 50\n",
    "- $p$ = 4%\n",
    "\n",
    "Simulate the call center with the given data below and calculate the following (the name you should use for the variable containing your solution is between parentheses):\n",
    "\n",
    "- Average Conversions per Employee (`avg_conv_emp`) (Mean of conversions)\n",
    "- Standard Deviation of Conversions per Employee (`std_conv_emp`) (Standard deviation of conversions)\n",
    "- Total Conversions (`tot_conv`) (The sum of all conversions)\n",
    "- Total Revenues (`tot_revenue`) (The sum of all the conversions times the revenue per conversion)\n",
    "- Total Expenses (`tot_expenses`) (The number of employees times their wage)\n",
    "- Total Profits (`total_profit`) (This is the total revenue minus the total expenses)\n",
    "\n",
    "**Don't change the seed.**\n",
    "\n",
    "**Hint: The conversions should be calculated with the binomial distribution. You can use `np.random.binomial()` for this. Remember to use the number of employees as the size.**"
   ]
  },
  {
   "cell_type": "code",
   "execution_count": 28,
   "metadata": {},
   "outputs": [],
   "source": [
    "### GRADED \n",
    "\n",
    "# Number of employees to simulate\n",
    "employees = 100\n",
    "# Cost per employee\n",
    "wage = 200\n",
    "# Number of independent calls per employee\n",
    "n = 50\n",
    "# Probability of success for each call\n",
    "p = 0.04\n",
    "# Revenue per call\n",
    "revenue = 100\n",
    "\n",
    "### YOUR SOLUTION HERE\n",
    "\n",
    "# Calculate the conversions with the binomial distriburion\n",
    "np.random.seed(123)\n",
    "conversions = None\n",
    "\n",
    "# Calculate all of the following using the data from above\n",
    "avg_conv_emp = None\n",
    "std_conv_emp = None\n",
    "tot_conv = None\n",
    "tot_revenue = None\n",
    "tot_expenses = None\n",
    "total_profit = None\n",
    "\n",
    "### BEGIN SOLUTION\n",
    "np.random.seed(123)\n",
    "conversions = np.random.binomial(n, p, size=employees)\n",
    "avg_conv_emp = np.mean(conversions)\n",
    "std_conv_emp = np.std(conversions)\n",
    "tot_conv = np.sum(conversions)\n",
    "tot_revenue = np.sum(conversions)*revenue\n",
    "tot_expenses = employees*wage\n",
    "total_profit = np.sum(conversions)*revenue - (employees*wage)\n",
    "### END SOLUTION"
   ]
  },
  {
   "cell_type": "code",
   "execution_count": 29,
   "metadata": {
    "nbgrader": {
     "grade": true,
     "grade_id": "Question 13",
     "locked": true,
     "points": "20",
     "solution": false
    }
   },
   "outputs": [
    {
     "name": "stdout",
     "output_type": "stream",
     "text": [
      "Correct!\n"
     ]
    }
   ],
   "source": [
    "### BEGIN HIDDEN TESTS (20)\n",
    "from numpy.testing import assert_array_equal\n",
    "\n",
    "# Number of employees to simulate\n",
    "employees_ = 100\n",
    "# Cost per employee\n",
    "wage_ = 200\n",
    "# Number of independent calls per employee\n",
    "n_ = 50\n",
    "# Probability of success for each call\n",
    "p_ = 0.04\n",
    "# Revenue per call\n",
    "revenue_ = 100\n",
    "\n",
    "np.random.seed(123)\n",
    "conversions_ = np.random.binomial(n_, p_, size=employees_)\n",
    "avg_conv_emp_ = np.mean(conversions_)\n",
    "std_conv_emp_ = np.std(conversions_)\n",
    "tot_conv_ = np.sum(conversions_)\n",
    "tot_revenue_ = np.sum(conversions_)*revenue_\n",
    "tot_expenses_ = employees_*wage_\n",
    "total_profit_ = np.sum(conversions_)*revenue_ - (employees_*wage_)\n",
    "#\n",
    "#\n",
    "#\n",
    "assert_array_equal(conversions,conversions_, err_msg =  \"Make sure you are using the numpy functions such as np.sum() and np.mean() for your calculations.\", verbose = False)\n",
    "assert math.isclose(avg_conv_emp_, avg_conv_emp)\n",
    "assert math.isclose(std_conv_emp_, std_conv_emp)\n",
    "assert math.isclose(tot_conv_, tot_conv)\n",
    "assert math.isclose(tot_revenue_, tot_revenue)\n",
    "assert math.isclose(tot_expenses_, tot_expenses)\n",
    "assert math.isclose(total_profit_, total_profit)\n",
    "print(\"Correct!\")\n",
    "### END HIDDEN TESTS"
   ]
  },
  {
   "cell_type": "markdown",
   "metadata": {
    "nbgrader": {
     "grade": false,
     "locked": true,
     "solution": false
    }
   },
   "source": [
    "[Back to top](#Index:) \n",
    "\n",
    "### Question 13\n",
    "*10 points*\n",
    "\n",
    "This question is about the t-test. Generate two random normal distributions (using the `randn()` function from the `numpy.random` module) called `data_1` and `data_2`, with 1000 data points each. `data_1` must have a mean of 100 while `data_2` must have a mean of 101. Both of them must have a standard deviation of 5. Run a two-sample t-test between `data_1` and `data_2` and assing the resulting t-statistic to `t_stat` and its p-value to `p_val`.\n",
    "\n",
    "**Hint: Use the `ttest_ind()` function.**"
   ]
  },
  {
   "cell_type": "code",
   "execution_count": 30,
   "metadata": {},
   "outputs": [],
   "source": [
    "### GRADED \n",
    "\n",
    "from numpy.random import seed\n",
    "from numpy.random import randn\n",
    "from scipy.stats import ttest_ind\n",
    "\n",
    "seed(42)\n",
    "\n",
    "### YOUR SOLUTION HERE\n",
    "data_1 = None\n",
    "data_2 = None\n",
    "\n",
    "t_stat = None\n",
    "p_val = None\n",
    "\n",
    "### BEGIN SOLUTION\n",
    "data_1 = 5 * randn(1000) + 100\n",
    "data_2 = 5 * randn(1000) + 101\n",
    "t_stat, p_val = ttest_ind(data_1, data_2)\n",
    "### END SOLUTION"
   ]
  },
  {
   "cell_type": "code",
   "execution_count": 31,
   "metadata": {
    "nbgrader": {
     "grade": true,
     "grade_id": "Question 14",
     "locked": true,
     "points": "10",
     "solution": false
    }
   },
   "outputs": [
    {
     "name": "stdout",
     "output_type": "stream",
     "text": [
      "Correct!\n"
     ]
    }
   ],
   "source": [
    "### BEGIN HIDDEN TESTS (10)\n",
    "from numpy.testing import assert_array_equal\n",
    "from numpy.random import seed\n",
    "from numpy.random import randn\n",
    "from scipy.stats import ttest_ind\n",
    "\n",
    "seed(42)\n",
    "data_1_ = 5 * randn(1000) + 100\n",
    "data_2_ = 5 * randn(1000) + 101\n",
    "t_stat_, p_val_ = ttest_ind(data_1_, data_2_)\n",
    "\n",
    "#\n",
    "#\n",
    "assert_array_equal(data_1_, data_1, err_msg = 'Make sure you are using randn(1000) and testing both sets of data in ttest_ind().', verbose = False)\n",
    "assert_array_equal(data_2_, data_2, err_msg = 'Make sure you are using randn(1000) and testing both sets of data in ttest_ind().', verbose = False)\n",
    "assert math.isclose(t_stat_, t_stat)\n",
    "assert math.isclose(p_val_, p_val)\n",
    "print(\"Correct!\")\n",
    "### END HIDDEN TESTS"
   ]
  },
  {
   "cell_type": "markdown",
   "metadata": {
    "nbgrader": {
     "grade": false,
     "locked": true,
     "solution": false
    }
   },
   "source": [
    "[Back to top](#Index:) \n",
    "\n",
    "### Question 14\n",
    "*15 points*\n",
    "    \n",
    "You are given the data taken from a sample of 10 different students with the mean age of the students proposed as being 23 years old. Build a one-sided t-test to check that hypothesis. You should build a function named `test` that takes the argument `age=df[\"age\"]`, and return the boolean `True` if you are accepting the null hypothesis or the boolean `False` if you are rejecting it. \n",
    "\n",
    "Call the function and save your result to the variable `age_test`.\n",
    "\n",
    "Use a `p_val` of 0.05 to test the hypothesis.\n",
    "\n",
    "**Hint: Use the function `ttest_1samp()` to get your p-value.**"
   ]
  },
  {
   "cell_type": "code",
   "execution_count": 32,
   "metadata": {},
   "outputs": [],
   "source": [
    "### GRADED \n",
    "from scipy.stats import ttest_1samp\n",
    "\n",
    "df = pd.DataFrame({\"name\":[\"marc\",\"james\",\"favio\",\"alexandra\",\"nelly\",\"freddy\", \"charles\", \"bob\", \"maria\", \"peter\"], \n",
    "                   \"age\":[20, 22, 23, 22, 30, 22, 25, 22, 21, 23]})\n",
    "\n",
    "### YOUR SOLUTION HERE\n",
    "def test():\n",
    "    return\n",
    "\n",
    "age_test = None\n",
    "\n",
    "### BEGIN SOLUTION\n",
    "def test(age=df[\"age\"]):\n",
    "    age = df[\"age\"]\n",
    "    ages_mean = np.mean(age)\n",
    "    tset, pval = ttest_1samp(age, 23)\n",
    "    if pval < 0.05:    # alpha value is 0.05 or 5%\n",
    "         return False\n",
    "    else:\n",
    "        return True\n",
    "    \n",
    "age_test = test()\n",
    "### END SOLUTION"
   ]
  },
  {
   "cell_type": "code",
   "execution_count": 33,
   "metadata": {
    "nbgrader": {
     "grade": true,
     "grade_id": "Question 15",
     "locked": true,
     "points": "15",
     "solution": false
    }
   },
   "outputs": [
    {
     "name": "stdout",
     "output_type": "stream",
     "text": [
      "Correct!\n"
     ]
    }
   ],
   "source": [
    "### BEGIN HIDDEN TESTS (15)\n",
    "from scipy.stats import ttest_1samp\n",
    "\n",
    "df_ = pd.DataFrame({\"name\":[\"marc\",\"james\",\"favio\",\"alexandra\",\"nelly\",\"freddy\", \"charles\", \"bob\", \"maria\", \"peter\"], \n",
    "                   \"age\":[20, 22, 23, 22, 30, 22, 25, 22, 21, 23]})\n",
    "\n",
    "def test_(age=df_[\"age\"]):\n",
    "    age = df[\"age\"]\n",
    "    ages_mean = np.mean(age)\n",
    "    tset, pval = ttest_1samp(age, 23)\n",
    "    if pval < 0.05:    # alpha value is 0.05 or 5%\n",
    "         return False\n",
    "    else:\n",
    "        return True\n",
    "    \n",
    "age_test_ = test_()\n",
    "\n",
    "#\n",
    "#\n",
    "assert age_test_ == age_test, \"Make sure you used ttest_1samp() with the if statement if pval < 0.05.\"\n",
    "print(\"Correct!\")\n",
    "\n",
    "### END HIDDEN TESTS"
   ]
  }
 ],
 "metadata": {
  "kernelspec": {
   "display_name": "Python 3",
   "language": "python",
   "name": "python3"
  },
  "language_info": {
   "codemirror_mode": {
    "name": "ipython",
    "version": 3
   },
   "file_extension": ".py",
   "mimetype": "text/x-python",
   "name": "python",
   "nbconvert_exporter": "python",
   "pygments_lexer": "ipython3",
   "version": "3.7.3"
  }
 },
 "nbformat": 4,
 "nbformat_minor": 4
}
