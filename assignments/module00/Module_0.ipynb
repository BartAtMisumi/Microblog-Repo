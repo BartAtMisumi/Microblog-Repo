{
 "cells": [
  {
   "cell_type": "markdown",
   "metadata": {},
   "source": [
    "# %title%\n",
    "\n",
    "**_Author: Favio Vázquez_**\n",
    "    \n",
    "Hello and welcome to Darmouth University. In this notebook we will show you how to get started with the Python programming language using Jupyter. The basic idea is to get you familiarized with the platform and the assigments that will accompany you through the learning process. \n",
    "\n",
    "Make sure to check the coding videos we prepared for you prior to this notebook so you have the necessary background to solve the questions. We will also follow the structure of the coding demos so if at some point you're not sure how to solve a particular problem, we recommend that you go back and watch them agin. \n",
    "\n",
    "Before going into questions, let's run some examples so you can see how to work and approach different problems."
   ]
  },
  {
   "cell_type": "markdown",
   "metadata": {},
   "source": [
    "## Assignment Grading Examples:\n",
    "\n",
    "All the questions in the assigments will be graded automatically and you will have the chance to fix yor solutions many times in order to get the expected output. Make sure to follow the steps carefully (and don't delete or change anything unless you're asked to)."
   ]
  },
  {
   "cell_type": "markdown",
   "metadata": {},
   "source": [
    "### Question 1: \n",
    "Assign the String `\"hello\"` to `var`:"
   ]
  },
  {
   "cell_type": "code",
   "execution_count": 1,
   "metadata": {},
   "outputs": [
    {
     "name": "stdout",
     "output_type": "stream",
     "text": [
      "hello\n"
     ]
    }
   ],
   "source": [
    "### GRADED\n",
    "\n",
    "### YOUR SOLUTION HERE\n",
    "var = None ## edit code here\n",
    "\n",
    "### BEGIN SOLUTION\n",
    "var = \"hello\"\n",
    "### END SOLUTION\n",
    "\n",
    "### Testing answers below:\n",
    "print(var)"
   ]
  },
  {
   "cell_type": "markdown",
   "metadata": {},
   "source": [
    "In the cell above you can see the structure of the questions. In the markdown cell just before the question, you'll see a question number and a short prompt. Then you will see the comment: `### GRADED` that will tell you that the cell is being autograded. Next, you'll see a short description of what you have to do. \n",
    "\n",
    "After that, you'll see the comment: `### YOUR ANSWER BELOW` or `### YOUR SOLUTION HERE` telling you where to put your solution. You can use as many auxiliary variables and additional code as you need, but always below the comment. Note that we have already initialized the answer variables and assigned them to `None`, this is to avoid errors when typing the variable names that contain the results. You can replace the value `None` with the actual answer or redefine it below."
   ]
  },
  {
   "cell_type": "code",
   "execution_count": 2,
   "metadata": {},
   "outputs": [],
   "source": [
    "### BEGIN HIDDEN TESTS\n",
    "var_ = \"hello\"\n",
    "#\n",
    "#\n",
    "#\n",
    "assert var_ == var\n",
    "### END HIDDEN TESTS"
   ]
  },
  {
   "cell_type": "markdown",
   "metadata": {},
   "source": [
    "### Question 2: \n",
    "Assign the String `\"hello data science world\"` to `var_1`"
   ]
  },
  {
   "cell_type": "code",
   "execution_count": 3,
   "metadata": {},
   "outputs": [],
   "source": [
    "### GRADED\n",
    "\n",
    "### YOUR SOLUTION HERE\n",
    "var_1 = None\n",
    "\n",
    "### BEGIN SOLUTION\n",
    "var_1 = \"hello data science world\"\n",
    "### END SOLUTION"
   ]
  },
  {
   "cell_type": "code",
   "execution_count": 4,
   "metadata": {},
   "outputs": [],
   "source": [
    "### BEGIN HIDDEN TESTS\n",
    "var_1_ = \"hello data science world\"\n",
    "#\n",
    "#\n",
    "#\n",
    "assert var_1 == var_1_\n",
    "### END HIDDEN TESTS"
   ]
  },
  {
   "cell_type": "markdown",
   "metadata": {},
   "source": [
    "## Submitting your answers\n",
    "Once you are done answering all the questions, click the button `Submit` on the top menu. Your code will be sent to the autograder engine and your scores will appear automatically in the `Grades` section, on the right panel. Grading usually takes between 30 seconds and 10 minutes, depending on the length of the assignment and the efficiency of the code in your answers!\n",
    "\n",
    "And that's it, you've just earned your first points. Congratulations!"
   ]
  }
 ],
 "metadata": {
  "kernelspec": {
   "display_name": "Python 3",
   "language": "python",
   "name": "python3"
  },
  "language_info": {
   "codemirror_mode": {
    "name": "ipython",
    "version": 3
   },
   "file_extension": ".py",
   "mimetype": "text/x-python",
   "name": "python",
   "nbconvert_exporter": "python",
   "pygments_lexer": "ipython3",
   "version": "3.7.3"
  }
 },
 "nbformat": 4,
 "nbformat_minor": 4
}
