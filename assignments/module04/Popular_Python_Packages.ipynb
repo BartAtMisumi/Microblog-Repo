{
 "cells": [
  {
   "cell_type": "markdown",
   "metadata": {},
   "source": [
    "# %title%\n",
    "\n",
    "**_Author: Jessica Cervi_**\n",
    "\n",
    "**Expected time = %expected_time%**\n",
    "\n",
    "**Total points = 90 points**"
   ]
  },
  {
   "cell_type": "markdown",
   "metadata": {},
   "source": [
    "\n",
    "## Assignment Overview\n",
    "\n",
    "\n",
    "In this assignment you will work with the material you learned in Module 4, packages scripts, such as the `Numpy` and `pandas` libraries. You will learn how to import packages and how to use their functions. You will also test your knowledge on 1D and 2D `NumPy` arrays. In the second half of the assignment, you will be asked to work with DataFrames.  You will be asked to create DataFrames and to select dataseries. Finally, you will be asked to filter the data in a DataFrame and compute basic statistic on its entries.\n",
    "\n",
    "\n",
    "This assignment is designed to build your familiarity and comfort coding in Python while also helping you review key topics from each module. As you progress through the assignment, answers will get increasingly complex. It is important that you adopt a data scientist's mindset when completing this assignment. Remember to run your code from each cell before submitting your assignment. Running your code beforehand will notify you of errors and give you a chance to fix them before submitting. You should view your Vocareum submission as if you are delivering a final project to your manager or client.\n",
    "\n",
    "**Vocareum Tips**\n",
    "   - Do not add arguments or options to functions unless you are specifically asked to. This will cause an error in Vocareum.\n",
    "   - Do not use a library unless you are expicitly asked to in the question.\n",
    "\n",
    "\n",
    "### Learning Objectives\n",
    "\n",
    " - Import and use packages in Python and Jupyter Notebooks. \n",
    " - Distinguish between NumPy arrays and lists. \n",
    " - Use NumPy functions for basic statistical analyses. \n",
    " - Practice filtering and slicing DataFrames with pandas. "
   ]
  },
  {
   "cell_type": "markdown",
   "metadata": {},
   "source": [
    "\n",
    "## Index:\n",
    "\n",
    "#### %title%\n",
    "\n",
    "- [Question 1](#Question-1)\n",
    "- [Question 2](#Question-2)\n",
    "- [Question 3](#Question-3)\n",
    "- [Question 4](#Question-4)\n",
    "- [Question 5](#Question-5)\n",
    "- [Question 6](#Question-6)\n",
    "- [Question 7](#Question-7)\n",
    "- [Question 8](#Question-8)\n",
    "- [Question 9](#Question-9)\n",
    "- [Question 10](#Question-10)\n",
    "- [Question 11](#Question-11)\n",
    "- [Question 12](#Question-12)\n",
    "- [Question 13](#Question-13)\n",
    "- [Question 14](#Question-14)\n",
    "- [Question 15](#Question-15)\n",
    "- [Question 16](#Question-16)\n"
   ]
  },
  {
   "cell_type": "markdown",
   "metadata": {},
   "source": [
    "\n",
    "## %title%\n",
    "\n",
    "In this assignment, we will be testing your knowledge of the topics covered in Module 4, such as importing packages, Numpy arrays, pandas DataFrames. Finally, we will test your knowledge about subsetting anf filtering DataFrames and about applying Numpy statistical functions to a Dataframe."
   ]
  },
  {
   "cell_type": "markdown",
   "metadata": {},
   "source": [
    "### Importing packages and functions, aliasing\n",
    "We will begin this assignment with a review of the `NumPy` and `pandas` libraries. As you have learned, `NumPy` is a library for the Python programming language, adding support for large, multi-dimensional arrays and matrices and `pandas` is a software library written for the Python programming language for data manipulation and analysis. We will start with some basic questions about aliasing a package and importing functions.\n",
    "\n",
    "[Back to top](#Index:) \n",
    "\n",
    "### Question 1\n",
    "\n",
    "**5 points**\n",
    "\n",
    "What is the correct syntax to use if you want to alias the library `Numpy` using `np` in your code? \n",
    "    - a) use numpy like np\n",
    "    - b) import numpy as np\n",
    "    - c) from numpy import np\n",
    "    - d) use np like numpy\n",
    "\n",
    "Assign the character associated with your answer as a string to `ans1`. For, example if you believe **a** is the correct answer, submit your answer as `ans1 = 'a'`."
   ]
  },
  {
   "cell_type": "code",
   "execution_count": 1,
   "metadata": {},
   "outputs": [],
   "source": [
    "### GRADED\n",
    "### YOUR SOLUTION HERE\n",
    "ans1 = None\n",
    "\n",
    "### BEGIN SOLUTION\n",
    "ans1 = 'b'\n",
    "### END SOLUTION"
   ]
  },
  {
   "cell_type": "code",
   "execution_count": 2,
   "metadata": {},
   "outputs": [
    {
     "name": "stdout",
     "output_type": "stream",
     "text": [
      "Correct!\n"
     ]
    }
   ],
   "source": [
    "### BEGIN HIDDEN TESTS (5)\n",
    "ans1_ = 'b'\n",
    "#\n",
    "#\n",
    "#\n",
    "assert ans1 == ans1_, \"Remember to use the keywords 'import' and 'as' when aliasing a package.\"\n",
    "print('Correct!')\n",
    "### END HIDDEN TESTS"
   ]
  },
  {
   "cell_type": "markdown",
   "metadata": {},
   "source": [
    "[Back to top](#Index:) \n",
    "\n",
    "### Question 2\n",
    "\n",
    "**5 points**\n",
    "\n",
    "What is the correct syntax to use if you want to alias the library  `pandas` using `pd` in your code? \n",
    "    - a) import Pandas as pd \n",
    "    - b) use pandas a pd\n",
    "    - c) import pandas as pd\n",
    "    - d) from pandas use pd\n",
    "\n",
    "Assign the character associated with your answer as a string to `ans2`. For, example if you believe **a** is the correct answer, submit your answer as `ans2 = 'a'`."
   ]
  },
  {
   "cell_type": "code",
   "execution_count": 3,
   "metadata": {},
   "outputs": [],
   "source": [
    "### GRADED\n",
    "### YOUR SOLUTION HERE\n",
    "ans2 = None\n",
    "\n",
    "### BEGIN SOLUTION\n",
    "ans2 = 'c'\n",
    "### END SOLUTION"
   ]
  },
  {
   "cell_type": "code",
   "execution_count": 4,
   "metadata": {},
   "outputs": [
    {
     "name": "stdout",
     "output_type": "stream",
     "text": [
      "Correct!\n"
     ]
    }
   ],
   "source": [
    "### BEGIN HIDDEN TESTS (5)\n",
    "ans2_ = 'c'\n",
    "#\n",
    "#\n",
    "#\n",
    "assert ans2 == ans2_, \"Remember to use the keywords 'import' and 'as' when aliasing a package.\"\n",
    "print('Correct!')\n",
    "### END HIDDEN TESTS"
   ]
  },
  {
   "cell_type": "markdown",
   "metadata": {},
   "source": [
    "[Back to top](#Index:) \n",
    "\n",
    "### Question 3\n",
    "\n",
    "**5 points**\n",
    "\n",
    "What is the correct syntax to use if you want to import just the function .square() from `NumPy`? \n",
    "    - a) from numpy import .square()\n",
    "    - b) from numpy get square\n",
    "    - c) use square from numpy\n",
    "    - d) from numpy import square\n",
    "\n",
    "Assign the character associated with your answer as a string to `ans3`. For, example if you believe **a** is the correct answer, submit your answer as `ans3 = 'a'`."
   ]
  },
  {
   "cell_type": "code",
   "execution_count": 5,
   "metadata": {},
   "outputs": [],
   "source": [
    "### GRADED\n",
    "### YOUR SOLUTION HERE\n",
    "ans3 = None\n",
    "\n",
    "### BEGIN SOLUTION\n",
    "ans3 = 'd'\n",
    "### END SOLUTION"
   ]
  },
  {
   "cell_type": "code",
   "execution_count": 6,
   "metadata": {},
   "outputs": [
    {
     "name": "stdout",
     "output_type": "stream",
     "text": [
      "Correct!\n"
     ]
    }
   ],
   "source": [
    "### BEGIN HIDDEN TESTS (5)\n",
    "ans3_ = 'd'\n",
    "#\n",
    "#\n",
    "#\n",
    "assert ans3 == ans3_, \"Remember to use the keywords 'from' and 'import' when importing a function from a package.\"\n",
    "print('Correct!')\n",
    "### END HIDDEN TESTS"
   ]
  },
  {
   "cell_type": "markdown",
   "metadata": {},
   "source": [
    "### The NumPy library\n",
    "NumPy is a Python package that stands for Numeric Python. The most useful tool in this package is a new data type called an array. Numpy also comes with sophisticated functions and linear algebra and random number capabilities.\n",
    "In the next questions, we will learn how to create numpy arrays, how to perform basic operations on them, and how to slice them.\n",
    "\n",
    "You can find more information about the `NumPy` package [here](https://numpy.org/doc/1.18/reference/index.html).\n",
    "\n",
    "\n",
    "**Note: Questions 4, 5, 6, and 7 are connected and must to be answered in sequence.**\n",
    "\n",
    "[Back to top](#Index:) \n",
    "\n",
    "### Question 4\n",
    "\n",
    "**5 points**\n",
    "\n",
    "Given `distance=[2000,4000,6000,7000,1000]`, use `np.array()` to create a numpy array from `distance`. Name this array `np_distance`."
   ]
  },
  {
   "cell_type": "code",
   "execution_count": 7,
   "metadata": {},
   "outputs": [],
   "source": [
    "#impoting numpy and pandas\n",
    "import numpy as np\n",
    "import pandas as pd"
   ]
  },
  {
   "cell_type": "code",
   "execution_count": 8,
   "metadata": {},
   "outputs": [],
   "source": [
    "### GRADED\n",
    "distance=[2000,4000,6000,7000,1000]\n",
    "\n",
    "### YOUR SOLUTION HERE\n",
    "np_distance = None\n",
    "\n",
    "### BEGIN SOLUTION\n",
    "np_distance = np.array(distance)\n",
    "### END SOLUTION"
   ]
  },
  {
   "cell_type": "code",
   "execution_count": 9,
   "metadata": {},
   "outputs": [
    {
     "name": "stdout",
     "output_type": "stream",
     "text": [
      "Correct!\n"
     ]
    }
   ],
   "source": [
    "### BEGIN HIDDEN TESTS (5)\n",
    "np_distance_ = np.array(distance)\n",
    "#\n",
    "#\n",
    "#\n",
    "assert type(np_distance) == type(np_distance_), \"Remember to use the NumPy function .array() when creating arrays.\"\n",
    "print('Correct!')\n",
    "### END HIDDEN TESTS"
   ]
  },
  {
   "cell_type": "markdown",
   "metadata": {},
   "source": [
    "[Back to top](#Index:) \n",
    "\n",
    "### Question 5\n",
    "\n",
    "**5 points**\n",
    "\n",
    "Divide `np_distance` by 1000 to obtain the distance in kilometers. Name this array `np_distance_km`."
   ]
  },
  {
   "cell_type": "code",
   "execution_count": 10,
   "metadata": {},
   "outputs": [],
   "source": [
    "### GRADED\n",
    "### YOUR SOLUTION HERE\n",
    "np_distance_km = None\n",
    "\n",
    "### BEGIN SOLUTION\n",
    "np_distance_km = np_distance/1000\n",
    "### END SOLUTION"
   ]
  },
  {
   "cell_type": "code",
   "execution_count": 11,
   "metadata": {},
   "outputs": [
    {
     "name": "stdout",
     "output_type": "stream",
     "text": [
      "Correct!\n"
     ]
    }
   ],
   "source": [
    "### BEGIN HIDDEN TESTS (5)\n",
    "np_distance_km_ = np_distance_/1000\n",
    "#\n",
    "#\n",
    "#\n",
    "np.testing.assert_equal(np_distance_km_, np_distance_km), \"Remember, in NumPy, you can peform elementwise calculations\"\n",
    "print('Correct!')\n",
    "### END HIDDEN TESTS"
   ]
  },
  {
   "cell_type": "markdown",
   "metadata": {},
   "source": [
    "[Back to top](#Index:) \n",
    "\n",
    "### Question 6\n",
    "\n",
    "**5 points**\n",
    "\n",
    "Given time=[0.5, 1,1.3,1.5,2], use `np.array()` to create a numpy array from time. Name this array `np_time`. Next, divide `np_distance_km` by `np_time`. Name this array `np_velocity`.\n",
    "\n"
   ]
  },
  {
   "cell_type": "code",
   "execution_count": 12,
   "metadata": {},
   "outputs": [],
   "source": [
    "### GRADED\n",
    "time=[0.5, 1,1.3,1.5,2]\n",
    "\n",
    "### YOUR SOLUTION HERE\n",
    "np_time = None\n",
    "\n",
    "### BEGIN SOLUTION\n",
    "np_time = np.array(time)\n",
    "np_velocity = np_distance_km/np_time\n",
    "### END SOLUTION"
   ]
  },
  {
   "cell_type": "code",
   "execution_count": 13,
   "metadata": {},
   "outputs": [
    {
     "name": "stdout",
     "output_type": "stream",
     "text": [
      "Correct!\n"
     ]
    }
   ],
   "source": [
    "### BEGIN HIDDEN TESTS (5)\n",
    "np_time_ = np.array(time)\n",
    "np_velocity_ = np_distance_km_/np_time_\n",
    "#\n",
    "#\n",
    "#\n",
    "assert type(np_time) == type(np_time_), \"Remember to use the NumPy function .array() when creating arrays.\"\n",
    "np.testing.assert_equal(np_velocity_, np_velocity), \"Remember, in NumPy, you can peform elementwise calculations\"\n",
    "print('Correct!')\n",
    "### END HIDDEN TESTS"
   ]
  },
  {
   "cell_type": "markdown",
   "metadata": {},
   "source": [
    "[Back to top](#Index:) \n",
    "\n",
    "### Question 7\n",
    "\n",
    "**5 points**\n",
    "\n",
    "We just got some new information and want to update our data. Make a copy of `np_velocity` and store it in a new list called `np_velocity_fixed`, then change the second to last element of this new list to `1.8`."
   ]
  },
  {
   "cell_type": "code",
   "execution_count": 14,
   "metadata": {},
   "outputs": [],
   "source": [
    "### GRADED\n",
    "### YOUR SOLUTION HERE\n",
    "np_velocity_fixed = None\n",
    "\n",
    "### BEGIN SOLUTION\n",
    "np_velocity_fixed = np_velocity\n",
    "np_velocity_fixed[-2] = 1.8\n",
    "### END SOLUTION"
   ]
  },
  {
   "cell_type": "code",
   "execution_count": 15,
   "metadata": {},
   "outputs": [
    {
     "name": "stdout",
     "output_type": "stream",
     "text": [
      "Correct!\n"
     ]
    }
   ],
   "source": [
    "### BEGIN HIDDEN TESTS (5)\n",
    "np_velocity_fixed_ = np_velocity_\n",
    "np_velocity_fixed_[-2] = 1.8\n",
    "#\n",
    "#\n",
    "#\n",
    "np.testing.assert_equal(np_velocity_fixed, np_velocity_fixed_), \"Make sure you have accessed the second last element of a NumPy array using the index '-2'\"\n",
    "print(\"Correct!\")\n",
    "### END HIDDEN TESTS"
   ]
  },
  {
   "cell_type": "markdown",
   "metadata": {},
   "source": [
    "### Getting started with NumPy 2D arrays\n",
    "\n",
    "In `NumPy`, rather than creating a numpy array with 1 dimension, you can create arrays that have more than one dimension. In the next questions you will work with 2D numpy arrays and retrieve the data you want from it.  \n",
    "\n",
    "\n",
    "**Note: Questions 8, 9, 10, and 11 are connected and must be answered in sequence.**\n",
    "\n",
    "[Back to top](#Index:) \n",
    "\n",
    "### Question 8\n",
    "\n",
    "**5 points**\n",
    "\n",
    "The list `body_measurement`, defined below, contains the body measurements of 4 students. Each of its elements is another list containing the height and the weight of each of the 4 students.\n",
    "Given `body_measurement` defined below, use `np.array()` to create a 2D NumPy array from `body_measurement`. Name it `np_body_measurement`.\n",
    "\n",
    "Note that the heights and weights will be in the first and second columns of the array, respectively."
   ]
  },
  {
   "cell_type": "code",
   "execution_count": 16,
   "metadata": {},
   "outputs": [],
   "source": [
    "### GRADED\n",
    "body_measurement = [[168, 55.4],\n",
    "                    [155, 47.7],\n",
    "                    [175, 69.5],\n",
    "                    [189, 90.2]]\n",
    "\n",
    "### YOUR SOLUTION HERE\n",
    "np_body_measurement= None\n",
    "\n",
    "### BEGIN SOLUTION\n",
    "np_body_measurement = np.array(body_measurement)\n",
    "### END SOLUTION"
   ]
  },
  {
   "cell_type": "code",
   "execution_count": 17,
   "metadata": {},
   "outputs": [
    {
     "name": "stdout",
     "output_type": "stream",
     "text": [
      "Correct!\n"
     ]
    }
   ],
   "source": [
    "### BEGIN HIDDEN TESTS (5)\n",
    "body_measurement_ = [[168, 55.4],\n",
    "                     [155, 47.7],\n",
    "                     [175, 69.5],\n",
    "                     [189, 90.2]]\n",
    "\n",
    "np_body_measurement_ = np.array(body_measurement_)\n",
    "#\n",
    "#\n",
    "#\n",
    "assert type(np_body_measurement) == type(np_body_measurement_), \"Remember to use the NumPy function .array() when creating arrays.\"\n",
    "np.testing.assert_allclose(np_body_measurement, np_body_measurement_), \"Remember to use the NumPy function .array() when creating arrays.\"\n",
    "print(\"Correct!\")\n",
    "### END HIDDEN TESTS"
   ]
  },
  {
   "cell_type": "markdown",
   "metadata": {},
   "source": [
    "[Back to top](#Index:) \n",
    "\n",
    "### Question 9\n",
    "\n",
    "**5 points**\n",
    "\n",
    "Use the numpy function `shape` to get the shape of `np_body_measurement`. Assign the shape to the variable `ans9`."
   ]
  },
  {
   "cell_type": "code",
   "execution_count": 18,
   "metadata": {},
   "outputs": [],
   "source": [
    "### GRADED\n",
    "### YOUR SOLUTION HERE\n",
    "ans9= None\n",
    "\n",
    "### BEGIN SOLUTION\n",
    "ans9 = np_body_measurement.shape\n",
    "### END SOLUTION"
   ]
  },
  {
   "cell_type": "code",
   "execution_count": 19,
   "metadata": {},
   "outputs": [
    {
     "name": "stdout",
     "output_type": "stream",
     "text": [
      "Correct!\n"
     ]
    }
   ],
   "source": [
    "### BEGIN HIDDEN TESTS (5)\n",
    "ans9_ = np_body_measurement_.shape\n",
    "#\n",
    "#\n",
    "#\n",
    "assert type(ans9) == type(ans9_)\n",
    "assert ans9 == ans9_, \"Make sure you have used the function .shape() correctly.\"\n",
    "print(\"Correct!\")\n",
    "### END HIDDEN TESTS"
   ]
  },
  {
   "cell_type": "markdown",
   "metadata": {},
   "source": [
    "[Back to top](#Index:) \n",
    "\n",
    "### Question 10\n",
    "\n",
    "**5 points**\n",
    "\n",
    "Select the body measurments of the second student in `np_body_measurement` and assign it to `second_student`.\n"
   ]
  },
  {
   "cell_type": "code",
   "execution_count": 20,
   "metadata": {},
   "outputs": [],
   "source": [
    "### GRADED\n",
    "### YOUR SOLUTION HERE\n",
    "second_student= None\n",
    "\n",
    "### BEGIN SOLUTION\n",
    "second_student = np_body_measurement[1,:]\n",
    "### END SOLUTION"
   ]
  },
  {
   "cell_type": "code",
   "execution_count": 21,
   "metadata": {},
   "outputs": [
    {
     "name": "stdout",
     "output_type": "stream",
     "text": [
      "Great!\n"
     ]
    }
   ],
   "source": [
    "### BEGIN HIDDEN TESTS (5)\n",
    "second_student_ = np_body_measurement_[1,:]\n",
    "#\n",
    "#\n",
    "#\n",
    "np.testing.assert_allclose(second_student_, second_student), \"Make sure you have accessed the measurments of the second student by using the correct indexing.\"\n",
    "print(\"Great!\")\n",
    "### END HIDDEN TESTS"
   ]
  },
  {
   "cell_type": "markdown",
   "metadata": {},
   "source": [
    "[Back to top](#Index:) \n",
    "\n",
    "### Question 11\n",
    "\n",
    "**5 points**\n",
    "\n",
    "Select the weight of the third student in `np_body_measurement` and assign it to `weight_third_student`."
   ]
  },
  {
   "cell_type": "code",
   "execution_count": 22,
   "metadata": {},
   "outputs": [],
   "source": [
    "### GRADED\n",
    "### YOUR SOLUTION HERE\n",
    "weight_third_student= None\n",
    "\n",
    "### BEGIN SOLUTION\n",
    "weight_third_student = np_body_measurement[2,1]\n",
    "### END SOLUTION"
   ]
  },
  {
   "cell_type": "code",
   "execution_count": 23,
   "metadata": {},
   "outputs": [
    {
     "name": "stdout",
     "output_type": "stream",
     "text": [
      "Correct!\n"
     ]
    }
   ],
   "source": [
    "### BEGIN HIDDEN TESTS (5)\n",
    "weight_third_student_ = np_body_measurement_[2,1]\n",
    "#\n",
    "#\n",
    "#\n",
    "import math\n",
    "assert math.isclose(weight_third_student, weight_third_student_), \"Make sure you have accessed the weight of the third student by using the correct indexing.\"\n",
    "print(\"Correct!\")\n",
    "### END HIDDEN TESTS"
   ]
  },
  {
   "cell_type": "markdown",
   "metadata": {},
   "source": [
    "### Getting started with Pandas and Numpy statistical tools\n",
    "\n",
    "`Pandas` is a very powerful Python library designed to analize and manipulate data. A very important data type that `pandas` allow to create are pandas DataFrame. A DataFrame is a data structure that allows you to store different data types in rows and columns. In the next questions, we will learn how to create, subset, and slice DataFrames. Finally, you will be asked to perform some basic statistic on pandas DataFrame using NumPy tools.\n",
    "\n",
    "You can find more information about the `Pandas` package [here](https://pandas.pydata.org/pandas-docs/stable/getting_started/index.html#getting-started).\n",
    "\n",
    "**Note: Questions 14,15 and 16 are connected and must be answered in sequence.**\n",
    "\n",
    "\n",
    "[Back to top](#Index:) \n",
    "\n",
    "### Question 12\n",
    "\n",
    "**5 points**\n",
    "\n",
    "Convert `museum`, given below, to a pandas DataFrame. Name the dataframe `df_museum`"
   ]
  },
  {
   "cell_type": "code",
   "execution_count": 24,
   "metadata": {},
   "outputs": [],
   "source": [
    "\n",
    "### GRADED\n",
    "museum = {\n",
    "    'museum':['Louvre','Hermitage','National Gallery','Metropolitan'],\n",
    "    'Picasso':[True,False,True,False]\n",
    "}\n",
    "\n",
    "### YOUR SOLUTION HERE\n",
    "df_museum= None\n",
    "\n",
    "### BEGIN SOLUTION\n",
    "df_museum= pd.DataFrame(museum)\n",
    "### END SOLUTION"
   ]
  },
  {
   "cell_type": "code",
   "execution_count": 25,
   "metadata": {},
   "outputs": [
    {
     "name": "stdout",
     "output_type": "stream",
     "text": [
      "Correct!\n"
     ]
    }
   ],
   "source": [
    "### BEGIN HIDDEN TESTS (5)\n",
    "from pandas.testing import assert_frame_equal, assert_series_equal\n",
    "df_museum_ = pd.DataFrame(museum)\n",
    "#\n",
    "#\n",
    "#\n",
    "assert df_museum.equals(df_museum_), \"Remember, to convert a dictonary into a DataFrame use the pandas function .DataFrame().\"\n",
    "print(\"Correct!\")"
   ]
  },
  {
   "cell_type": "markdown",
   "metadata": {},
   "source": [
    "[Back to top](#Index:) \n",
    "\n",
    "### Question 13\n",
    "\n",
    "**5 points**\n",
    "\n",
    "Assume that a database is saved as `students.csv`. What is the correct syntax to use in pandas to load the database into a pandas DataFrame called `df_students`?\n",
    "\n",
    "    - a) df_students = pd.read_csv(\"students.csv\")\n",
    "    - b) df_students = pd.DataFrame(\"students.csv\")\n",
    "    - c) df_students = pd.csv_to_df(\"students.csv\")\n",
    "    - d) df_students= pd.to_df(\"students.csv\")\n",
    "\n",
    "Assign the character associated with your answer as a string to `ans13`. For, example if you believe **a** is the correct answer, submit your answer as `ans13 = 'a'`."
   ]
  },
  {
   "cell_type": "code",
   "execution_count": 26,
   "metadata": {},
   "outputs": [],
   "source": [
    "### GRADED\n",
    "### YOUR SOLUTION HERE\n",
    "ans13= None\n",
    "\n",
    "### BEGIN SOLUTION\n",
    "ans13 = 'a'\n",
    "### END SOLUTION"
   ]
  },
  {
   "cell_type": "code",
   "execution_count": 27,
   "metadata": {},
   "outputs": [
    {
     "name": "stdout",
     "output_type": "stream",
     "text": [
      "Great!\n"
     ]
    }
   ],
   "source": [
    "### BEGIN HIDDEN TESTS (5)\n",
    "ans13_ = 'a'\n",
    "#\n",
    "#\n",
    "#\n",
    "assert ans13 == ans13_, \"Remember, to convert a .csv file into a DataFrame use the pandas function .read_csv().\"\n",
    "print(\"Great!\")\n",
    "\n",
    "\n",
    "### END HIDDEN TESTS"
   ]
  },
  {
   "cell_type": "markdown",
   "metadata": {},
   "source": [
    "[Back to top](#Index:) \n",
    "\n",
    "### Question 14\n",
    "\n",
    "**10 points**\n",
    "\n",
    "For this question, we will use an open source database that collects some health information about patients. Information about the dataset can be found [here](https://www.kaggle.com/burmad/patient#Patient%20Data.csv).\n",
    "\n",
    "Read the CSV file named `\"patients.csv\"` in the `data/` folder and assign it to a dataframe called `df_patients`.\n",
    "Next, extract the columns `gender`, `age`, and `BMI` in the **specified order** and assign them to a new DataFrame called `df_patients_main`."
   ]
  },
  {
   "cell_type": "code",
   "execution_count": 28,
   "metadata": {},
   "outputs": [],
   "source": [
    "### GRADED\n",
    "### YOUR SOLUTION HERE\n",
    "df_patients= None\n",
    "df_patients_main = None\n",
    "\n",
    "### BEGIN SOLUTION\n",
    "df_patients = pd.read_csv(\"data/patients.csv\")\n",
    "df_patients_main = df_patients[[\"gender\", \"age\", \"BMI\"]]\n",
    "### END SOLUTION"
   ]
  },
  {
   "cell_type": "code",
   "execution_count": 29,
   "metadata": {},
   "outputs": [
    {
     "name": "stdout",
     "output_type": "stream",
     "text": [
      "Great!\n"
     ]
    }
   ],
   "source": [
    "### BEGIN HIDDEN TESTS (10)\n",
    "from pandas.testing import assert_frame_equal\n",
    "df_patients_ = pd.read_csv(\"data/patients.csv\")\n",
    "df_patients_main_ = df_patients_[[\"gender\", \"age\", \"BMI\"]]\n",
    "#\n",
    "#\n",
    "#\n",
    "assert df_patients.equals(df_patients_), \"Remember, to convert a .csv file into a DataFrame use the pandas function .read_csv().\"\n",
    "assert df_patients_main.equals(df_patients_main_), \"To select one or multiple columns from a dataframe you can use double square brackets with the names of the columns you want to select separated by a comma.\"\n",
    "print(\"Great!\")\n",
    "### END HIDDEN TESTS"
   ]
  },
  {
   "cell_type": "markdown",
   "metadata": {},
   "source": [
    "[Back to top](#Index:) \n",
    "\n",
    "### Question 15\n",
    "\n",
    "**10 points**\n",
    "\n",
    "Take the dataframe `df_patients_main` and create a filter to get all rows where the column `age` is less or equal than 30. Use that filter to subset `df_patients_main` and call the resulting dataframe `df_patients_u30`."
   ]
  },
  {
   "cell_type": "code",
   "execution_count": 30,
   "metadata": {},
   "outputs": [],
   "source": [
    "### GRADED\n",
    "### YOUR SOLUTION HERE\n",
    "df_patients_u30 = None\n",
    "\n",
    "### BEGIN SOLUTION\n",
    "df_patients_u30 = df_patients_main[df_patients_main[\"age\"] <= 30]\n",
    "### END SOLUTION"
   ]
  },
  {
   "cell_type": "code",
   "execution_count": 31,
   "metadata": {},
   "outputs": [
    {
     "name": "stdout",
     "output_type": "stream",
     "text": [
      "Correct!\n"
     ]
    }
   ],
   "source": [
    "### BEGIN HIDDEN TESTS (10)\n",
    "from pandas.testing import assert_frame_equal\n",
    "df_patients_u30_ = df_patients_main_[df_patients_main_[\"age\"] <= 30]\n",
    "#\n",
    "#\n",
    "#\n",
    "assert df_patients_u30.equals(df_patients_u30_), \"Make sure you have filtered the entries in your dataframe correctly.\"\n",
    "print(\"Correct!\")\n",
    "### END HIDDEN TESTS"
   ]
  },
  {
   "cell_type": "markdown",
   "metadata": {},
   "source": [
    "[Back to top](#Index:) \n",
    "\n",
    "### Question 16\n",
    "\n",
    "**5 points**\n",
    "\n",
    "Compute the average of the column `BMI` from the DataFrame `df_patients` and assign the value to the variable `average_bmi`."
   ]
  },
  {
   "cell_type": "code",
   "execution_count": 32,
   "metadata": {},
   "outputs": [],
   "source": [
    "### GRADED\n",
    "### YOUR SOLUTION HERE\n",
    "average_bmi = None\n",
    "\n",
    "### BEGIN SOLUTION\n",
    "average_bmi = df_patients[\"BMI\"].mean()\n",
    "### END SOLUTION"
   ]
  },
  {
   "cell_type": "code",
   "execution_count": 33,
   "metadata": {},
   "outputs": [
    {
     "name": "stdout",
     "output_type": "stream",
     "text": [
      "Correct!\n"
     ]
    }
   ],
   "source": [
    "### BEGIN HIDDEN TESTS (5)\n",
    "average_bmi_ = df_patients_[\"BMI\"].mean()\n",
    "#\n",
    "#\n",
    "#\n",
    "assert average_bmi == average_bmi_, \"Remember, to compute the average of the entries in a column, you can use the function .mean().\"\n",
    "print(\"Correct!\")\n",
    "### END HIDDEN TESTS"
   ]
  }
 ],
 "metadata": {
  "kernelspec": {
   "display_name": "Python 3",
   "language": "python",
   "name": "python3"
  },
  "language_info": {
   "codemirror_mode": {
    "name": "ipython",
    "version": 3
   },
   "file_extension": ".py",
   "mimetype": "text/x-python",
   "name": "python",
   "nbconvert_exporter": "python",
   "pygments_lexer": "ipython3",
   "version": "3.8.3"
  }
 },
 "nbformat": 4,
 "nbformat_minor": 2
}
