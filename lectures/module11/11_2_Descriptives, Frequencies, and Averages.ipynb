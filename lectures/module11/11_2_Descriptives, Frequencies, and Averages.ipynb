{
 "cells": [
  {
   "cell_type": "markdown",
   "metadata": {},
   "source": [
    "# Descriptives, Frequencies, and Averages"
   ]
  },
  {
   "cell_type": "markdown",
   "metadata": {},
   "source": [
    "# Outline\n",
    "- Descriptives statistics\n",
    "- Frequencies\n",
    "- Mean, standard deviation, and median"
   ]
  },
  {
   "cell_type": "code",
   "execution_count": 1,
   "metadata": {},
   "outputs": [],
   "source": [
    "import pandas as pd\n",
    "import numpy as np\n",
    "df = pd.read_csv('employee_attrition.csv')"
   ]
  },
  {
   "cell_type": "markdown",
   "metadata": {},
   "source": [
    "## Descriptive Statistics"
   ]
  },
  {
   "cell_type": "code",
   "execution_count": 2,
   "metadata": {},
   "outputs": [
    {
     "data": {
      "text/html": [
       "<div>\n",
       "<style>\n",
       "    .dataframe thead tr:only-child th {\n",
       "        text-align: right;\n",
       "    }\n",
       "\n",
       "    .dataframe thead th {\n",
       "        text-align: left;\n",
       "    }\n",
       "\n",
       "    .dataframe tbody tr th {\n",
       "        vertical-align: top;\n",
       "    }\n",
       "</style>\n",
       "<table border=\"1\" class=\"dataframe\">\n",
       "  <thead>\n",
       "    <tr style=\"text-align: right;\">\n",
       "      <th></th>\n",
       "      <th>Age</th>\n",
       "      <th>DailyRate</th>\n",
       "      <th>DistanceFromHome</th>\n",
       "      <th>EnvironmentSatisfaction</th>\n",
       "      <th>HourlyRate</th>\n",
       "      <th>JobInvolvement</th>\n",
       "      <th>JobLevel</th>\n",
       "      <th>JobSatisfaction</th>\n",
       "      <th>MonthlyIncome</th>\n",
       "      <th>NumCompaniesWorked</th>\n",
       "      <th>...</th>\n",
       "      <th>PerformanceRating</th>\n",
       "      <th>RelationshipSatisfaction</th>\n",
       "      <th>StockOptionLevel</th>\n",
       "      <th>TotalWorkingYears</th>\n",
       "      <th>TrainingTimesLastYear</th>\n",
       "      <th>WorkLifeBalance</th>\n",
       "      <th>YearsAtCompany</th>\n",
       "      <th>YearsInCurrentRole</th>\n",
       "      <th>YearsSinceLastPromotion</th>\n",
       "      <th>YearsWithCurrManager</th>\n",
       "    </tr>\n",
       "  </thead>\n",
       "  <tbody>\n",
       "    <tr>\n",
       "      <th>count</th>\n",
       "      <td>1470.00</td>\n",
       "      <td>1470.00</td>\n",
       "      <td>1470.00</td>\n",
       "      <td>1470.00</td>\n",
       "      <td>1470.00</td>\n",
       "      <td>1470.00</td>\n",
       "      <td>1470.00</td>\n",
       "      <td>1470.00</td>\n",
       "      <td>1470.00</td>\n",
       "      <td>1470.00</td>\n",
       "      <td>...</td>\n",
       "      <td>1470.00</td>\n",
       "      <td>1470.00</td>\n",
       "      <td>1470.00</td>\n",
       "      <td>1470.00</td>\n",
       "      <td>1470.00</td>\n",
       "      <td>1470.00</td>\n",
       "      <td>1470.00</td>\n",
       "      <td>1470.00</td>\n",
       "      <td>1470.00</td>\n",
       "      <td>1470.00</td>\n",
       "    </tr>\n",
       "    <tr>\n",
       "      <th>mean</th>\n",
       "      <td>36.92</td>\n",
       "      <td>802.49</td>\n",
       "      <td>9.19</td>\n",
       "      <td>2.72</td>\n",
       "      <td>65.89</td>\n",
       "      <td>2.73</td>\n",
       "      <td>2.06</td>\n",
       "      <td>2.73</td>\n",
       "      <td>6502.93</td>\n",
       "      <td>2.69</td>\n",
       "      <td>...</td>\n",
       "      <td>3.15</td>\n",
       "      <td>2.71</td>\n",
       "      <td>0.79</td>\n",
       "      <td>11.28</td>\n",
       "      <td>2.80</td>\n",
       "      <td>2.76</td>\n",
       "      <td>7.01</td>\n",
       "      <td>4.23</td>\n",
       "      <td>2.19</td>\n",
       "      <td>4.12</td>\n",
       "    </tr>\n",
       "    <tr>\n",
       "      <th>std</th>\n",
       "      <td>9.14</td>\n",
       "      <td>403.51</td>\n",
       "      <td>8.11</td>\n",
       "      <td>1.09</td>\n",
       "      <td>20.33</td>\n",
       "      <td>0.71</td>\n",
       "      <td>1.11</td>\n",
       "      <td>1.10</td>\n",
       "      <td>4707.96</td>\n",
       "      <td>2.50</td>\n",
       "      <td>...</td>\n",
       "      <td>0.36</td>\n",
       "      <td>1.08</td>\n",
       "      <td>0.85</td>\n",
       "      <td>7.78</td>\n",
       "      <td>1.29</td>\n",
       "      <td>0.71</td>\n",
       "      <td>6.13</td>\n",
       "      <td>3.62</td>\n",
       "      <td>3.22</td>\n",
       "      <td>3.57</td>\n",
       "    </tr>\n",
       "    <tr>\n",
       "      <th>min</th>\n",
       "      <td>18.00</td>\n",
       "      <td>102.00</td>\n",
       "      <td>1.00</td>\n",
       "      <td>1.00</td>\n",
       "      <td>30.00</td>\n",
       "      <td>1.00</td>\n",
       "      <td>1.00</td>\n",
       "      <td>1.00</td>\n",
       "      <td>1009.00</td>\n",
       "      <td>0.00</td>\n",
       "      <td>...</td>\n",
       "      <td>3.00</td>\n",
       "      <td>1.00</td>\n",
       "      <td>0.00</td>\n",
       "      <td>0.00</td>\n",
       "      <td>0.00</td>\n",
       "      <td>1.00</td>\n",
       "      <td>0.00</td>\n",
       "      <td>0.00</td>\n",
       "      <td>0.00</td>\n",
       "      <td>0.00</td>\n",
       "    </tr>\n",
       "    <tr>\n",
       "      <th>25%</th>\n",
       "      <td>30.00</td>\n",
       "      <td>465.00</td>\n",
       "      <td>2.00</td>\n",
       "      <td>2.00</td>\n",
       "      <td>48.00</td>\n",
       "      <td>2.00</td>\n",
       "      <td>1.00</td>\n",
       "      <td>2.00</td>\n",
       "      <td>2911.00</td>\n",
       "      <td>1.00</td>\n",
       "      <td>...</td>\n",
       "      <td>3.00</td>\n",
       "      <td>2.00</td>\n",
       "      <td>0.00</td>\n",
       "      <td>6.00</td>\n",
       "      <td>2.00</td>\n",
       "      <td>2.00</td>\n",
       "      <td>3.00</td>\n",
       "      <td>2.00</td>\n",
       "      <td>0.00</td>\n",
       "      <td>2.00</td>\n",
       "    </tr>\n",
       "    <tr>\n",
       "      <th>50%</th>\n",
       "      <td>36.00</td>\n",
       "      <td>802.00</td>\n",
       "      <td>7.00</td>\n",
       "      <td>3.00</td>\n",
       "      <td>66.00</td>\n",
       "      <td>3.00</td>\n",
       "      <td>2.00</td>\n",
       "      <td>3.00</td>\n",
       "      <td>4919.00</td>\n",
       "      <td>2.00</td>\n",
       "      <td>...</td>\n",
       "      <td>3.00</td>\n",
       "      <td>3.00</td>\n",
       "      <td>1.00</td>\n",
       "      <td>10.00</td>\n",
       "      <td>3.00</td>\n",
       "      <td>3.00</td>\n",
       "      <td>5.00</td>\n",
       "      <td>3.00</td>\n",
       "      <td>1.00</td>\n",
       "      <td>3.00</td>\n",
       "    </tr>\n",
       "    <tr>\n",
       "      <th>75%</th>\n",
       "      <td>43.00</td>\n",
       "      <td>1157.00</td>\n",
       "      <td>14.00</td>\n",
       "      <td>4.00</td>\n",
       "      <td>83.75</td>\n",
       "      <td>3.00</td>\n",
       "      <td>3.00</td>\n",
       "      <td>4.00</td>\n",
       "      <td>8379.00</td>\n",
       "      <td>4.00</td>\n",
       "      <td>...</td>\n",
       "      <td>3.00</td>\n",
       "      <td>4.00</td>\n",
       "      <td>1.00</td>\n",
       "      <td>15.00</td>\n",
       "      <td>3.00</td>\n",
       "      <td>3.00</td>\n",
       "      <td>9.00</td>\n",
       "      <td>7.00</td>\n",
       "      <td>3.00</td>\n",
       "      <td>7.00</td>\n",
       "    </tr>\n",
       "    <tr>\n",
       "      <th>max</th>\n",
       "      <td>60.00</td>\n",
       "      <td>1499.00</td>\n",
       "      <td>29.00</td>\n",
       "      <td>4.00</td>\n",
       "      <td>100.00</td>\n",
       "      <td>4.00</td>\n",
       "      <td>5.00</td>\n",
       "      <td>4.00</td>\n",
       "      <td>19999.00</td>\n",
       "      <td>9.00</td>\n",
       "      <td>...</td>\n",
       "      <td>4.00</td>\n",
       "      <td>4.00</td>\n",
       "      <td>3.00</td>\n",
       "      <td>40.00</td>\n",
       "      <td>6.00</td>\n",
       "      <td>4.00</td>\n",
       "      <td>40.00</td>\n",
       "      <td>18.00</td>\n",
       "      <td>15.00</td>\n",
       "      <td>17.00</td>\n",
       "    </tr>\n",
       "  </tbody>\n",
       "</table>\n",
       "<p>8 rows × 21 columns</p>\n",
       "</div>"
      ],
      "text/plain": [
       "          Age  DailyRate  DistanceFromHome  EnvironmentSatisfaction  \\\n",
       "count 1470.00    1470.00           1470.00                  1470.00   \n",
       "mean    36.92     802.49              9.19                     2.72   \n",
       "std      9.14     403.51              8.11                     1.09   \n",
       "min     18.00     102.00              1.00                     1.00   \n",
       "25%     30.00     465.00              2.00                     2.00   \n",
       "50%     36.00     802.00              7.00                     3.00   \n",
       "75%     43.00    1157.00             14.00                     4.00   \n",
       "max     60.00    1499.00             29.00                     4.00   \n",
       "\n",
       "       HourlyRate  JobInvolvement  JobLevel  JobSatisfaction  MonthlyIncome  \\\n",
       "count     1470.00         1470.00   1470.00          1470.00        1470.00   \n",
       "mean        65.89            2.73      2.06             2.73        6502.93   \n",
       "std         20.33            0.71      1.11             1.10        4707.96   \n",
       "min         30.00            1.00      1.00             1.00        1009.00   \n",
       "25%         48.00            2.00      1.00             2.00        2911.00   \n",
       "50%         66.00            3.00      2.00             3.00        4919.00   \n",
       "75%         83.75            3.00      3.00             4.00        8379.00   \n",
       "max        100.00            4.00      5.00             4.00       19999.00   \n",
       "\n",
       "       NumCompaniesWorked          ...           PerformanceRating  \\\n",
       "count             1470.00          ...                     1470.00   \n",
       "mean                 2.69          ...                        3.15   \n",
       "std                  2.50          ...                        0.36   \n",
       "min                  0.00          ...                        3.00   \n",
       "25%                  1.00          ...                        3.00   \n",
       "50%                  2.00          ...                        3.00   \n",
       "75%                  4.00          ...                        3.00   \n",
       "max                  9.00          ...                        4.00   \n",
       "\n",
       "       RelationshipSatisfaction  StockOptionLevel  TotalWorkingYears  \\\n",
       "count                   1470.00           1470.00            1470.00   \n",
       "mean                       2.71              0.79              11.28   \n",
       "std                        1.08              0.85               7.78   \n",
       "min                        1.00              0.00               0.00   \n",
       "25%                        2.00              0.00               6.00   \n",
       "50%                        3.00              1.00              10.00   \n",
       "75%                        4.00              1.00              15.00   \n",
       "max                        4.00              3.00              40.00   \n",
       "\n",
       "       TrainingTimesLastYear  WorkLifeBalance  YearsAtCompany  \\\n",
       "count                1470.00          1470.00         1470.00   \n",
       "mean                    2.80             2.76            7.01   \n",
       "std                     1.29             0.71            6.13   \n",
       "min                     0.00             1.00            0.00   \n",
       "25%                     2.00             2.00            3.00   \n",
       "50%                     3.00             3.00            5.00   \n",
       "75%                     3.00             3.00            9.00   \n",
       "max                     6.00             4.00           40.00   \n",
       "\n",
       "       YearsInCurrentRole  YearsSinceLastPromotion  YearsWithCurrManager  \n",
       "count             1470.00                  1470.00               1470.00  \n",
       "mean                 4.23                     2.19                  4.12  \n",
       "std                  3.62                     3.22                  3.57  \n",
       "min                  0.00                     0.00                  0.00  \n",
       "25%                  2.00                     0.00                  2.00  \n",
       "50%                  3.00                     1.00                  3.00  \n",
       "75%                  7.00                     3.00                  7.00  \n",
       "max                 18.00                    15.00                 17.00  \n",
       "\n",
       "[8 rows x 21 columns]"
      ]
     },
     "execution_count": 2,
     "metadata": {},
     "output_type": "execute_result"
    }
   ],
   "source": [
    "##  Handling floats because 2 decimal places is easier to read.  In your own analysis in the future you may need more accuracy\n",
    "pd.set_option(\"display.float_format\", \"{:.2f}\".format)\n",
    "df.describe()"
   ]
  },
  {
   "cell_type": "code",
   "execution_count": 3,
   "metadata": {},
   "outputs": [
    {
     "data": {
      "text/plain": [
       "count   1470.00\n",
       "mean      36.92\n",
       "std        9.14\n",
       "min       18.00\n",
       "25%       30.00\n",
       "50%       36.00\n",
       "75%       43.00\n",
       "max       60.00\n",
       "Name: Age, dtype: float64"
      ]
     },
     "execution_count": 3,
     "metadata": {},
     "output_type": "execute_result"
    }
   ],
   "source": [
    "df['Age'].describe()"
   ]
  },
  {
   "cell_type": "markdown",
   "metadata": {},
   "source": [
    "## Frequencies"
   ]
  },
  {
   "cell_type": "code",
   "execution_count": 4,
   "metadata": {},
   "outputs": [
    {
     "data": {
      "text/plain": [
       "1470"
      ]
     },
     "execution_count": 4,
     "metadata": {},
     "output_type": "execute_result"
    }
   ],
   "source": [
    "df['Age'].count()"
   ]
  },
  {
   "cell_type": "code",
   "execution_count": 5,
   "metadata": {},
   "outputs": [
    {
     "data": {
      "text/plain": [
       "35    78\n",
       "34    77\n",
       "31    69\n",
       "36    69\n",
       "29    68\n",
       "32    61\n",
       "30    60\n",
       "33    58\n",
       "38    58\n",
       "40    57\n",
       "37    50\n",
       "27    48\n",
       "28    48\n",
       "42    46\n",
       "39    42\n",
       "45    41\n",
       "41    40\n",
       "26    39\n",
       "46    33\n",
       "44    33\n",
       "43    32\n",
       "50    30\n",
       "24    26\n",
       "25    26\n",
       "47    24\n",
       "49    24\n",
       "55    22\n",
       "48    19\n",
       "51    19\n",
       "53    19\n",
       "52    18\n",
       "54    18\n",
       "22    16\n",
       "56    14\n",
       "58    14\n",
       "23    14\n",
       "21    13\n",
       "20    11\n",
       "59    10\n",
       "19     9\n",
       "18     8\n",
       "60     5\n",
       "57     4\n",
       "Name: Age, dtype: int64"
      ]
     },
     "execution_count": 5,
     "metadata": {},
     "output_type": "execute_result"
    }
   ],
   "source": [
    "df['Age'].value_counts()"
   ]
  },
  {
   "cell_type": "code",
   "execution_count": 6,
   "metadata": {},
   "outputs": [
    {
     "name": "stdout",
     "output_type": "stream",
     "text": [
      "Attrition : ['Yes' 'No']\n",
      "No     1233\n",
      "Yes     237\n",
      "Name: Attrition, dtype: int64\n",
      "====================================\n",
      "BusinessTravel : ['Travel_Rarely' 'Travel_Frequently' 'Non-Travel']\n",
      "Travel_Rarely        1043\n",
      "Travel_Frequently     277\n",
      "Non-Travel            150\n",
      "Name: BusinessTravel, dtype: int64\n",
      "====================================\n",
      "Gender : ['Female' 'Male']\n",
      "Male      882\n",
      "Female    588\n",
      "Name: Gender, dtype: int64\n",
      "====================================\n",
      "MaritalStatus : ['Single' 'Married' 'Divorced']\n",
      "Married     673\n",
      "Single      470\n",
      "Divorced    327\n",
      "Name: MaritalStatus, dtype: int64\n",
      "====================================\n",
      "OverTime : ['Yes' 'No']\n",
      "No     1054\n",
      "Yes     416\n",
      "Name: OverTime, dtype: int64\n",
      "====================================\n"
     ]
    }
   ],
   "source": [
    "###  Categorical features unique values\n",
    "\n",
    "object_col = []\n",
    "for column in df.columns:\n",
    "    if df[column].dtype == object and len(df[column].unique()) <= 30:\n",
    "        object_col.append(column)\n",
    "        print(f\"{column} : {df[column].unique()}\")\n",
    "        print(df[column].value_counts())\n",
    "        print(\"====================================\")\n",
    "object_col.remove('Attrition')"
   ]
  },
  {
   "cell_type": "code",
   "execution_count": 7,
   "metadata": {},
   "outputs": [
    {
     "name": "stdout",
     "output_type": "stream",
     "text": [
      "Age: Number of unique values 43\n",
      "Attrition: Number of unique values 2\n",
      "BusinessTravel: Number of unique values 3\n",
      "DailyRate: Number of unique values 886\n",
      "DistanceFromHome: Number of unique values 29\n",
      "EnvironmentSatisfaction: Number of unique values 4\n",
      "Gender: Number of unique values 2\n",
      "HourlyRate: Number of unique values 71\n",
      "JobInvolvement: Number of unique values 4\n",
      "JobLevel: Number of unique values 5\n",
      "JobSatisfaction: Number of unique values 4\n",
      "MaritalStatus: Number of unique values 3\n",
      "MonthlyIncome: Number of unique values 1349\n",
      "NumCompaniesWorked: Number of unique values 10\n",
      "OverTime: Number of unique values 2\n",
      "PercentSalaryHike: Number of unique values 15\n",
      "PerformanceRating: Number of unique values 2\n",
      "RelationshipSatisfaction: Number of unique values 4\n",
      "StockOptionLevel: Number of unique values 4\n",
      "TotalWorkingYears: Number of unique values 40\n",
      "TrainingTimesLastYear: Number of unique values 7\n",
      "WorkLifeBalance: Number of unique values 4\n",
      "YearsAtCompany: Number of unique values 37\n",
      "YearsInCurrentRole: Number of unique values 19\n",
      "YearsSinceLastPromotion: Number of unique values 16\n",
      "YearsWithCurrManager: Number of unique values 18\n"
     ]
    }
   ],
   "source": [
    "##  Number of unique values\n",
    "for column in df.columns:\n",
    "    print(f\"{column}: Number of unique values {df[column].nunique()}\")"
   ]
  },
  {
   "cell_type": "markdown",
   "metadata": {},
   "source": [
    "## Mean, standard deviation, and median"
   ]
  },
  {
   "cell_type": "code",
   "execution_count": 8,
   "metadata": {},
   "outputs": [
    {
     "data": {
      "text/plain": [
       "36.923809523809524"
      ]
     },
     "execution_count": 8,
     "metadata": {},
     "output_type": "execute_result"
    }
   ],
   "source": [
    "np.mean(df['Age'])"
   ]
  },
  {
   "cell_type": "code",
   "execution_count": 9,
   "metadata": {},
   "outputs": [
    {
     "data": {
      "text/plain": [
       "9.13226569061539"
      ]
     },
     "execution_count": 9,
     "metadata": {},
     "output_type": "execute_result"
    }
   ],
   "source": [
    "np.std(df['Age'])"
   ]
  },
  {
   "cell_type": "code",
   "execution_count": 10,
   "metadata": {},
   "outputs": [
    {
     "data": {
      "text/plain": [
       "36.0"
      ]
     },
     "execution_count": 10,
     "metadata": {},
     "output_type": "execute_result"
    }
   ],
   "source": [
    "np.median(df['Age'])"
   ]
  },
  {
   "cell_type": "code",
   "execution_count": 11,
   "metadata": {},
   "outputs": [
    {
     "data": {
      "text/plain": [
       "36.0"
      ]
     },
     "execution_count": 11,
     "metadata": {},
     "output_type": "execute_result"
    }
   ],
   "source": [
    "np.nanmedian(df['Age'])"
   ]
  },
  {
   "cell_type": "code",
   "execution_count": null,
   "metadata": {},
   "outputs": [],
   "source": []
  }
 ],
 "metadata": {
  "kernelspec": {
   "display_name": "Python 3",
   "language": "python",
   "name": "python3"
  },
  "language_info": {
   "codemirror_mode": {
    "name": "ipython",
    "version": 3
   },
   "file_extension": ".py",
   "mimetype": "text/x-python",
   "name": "python",
   "nbconvert_exporter": "python",
   "pygments_lexer": "ipython3",
   "version": "3.7.4"
  }
 },
 "nbformat": 4,
 "nbformat_minor": 2
}
