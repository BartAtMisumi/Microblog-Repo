{
 "cells": [
  {
   "cell_type": "markdown",
   "metadata": {},
   "source": [
    "# Hypothesis testing"
   ]
  },
  {
   "cell_type": "markdown",
   "metadata": {},
   "source": [
    "## Outline\n",
    "\n",
    "- Hypothesis testing in Python\n",
    "- P-values\n",
    "- Python examples\n",
    "- Wrap up"
   ]
  },
  {
   "cell_type": "markdown",
   "metadata": {},
   "source": [
    "## Introduction to Hypothesis testing"
   ]
  },
  {
   "cell_type": "markdown",
   "metadata": {},
   "source": [
    "In general, the purpose of statistics is to test a **hypothesis**. Hypothesis testing is used to determine if there is enough statistical evidence in favor of a specific hypothesis. A hypothesis test evaluates two **mutually exclusive** statements about a population to determine which statement is best supported by the sample data.\n",
    "\n",
    "The statement that is favored is called the **null hypothesis**. The “alternative” (or antithesis) to the null hypothesis is, naturally, called the **alternative hypothesis**.\n",
    "\n",
    "Hypothesis testing allows us to draw conclusions about an entire population based on a representative sample. \n",
    "\n",
    "You gain tremendous benefits by working with a sample, because in most cases, it is simply impossible to observe the entire population to understand its properties.\n",
    "\n",
    "For example, we many want to determine if a new drug is effective in curing a certain disease. A sample of patients is randomly selected. Half of them are given the drug while the other half are given a placebo. The conditions of the patients are then measured and compared. The **null hypothesis** in this case is the efficacy of the new drug."
   ]
  },
  {
   "cell_type": "markdown",
   "metadata": {},
   "source": [
    "### Statement of the hypotheses\n",
    "We use the following nomenclature to describe the two hypotheses:\n",
    "\n",
    "- The null hypothesis is represented by $H_0$ \n",
    "- The alternative hypothesis is represented by $H_A$"
   ]
  },
  {
   "cell_type": "markdown",
   "metadata": {},
   "source": [
    "### The **p-value**\n",
    "In the context of hypothesis testing, the  **p-value** represents the probability of generating observed data that is favorable to the alternative hypothesis under the assumption of the null hypothesis. \n",
    "\n",
    "A small  p-value is evidence **against** the null hypothesis or **for** the alternative hypothesis.\n",
    "\n",
    "- A p-value <= alpha-value indicates strong evidence **against** the null hypothesis\n",
    "- A p-value >= alpha-value indicates strong evidence **for** the null hypothesis\n",
    "\n",
    "Graphically, the **p-value** is the area in the tail of a probability distribution. The p-value is calculated using the sampling distribution of the test statistic under the null hypothesis "
   ]
  },
  {
   "cell_type": "markdown",
   "metadata": {},
   "source": [
    "### Test Statistic\n",
    "\n",
    "A test statistic is used in a hypothesis test when you are **deciding to support or reject the null hypothesis**. The test statistic takes your data from sample and compares your results to the results you would expect from the null hypothesis. We will be exploring two types of test statistic, the **Z-score and the t-score**. This allows us to compare our test statistic value to a normal or t-distribution respectively."
   ]
  },
  {
   "cell_type": "markdown",
   "metadata": {},
   "source": [
    "### The **alpha-value**\n",
    "Before you run any statistical test, you must first determine your alpha level, which is also called the **“significance level.”** By definition, **the alpha value is the probability of rejecting the null hypothesis when the null hypothesis is true.** Translation: **It's the probability of making a wrong decision.**\n",
    "\n",
    "Under most circumstances, an alpha value of 0.05 (or 95% confidence level) is used which means that the likelihood of a wrong decision is intended to be very small. Keep in mind, that if you are analyzing something like airplane engine failures, you may want to use a smaller alpha, like 0.01 or 99% confidence level."
   ]
  },
  {
   "cell_type": "markdown",
   "metadata": {},
   "source": [
    "### What type of test to run?\n",
    "\n",
    "As we discussed, the **p-value** is the area under the tail of the curve that is outside of the confidence interval.\n",
    "\n",
    "Since the distribution is symmetrical, the confidence level can apply to either side of the distribution. Depending on the Hypothesis condition expressed determines which type of test we will apply to determine if the null hypothesis is accepted or rejected. \n",
    "\n",
    "A hypothesis test can be **one-tailed or two-tailed**. If the inequality in the alternative hypothesis is < or >, the test is one-tailed. If the inequality is ≠, the test is two-tailed."
   ]
  },
  {
   "cell_type": "markdown",
   "metadata": {},
   "source": [
    "![](images/hyp_test_types1.png)"
   ]
  },
  {
   "cell_type": "markdown",
   "metadata": {},
   "source": [
    "### Now we have the details to be able to interpret the results of our hypothesis tests\n",
    "\n",
    "#### First: Confidence level + alpha = 1\n",
    "   If the alpha equals 0.05, then the confidence level is 0.95\n",
    "#### Second: If the p-value is low, the null hypothesis is rejected\n",
    "   If the p-value is less than the alpha, then you risk making the wrong decision, so you reject the null hypothesis.\n",
    "#### Third: The confidence interval and the p-value will lead to the same conclusion\n",
    "   If the p-value is less than the alpha, then the **confidence interval** will NOT contain the hypothesized mean."
   ]
  },
  {
   "cell_type": "markdown",
   "metadata": {},
   "source": [
    "## Standard calculation of the p-value with Python\n",
    "In this case we will use a set of male body temperatures for our analysis. We know the average temperature should be 98.6. We will use a 95% confidence level.\n",
    "\n",
    "We will set the hypotheses as follows:\n",
    "$$\n",
    "H_0 = 98.6\\\\\n",
    "H_A \\neq 98.6\n",
    "$$\n",
    "\n",
    "So in this case, since the alternate hypothesis has a $\\neq$ condition, we will use a **two-sided test**"
   ]
  },
  {
   "cell_type": "markdown",
   "metadata": {},
   "source": [
    "### Set up our environment"
   ]
  },
  {
   "cell_type": "code",
   "execution_count": 22,
   "metadata": {},
   "outputs": [],
   "source": [
    "# set up our environment\n",
    "import pandas as pd\n",
    "import numpy as np\n",
    "from scipy.stats import norm\n",
    "import scipy as sp\n",
    "\n",
    "# Read into the data called `bodytemp.csv`\n",
    "body = pd.read_csv('data/bodytemp.csv')"
   ]
  },
  {
   "cell_type": "code",
   "execution_count": 23,
   "metadata": {},
   "outputs": [
    {
     "data": {
      "text/html": [
       "<div>\n",
       "<style scoped>\n",
       "    .dataframe tbody tr th:only-of-type {\n",
       "        vertical-align: middle;\n",
       "    }\n",
       "\n",
       "    .dataframe tbody tr th {\n",
       "        vertical-align: top;\n",
       "    }\n",
       "\n",
       "    .dataframe thead th {\n",
       "        text-align: right;\n",
       "    }\n",
       "</style>\n",
       "<table border=\"1\" class=\"dataframe\">\n",
       "  <thead>\n",
       "    <tr style=\"text-align: right;\">\n",
       "      <th></th>\n",
       "      <th>temp</th>\n",
       "      <th>sex</th>\n",
       "      <th>bpm</th>\n",
       "    </tr>\n",
       "  </thead>\n",
       "  <tbody>\n",
       "    <tr>\n",
       "      <th>0</th>\n",
       "      <td>96.3</td>\n",
       "      <td>0</td>\n",
       "      <td>70</td>\n",
       "    </tr>\n",
       "    <tr>\n",
       "      <th>1</th>\n",
       "      <td>96.7</td>\n",
       "      <td>0</td>\n",
       "      <td>71</td>\n",
       "    </tr>\n",
       "    <tr>\n",
       "      <th>2</th>\n",
       "      <td>96.9</td>\n",
       "      <td>0</td>\n",
       "      <td>74</td>\n",
       "    </tr>\n",
       "    <tr>\n",
       "      <th>3</th>\n",
       "      <td>97.0</td>\n",
       "      <td>0</td>\n",
       "      <td>80</td>\n",
       "    </tr>\n",
       "    <tr>\n",
       "      <th>4</th>\n",
       "      <td>97.1</td>\n",
       "      <td>0</td>\n",
       "      <td>73</td>\n",
       "    </tr>\n",
       "  </tbody>\n",
       "</table>\n",
       "</div>"
      ],
      "text/plain": [
       "   temp  sex  bpm\n",
       "0  96.3    0   70\n",
       "1  96.7    0   71\n",
       "2  96.9    0   74\n",
       "3  97.0    0   80\n",
       "4  97.1    0   73"
      ]
     },
     "execution_count": 23,
     "metadata": {},
     "output_type": "execute_result"
    }
   ],
   "source": [
    "# View our data\n",
    "# 0 means male and 1 means female\n",
    "body.head()"
   ]
  },
  {
   "cell_type": "code",
   "execution_count": 24,
   "metadata": {},
   "outputs": [
    {
     "data": {
      "text/plain": [
       "[98.1046153846154, 0.6987557623265904, 0.08666998552285868]"
      ]
     },
     "execution_count": 24,
     "metadata": {},
     "output_type": "execute_result"
    }
   ],
   "source": [
    "# 65 male samples in our data set\n",
    "m = body[body['sex'] == 0].temp.mean()\n",
    "std_dev = body[body['sex'] == 0].temp.std()\n",
    "std_err = std_dev/np.sqrt(65)\n",
    "[m,std_dev,std_err]"
   ]
  },
  {
   "cell_type": "markdown",
   "metadata": {},
   "source": [
    "Our mean value is off by about 0.5 degrees. **Is this sufficient to reject the null hypothesis that the mean is 98.6?**\n",
    "\n",
    "To examine this question, we compute the probability that we could get that computed mean or worse under the assumption of the null hypothesis. Put another way, we need to find the shaded area below where the normal curve has mean  98.6  and standard deviation  0.6987 as dictated by the problem.\n",
    "\n",
    "This area can be computed by looking the appropriate  Z -score up in a table, or it can be computed as follows:"
   ]
  },
  {
   "cell_type": "markdown",
   "metadata": {},
   "source": [
    "## Calculate the test statistic using the Z-score (normal)"
   ]
  },
  {
   "cell_type": "code",
   "execution_count": 26,
   "metadata": {},
   "outputs": [
    {
     "data": {
      "text/plain": [
       "-5.7157574493183665"
      ]
     },
     "execution_count": 26,
     "metadata": {},
     "output_type": "execute_result"
    }
   ],
   "source": [
    "# calculate the test statistic (Z score)\n",
    "test_stat = (m - 98.6)/std_err\n",
    "test_stat"
   ]
  },
  {
   "cell_type": "code",
   "execution_count": 30,
   "metadata": {},
   "outputs": [
    {
     "name": "stdout",
     "output_type": "stream",
     "text": [
      "two sided: 0.00000006423\n"
     ]
    }
   ],
   "source": [
    "#calculate the p-value\n",
    "p_value = norm.pdf(abs(test_stat))*2 #two-sided test using the probability function \n",
    "print('two sided: %.11f' % p_value)"
   ]
  },
  {
   "cell_type": "markdown",
   "metadata": {},
   "source": [
    "### Using the P-value to determine acceptance or rejection of the null hypothesis"
   ]
  },
  {
   "cell_type": "markdown",
   "metadata": {},
   "source": [
    "So at a 95% confidence level, the small p-value in this case indicates that the null hypothesis IS rejected, meaning that the mean is NOT within our confidence level of 95%"
   ]
  },
  {
   "cell_type": "markdown",
   "metadata": {},
   "source": [
    "## Calculate the test statistic using the t-score (t-distribution)\n",
    "\n",
    "Effectively we will be performing the same calculation as above, but by using the scipy function **t.sf** AND using the T-test.\n"
   ]
  },
  {
   "cell_type": "code",
   "execution_count": 38,
   "metadata": {},
   "outputs": [
    {
     "name": "stdout",
     "output_type": "stream",
     "text": [
      "sample mean:  98.10461538461539 sample variance:  0.698755762326591\n"
     ]
    }
   ],
   "source": [
    "# calculate sample mean and variance\n",
    "import statistics as stats\n",
    "#sm = sample mean\n",
    "#sv = sample standard deviation\n",
    "sm = stats.mean(body[body['sex'] == 0].temp)\n",
    "sd = stats.stdev(body[body['sex'] == 0].temp)\n",
    "print('sample mean: ', sm, 'sample variance: ', sd)"
   ]
  },
  {
   "cell_type": "code",
   "execution_count": 39,
   "metadata": {},
   "outputs": [
    {
     "name": "stdout",
     "output_type": "stream",
     "text": [
      "t-statistic = -4.7778937989579315  pvalue = 0.00001073986\n"
     ]
    }
   ],
   "source": [
    "# calculate the t-statistic and the p-value\n",
    "tt = (sm-98.6)/np.sqrt(sd/float(65))  # t-statistic for mean\n",
    "pval = sp.stats.t.sf(np.abs(tt), 65-1)*2  # two-sided pvalue = Prob(abs(t)>tt)\n",
    "print ('t-statistic =', tt, ' pvalue = %.11f' % pval)"
   ]
  },
  {
   "cell_type": "markdown",
   "metadata": {},
   "source": [
    "### Using the P-value to determine acceptance or rejection of the null hypothesis"
   ]
  },
  {
   "cell_type": "markdown",
   "metadata": {},
   "source": [
    "So at a 95% confidence level, the small p-value in this case indicates that the null hypothesis IS rejected, meaning that the mean is NOT within our confidence level of 95%"
   ]
  },
  {
   "cell_type": "markdown",
   "metadata": {},
   "source": [
    "# Wrap up\n",
    "\n",
    "- Hypothesis testing in Python\n",
    "- P-values\n",
    "- Python examples\n",
    "- Wrap up"
   ]
  }
 ],
 "metadata": {
  "kernelspec": {
   "display_name": "Python 3",
   "language": "python",
   "name": "python3"
  },
  "language_info": {
   "codemirror_mode": {
    "name": "ipython",
    "version": 3
   },
   "file_extension": ".py",
   "mimetype": "text/x-python",
   "name": "python",
   "nbconvert_exporter": "python",
   "pygments_lexer": "ipython3",
   "version": "3.7.4"
  },
  "latex_envs": {
   "LaTeX_envs_menu_present": true,
   "autoclose": false,
   "autocomplete": true,
   "bibliofile": "biblio.bib",
   "cite_by": "apalike",
   "current_citInitial": 1,
   "eqLabelWithNumbers": true,
   "eqNumInitial": 1,
   "hotkeys": {
    "equation": "Ctrl-E",
    "itemize": "Ctrl-I"
   },
   "labels_anchors": false,
   "latex_user_defs": false,
   "report_style_numbering": false,
   "user_envs_cfg": false
  }
 },
 "nbformat": 4,
 "nbformat_minor": 4
}
