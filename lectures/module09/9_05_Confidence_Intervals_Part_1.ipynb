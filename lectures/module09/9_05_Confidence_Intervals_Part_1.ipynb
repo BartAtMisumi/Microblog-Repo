{
 "cells": [
  {
   "cell_type": "markdown",
   "metadata": {},
   "source": [
    "# Confidence intervals"
   ]
  },
  {
   "cell_type": "markdown",
   "metadata": {},
   "source": [
    "## Outline\n",
    "\n",
    "- Introduction\n",
    "- Confidence Intervals\n",
    "- Wrap up\n"
   ]
  },
  {
   "cell_type": "markdown",
   "metadata": {},
   "source": [
    "## Introduction \n",
    "\n",
    "A **confidence interval** is an estimate computed from an observed data's statistics. A Confidence Interval is a range of values we are fairly sure our true value lies within. In the vernacular, \"We are 99% certain (confidence level) that most of these datasets (confidence intervals) contain the true population parameter.\"\n",
    "\n",
    "**Z-score** - The Z score shows us how many standard deviations we are away from the mean of a distribution. For example, in investing, Z-scores are measures of an observation's variability and can be put to use by traders in determining market volatility. \n",
    "\n",
    "**t-score** - The t score allows you to take one score and standardize it which then enables you to compare it to other scores. The t score determines the ratio of differences between two groups or samples, as well as the differences within a group or sample.\n",
    "\n",
    "A **z-test** is used when the sample size is more than **30** while **t-test** is used for sample size less than **30**. In some situations even with samples more than 30 the data may be non-normal, in that case you can use the z-test.\n"
   ]
  },
  {
   "cell_type": "markdown",
   "metadata": {},
   "source": [
    "## Confidence Intervals\n",
    "\n",
    "A confidence interval is an interval that contains the unknown parameter (such as the population mean $\\mu$) with certain degree of confidence."
   ]
  },
  {
   "cell_type": "markdown",
   "metadata": {},
   "source": [
    "![](images/conf_interval.png)"
   ]
  },
  {
   "cell_type": "markdown",
   "metadata": {},
   "source": [
    "Given a “Standard Bell Curve Z” having mean 0 and standard deviation 1, a z–score is the value $z_r$ such that $P(– z_r ≤ Z ≤ z_r ) = r$. That is, there is probability r between the\n",
    "points – $z_r$ and + $z_r$.\n",
    "\n",
    "We would like to say that µ is about $x$ ± some margin of error. We can never be 100% sure if the unknown $\\mu$ will really be within our margin of error. But with larger sample sizes, we have a higher probability that $\\mu$ will be within our bounds."
   ]
  },
  {
   "cell_type": "markdown",
   "metadata": {},
   "source": [
    "We can define the z-score as\n",
    "\n",
    "$$\n",
    "z_{score} = \\frac{x-\\mu}{\\sigma}\n",
    "$$"
   ]
  },
  {
   "cell_type": "markdown",
   "metadata": {},
   "source": [
    "Under the normality assumption\n",
    "\n",
    "$$P\\Big( \\bar{X} - 1.96\\cdot\\frac{\\sigma}{\\sqrt{n}}\\ \\le \\mu \\le \\ \\bar{X} + 1.96\\cdot\\frac{\\sigma}{\\sqrt{n}} \\Big) = 0.95 $$\n",
    "\n",
    "defines a confidence interval of 95%. In general, by the CLT, for reasonably large sample size $n$, the above equation is still approximately true. \n",
    "\n",
    "Then we can say that for a 95% CI for $\\mu$ when $\\sigma$ is know in:\n",
    "\n",
    "$$\\Big( \\bar{X} - 1.96\\cdot\\frac{\\sigma}{\\sqrt{n}}\\ ,\\ \\bar{X} + 1.96\\cdot\\frac{\\sigma}{\\sqrt{n}} \\Big)$$  \n",
    "\n",
    "More generally, if we define $z_{\\alpha/2}$ as the value that cuts off an area of $\\alpha/2$ in the upper tail of the standard normal distribution, we can define a $1-\\alpha$ confidence interval for the population mean $\\mu$ as:\n",
    "\n",
    "$$\\Big( \\bar{X} - Z_{\\alpha/2}\\cdot\\frac{\\sigma}{\\sqrt{n}}\\ ,\\ \\bar{X} + Z_{\\alpha/2}\\cdot\\frac{\\sigma}{\\sqrt{n}} \\Big)$$  \n"
   ]
  },
  {
   "cell_type": "markdown",
   "metadata": {},
   "source": [
    "To calculate $Z_{\\alpha/2}$ for a 95% confidence interval we can use the \"`.interval()`\" function or the \"`.ppf()`\" function."
   ]
  },
  {
   "cell_type": "markdown",
   "metadata": {},
   "source": [
    "### Include the Python libraries we will use"
   ]
  },
  {
   "cell_type": "code",
   "execution_count": 54,
   "metadata": {},
   "outputs": [],
   "source": [
    "# from the import the stats functions from scipy and import numpy\n",
    "import scipy.stats as stats\n",
    "import numpy as np"
   ]
  },
  {
   "cell_type": "markdown",
   "metadata": {},
   "source": [
    "### Using an alpha value (significance level).\n",
    "So in our case, an alpha vaue of .05 (5%) means that we are declaring that we would like to see the confirmation of the null hypothesis, with 95% confidence (or the rejection of the null hypothesis with 5% error).\n",
    "\n",
    "### Let's take a look at the 95% interval for the normal distribution  "
   ]
  },
  {
   "cell_type": "code",
   "execution_count": 55,
   "metadata": {},
   "outputs": [
    {
     "name": "stdout",
     "output_type": "stream",
     "text": [
      "(-1.959963984540054, 1.959963984540054)\n",
      "1.959963984540054\n",
      "-1.959963984540054\n"
     ]
    }
   ],
   "source": [
    "print(stats.norm.interval(.95)) # interval\n",
    "# We can also calculate the confidence intervals using the ppf (percent point function) function\n",
    "print(stats.norm.ppf( 1- ((1 - .95)/2))) # upper Z value\n",
    "print(stats.norm.ppf( (1 - .95)/2)) # lower Z value"
   ]
  },
  {
   "cell_type": "markdown",
   "metadata": {},
   "source": [
    "### We can calculate the CI interval in the following manner (refer back to our equation):"
   ]
  },
  {
   "cell_type": "code",
   "execution_count": 56,
   "metadata": {},
   "outputs": [
    {
     "name": "stdout",
     "output_type": "stream",
     "text": [
      "alpha: 0.05 interval_end: 0.525 z_mult: 0.06270677794321385\n"
     ]
    }
   ],
   "source": [
    "alpha = .05\n",
    "interval_end = 1-((1-alpha)/2) # upper Z value\n",
    "z_mult = stats.norm.ppf(interval_end) # using the percent point function (or you can look it up)\n",
    "# standard deviation\n",
    "sd = 25\n",
    "# mean of all values\n",
    "x_bar = 135\n",
    "# number of values\n",
    "n = 56\n",
    "# let's see the variables\n",
    "print ('alpha:', alpha, 'interval_end:', interval_end, 'z_mult:', z_mult)"
   ]
  },
  {
   "cell_type": "code",
   "execution_count": 57,
   "metadata": {},
   "outputs": [
    {
     "name": "stdout",
     "output_type": "stream",
     "text": [
      "Conventional Calulation: (134.79051135813214, 135.20948864186786)\n"
     ]
    }
   ],
   "source": [
    "print('Conventional Calulation:',\n",
    "           (x_bar - z_mult*(sd/np.sqrt(n)),x_bar + z_mult*(sd/np.sqrt(n)) ))"
   ]
  },
  {
   "cell_type": "code",
   "execution_count": 58,
   "metadata": {},
   "outputs": [
    {
     "name": "stdout",
     "output_type": "stream",
     "text": [
      "Calculation with .interval(): (134.79051135813214, 135.20948864186786)\n"
     ]
    }
   ],
   "source": [
    "print('Calculation with .interval():',  # 'loc' is the mean of the distribution, 'scale' is the sd\n",
    "           stats.norm.interval(alpha = .05, loc = x_bar, scale= sd/ np.sqrt(n)))"
   ]
  },
  {
   "cell_type": "markdown",
   "metadata": {},
   "source": [
    "## Wrap up\n",
    "\n",
    "- Confidence Intervals\n"
   ]
  }
 ],
 "metadata": {
  "kernelspec": {
   "display_name": "Python 3",
   "language": "python",
   "name": "python3"
  },
  "language_info": {
   "codemirror_mode": {
    "name": "ipython",
    "version": 3
   },
   "file_extension": ".py",
   "mimetype": "text/x-python",
   "name": "python",
   "nbconvert_exporter": "python",
   "pygments_lexer": "ipython3",
   "version": "3.7.4"
  },
  "latex_envs": {
   "LaTeX_envs_menu_present": true,
   "autoclose": false,
   "autocomplete": true,
   "bibliofile": "biblio.bib",
   "cite_by": "apalike",
   "current_citInitial": 1,
   "eqLabelWithNumbers": true,
   "eqNumInitial": 1,
   "hotkeys": {
    "equation": "Ctrl-E",
    "itemize": "Ctrl-I"
   },
   "labels_anchors": false,
   "latex_user_defs": false,
   "report_style_numbering": false,
   "user_envs_cfg": false
  }
 },
 "nbformat": 4,
 "nbformat_minor": 4
}
