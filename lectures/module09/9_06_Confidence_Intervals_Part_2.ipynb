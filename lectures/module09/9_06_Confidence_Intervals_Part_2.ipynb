{
 "cells": [
  {
   "cell_type": "markdown",
   "metadata": {},
   "source": [
    "# Confidence intervals"
   ]
  },
  {
   "cell_type": "markdown",
   "metadata": {},
   "source": [
    "## Outline\n",
    "\n",
    "- Introduction\n",
    "- Determining the confidence interval with z-score vs t-score\n",
    "- Wrap up\n"
   ]
  },
  {
   "cell_type": "markdown",
   "metadata": {},
   "source": [
    "## Introduction \n",
    "\n",
    "In Confidence Intervals part 1 we discussed the definition of the confidence interval. As we mentioned, we can use a normal distribution or a t-distribution in order to determine our confidence interval.\n",
    "\n",
    "We would choose the type of confidence interval function based on the sample size. In the case where the sample size is small (< 30), we would use a t-distribution (t-score). If the sample size is large, (>=30) we would use a normal distribution (z-score).\n"
   ]
  },
  {
   "cell_type": "markdown",
   "metadata": {},
   "source": [
    "## Confidence interval using the z-score vs t-score\n",
    "\n",
    "Z-score ($Z_{\\alpha/2}$) is used for a normal distribution, and t-score ($t_{\\alpha/2,df}$) is used for a t-distribution. \n",
    "\n",
    "You should use **z-score** if you know the population variance $\\sigma^2$. If not, you use the **t-score**. \n",
    "\n",
    "**Since the population variance $\\sigma^2$ is almost never known, you almost always use t-score to calculate the confidence interval.** After all, the purpose of using the confidence interval is to mitigate the issue of difference between the Population vs. Samples when estimating population parameters ($\\sigma^2$) from samples. If you know the population parameters, you probably don't need the confidence interval in the first place."
   ]
  },
  {
   "cell_type": "markdown",
   "metadata": {},
   "source": [
    "The **Python** \"`stats`\" package has a library for the t distribution. \n",
    "\n",
    "The \"`t`\" library functions are similar to the \"`norm`\" library, except that **degrees of freedom** must be specified. Remember, degrees of freedom (df) in these cases is $n - 1$. Thus 21 observations would yield $df = 20$"
   ]
  },
  {
   "cell_type": "markdown",
   "metadata": {},
   "source": [
    "### Let's set up the environment for an example"
   ]
  },
  {
   "cell_type": "code",
   "execution_count": 41,
   "metadata": {},
   "outputs": [],
   "source": [
    "# import the stats functions from scipy and import numpy\n",
    "import scipy.stats as stats\n",
    "import numpy as np\n",
    "# We will be using Seaborn to graph our distributions\n",
    "import seaborn as sns\n",
    "#set style for seaborn\n",
    "sns.set_style('whitegrid')\n",
    "# settings for seaborn plot sizes\n",
    "sns.set(rc={'figure.figsize':(5,5)})\n",
    "\n",
    "# include an example using the Z-score (where we know the population)\n",
    "# Read into the data called `bodytemp`\n",
    "import pandas as pd\n",
    "body = pd.read_csv('data/bodytemp.csv')"
   ]
  },
  {
   "cell_type": "code",
   "execution_count": 42,
   "metadata": {},
   "outputs": [
    {
     "data": {
      "text/html": [
       "<div>\n",
       "<style scoped>\n",
       "    .dataframe tbody tr th:only-of-type {\n",
       "        vertical-align: middle;\n",
       "    }\n",
       "\n",
       "    .dataframe tbody tr th {\n",
       "        vertical-align: top;\n",
       "    }\n",
       "\n",
       "    .dataframe thead th {\n",
       "        text-align: right;\n",
       "    }\n",
       "</style>\n",
       "<table border=\"1\" class=\"dataframe\">\n",
       "  <thead>\n",
       "    <tr style=\"text-align: right;\">\n",
       "      <th></th>\n",
       "      <th>temp</th>\n",
       "      <th>sex</th>\n",
       "      <th>bpm</th>\n",
       "    </tr>\n",
       "  </thead>\n",
       "  <tbody>\n",
       "    <tr>\n",
       "      <th>0</th>\n",
       "      <td>96.3</td>\n",
       "      <td>0</td>\n",
       "      <td>70</td>\n",
       "    </tr>\n",
       "    <tr>\n",
       "      <th>1</th>\n",
       "      <td>96.7</td>\n",
       "      <td>0</td>\n",
       "      <td>71</td>\n",
       "    </tr>\n",
       "    <tr>\n",
       "      <th>2</th>\n",
       "      <td>96.9</td>\n",
       "      <td>0</td>\n",
       "      <td>74</td>\n",
       "    </tr>\n",
       "    <tr>\n",
       "      <th>3</th>\n",
       "      <td>97.0</td>\n",
       "      <td>0</td>\n",
       "      <td>80</td>\n",
       "    </tr>\n",
       "    <tr>\n",
       "      <th>4</th>\n",
       "      <td>97.1</td>\n",
       "      <td>0</td>\n",
       "      <td>73</td>\n",
       "    </tr>\n",
       "  </tbody>\n",
       "</table>\n",
       "</div>"
      ],
      "text/plain": [
       "   temp  sex  bpm\n",
       "0  96.3    0   70\n",
       "1  96.7    0   71\n",
       "2  96.9    0   74\n",
       "3  97.0    0   80\n",
       "4  97.1    0   73"
      ]
     },
     "execution_count": 42,
     "metadata": {},
     "output_type": "execute_result"
    }
   ],
   "source": [
    "# let's take a look at the data\n",
    "body.head()\n"
   ]
  },
  {
   "cell_type": "code",
   "execution_count": 43,
   "metadata": {
    "scrolled": false
   },
   "outputs": [
    {
     "data": {
      "text/plain": [
       "65     69\n",
       "66     62\n",
       "67     75\n",
       "68     66\n",
       "69     68\n",
       "       ..\n",
       "125    68\n",
       "126    77\n",
       "127    79\n",
       "128    78\n",
       "129    77\n",
       "Name: bpm, Length: 65, dtype: int64"
      ]
     },
     "execution_count": 43,
     "metadata": {},
     "output_type": "execute_result"
    }
   ],
   "source": [
    "# extract only the female population heartrate data\n",
    "female_hr = body[body.sex == 1]['bpm']\n",
    "female_hr"
   ]
  },
  {
   "cell_type": "code",
   "execution_count": 44,
   "metadata": {},
   "outputs": [
    {
     "data": {
      "text/plain": [
       "<matplotlib.axes._subplots.AxesSubplot at 0x259603a99e8>"
      ]
     },
     "execution_count": 44,
     "metadata": {},
     "output_type": "execute_result"
    },
    {
     "data": {
      "image/png": "[encoded data removed]",
      "text/plain": [
       "<Figure size 360x360 with 1 Axes>"
      ]
     },
     "metadata": {},
     "output_type": "display_data"
    }
   ],
   "source": [
    "# Now plot the data using Seaborn displot\n",
    "sns.distplot(female_hr,color='blue', kde=False)"
   ]
  },
  {
   "cell_type": "code",
   "execution_count": 45,
   "metadata": {},
   "outputs": [
    {
     "name": "stdout",
     "output_type": "stream",
     "text": [
      "mean: 74.15384615384616 stdev: 8.105227420526925\n"
     ]
    }
   ],
   "source": [
    "# 65 female samples in our data set\n",
    "n = len(female_hr)\n",
    "x_bar = female_hr.mean()\n",
    "std_dev = female_hr.std()\n",
    "print('mean:', x_bar, 'stdev:', std_dev)"
   ]
  },
  {
   "cell_type": "markdown",
   "metadata": {},
   "source": [
    "### Calculating the confidence interval using the Z-score (normal distribution)"
   ]
  },
  {
   "cell_type": "code",
   "execution_count": 46,
   "metadata": {},
   "outputs": [
    {
     "name": "stdout",
     "output_type": "stream",
     "text": [
      "Calculation with .interval(): (74.0908051655888, 74.21688714210352)\n"
     ]
    }
   ],
   "source": [
    "# Calculating CI using the .interval function\n",
    "print('Calculation with .interval():',  # 'loc' is the mean of the distribution, 'scale' is the sd\n",
    "           stats.norm.interval(alpha = .05, loc = x_bar, scale= std_dev/ np.sqrt(n)))"
   ]
  },
  {
   "cell_type": "markdown",
   "metadata": {},
   "source": [
    "### Calculating the confidence interval using the t-score (t-distribution)"
   ]
  },
  {
   "cell_type": "code",
   "execution_count": 47,
   "metadata": {
    "scrolled": true
   },
   "outputs": [
    {
     "name": "stdout",
     "output_type": "stream",
     "text": [
      "Sample Mean:   74.15384615384616\n",
      "Observations (n):   65\n",
      "Sample sd:   8.105227420526925\n",
      "t-multiplier:   0.06295316858503101\n",
      "Confidence Interval:   74.15384615384616 +/- 0.0633\n"
     ]
    }
   ],
   "source": [
    "# Calulating a CI with the t-score\n",
    "# use the data from above: n, x_bar, std_dev\n",
    "alpha = .05\n",
    "t_mult = stats.t.interval(alpha, df = n-1)[1]\n",
    "\n",
    "print('Sample Mean:  ', x_bar)\n",
    "print('Observations (n):  ', n)\n",
    "print('Sample sd:  ', std_dev)\n",
    "print('t-multiplier:  ', t_mult)\n",
    "\n",
    "print('Confidence Interval:  ', x_bar, '+/-', round(t_mult * (std_dev / np.sqrt(n)),4))"
   ]
  },
  {
   "cell_type": "code",
   "execution_count": 48,
   "metadata": {},
   "outputs": [
    {
     "data": {
      "text/plain": [
       "(74.09055746175093, 74.21713484594139)"
      ]
     },
     "execution_count": 48,
     "metadata": {},
     "output_type": "execute_result"
    }
   ],
   "source": [
    "# We can also use the t.interval function - don't forget we need to use the degrees of freedom!\n",
    "stats.t.interval(.05, df=len(female_hr)-1, loc=np.mean(female_hr), scale=stats.sem(female_hr))"
   ]
  },
  {
   "cell_type": "markdown",
   "metadata": {},
   "source": [
    "## Wrap up\n",
    "\n",
    "- Determining CI with z-score vs t-score"
   ]
  }
 ],
 "metadata": {
  "kernelspec": {
   "display_name": "Python 3",
   "language": "python",
   "name": "python3"
  },
  "language_info": {
   "codemirror_mode": {
    "name": "ipython",
    "version": 3
   },
   "file_extension": ".py",
   "mimetype": "text/x-python",
   "name": "python",
   "nbconvert_exporter": "python",
   "pygments_lexer": "ipython3",
   "version": "3.7.4"
  },
  "latex_envs": {
   "LaTeX_envs_menu_present": true,
   "autoclose": false,
   "autocomplete": true,
   "bibliofile": "biblio.bib",
   "cite_by": "apalike",
   "current_citInitial": 1,
   "eqLabelWithNumbers": true,
   "eqNumInitial": 1,
   "hotkeys": {
    "equation": "Ctrl-E",
    "itemize": "Ctrl-I"
   },
   "labels_anchors": false,
   "latex_user_defs": false,
   "report_style_numbering": false,
   "user_envs_cfg": false
  }
 },
 "nbformat": 4,
 "nbformat_minor": 4
}
