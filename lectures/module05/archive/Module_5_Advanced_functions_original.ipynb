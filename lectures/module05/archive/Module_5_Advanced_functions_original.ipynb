{
 "cells": [
  {
   "cell_type": "markdown",
   "metadata": {
    "nbgrader": {
     "grade": false,
     "locked": true,
     "solution": false
    }
   },
   "source": [
    "# Module 5. Advanced functions.\n",
    "\n",
    "**_Author: Favio Vázquez_**\n",
    "\n",
    "**Expected time = 2.5 hours**\n",
    "\n",
    "**Total points = 130 points**\n"
   ]
  },
  {
   "cell_type": "markdown",
   "metadata": {
    "nbgrader": {
     "grade": false,
     "locked": true,
     "solution": false
    }
   },
   "source": [
    "## Assignment Overview\n",
    "\n",
    "In this assignment you will work with Python functions, from the basics of their structure to more nuanced activities. You will start by reviewing what you learned about functions in earlier modules, then you will practice how to cast arguments inside of functions, how to use the local and the global environment, how to use nested functions, and then how to deal with exceptions. In the final part of the assignment you will be testing your knowledge of lambda functions and the basics of functional programming.\n",
    "\n",
    "This assignment is designed to build your familiarity and comfort coding in Python while also helping you review key topics from each module. As you progress through the assignment, answers will get increasingly complex. It is important that you adopt a data scientist's mindset when completing this assignment. **Remember to run your code from each cell before submitting your assignment.** Running your code beforehand will notify you of errors and give you a chance to fix your errors before submitting. You should view your Vocareum submission as if you are delivering a final project to your manager or client. \n",
    "\n",
    "***Vocareum Tips***\n",
    "- Do not add arguments or options to functions unless you are specifically asked to. This will cause an error in Vocareum.\n",
    "- Do not use a library unless you are explibitly asked to in the question. \n",
    "- You can download the Grading Report after submitting the assignment. This will include feedback and hints on incorrect questions.\n",
    "\n",
    "\n",
    "### Learning Objectives\n",
    "\n",
    "- Construct complex functions including functions with multiple parameters, nested functions, and functions with default vs. flexible arguments. \n",
    "- Distinguish between global, local, and built-in scope. \n",
    "- Interpret errors and understand exceptions in order to troubleshoot.  \n",
    "- Use lambda functions to analyze DataFrames."
   ]
  },
  {
   "cell_type": "markdown",
   "metadata": {
    "nbgrader": {
     "grade": false,
     "locked": true,
     "solution": false
    }
   },
   "source": [
    "## Index:\n",
    "\n",
    "#### Module 5: Advanced functions\n",
    "\n",
    "- [Question 1](#Question-1)\n",
    "- [Question 2](#Question-2)\n",
    "- [Question 3](#Question-3)\n",
    "- [Question 4](#Question-4)\n",
    "- [Question 5](#Question-5)\n",
    "- [Question 6](#Question-6)\n",
    "- [Question 7](#Question-7)\n",
    "- [Question 8](#Question-8)\n",
    "- [Question 9](#Question-9)\n",
    "- [Question 10](#Question-10)\n",
    "- [Question 11](#Question-11)\n",
    "- [Question 12](#Question-12)"
   ]
  },
  {
   "cell_type": "markdown",
   "metadata": {
    "nbgrader": {
     "grade": false,
     "locked": true,
     "solution": false
    }
   },
   "source": [
    "\n",
    "## Module 5: Advanced functions\n",
    "\n",
    "In the first part of this assignment, we will reviewing the basics of functions and the way we create them in Python."
   ]
  },
  {
   "cell_type": "markdown",
   "metadata": {
    "nbgrader": {
     "grade": false,
     "locked": true,
     "solution": false
    }
   },
   "source": [
    "### Basic functions review\n",
    "\n",
    "We will begin this assignment with a review of functions to refresh your memory on the basics. As you may remember, functions are followed by parentheses () and the argument is within the parentheses like this: `function(argument)` . The arguments are the input that the function performs some calculations on, and then produces an output. You may use either built-in functions or create your own user-defined functions. Functions may also have multiple parameters. \n",
    "\n",
    "[Back to top](#Index:) "
   ]
  },
  {
   "cell_type": "markdown",
   "metadata": {
    "nbgrader": {
     "grade": false,
     "locked": true,
     "solution": false
    }
   },
   "source": [
    "### Question 1\n",
    "*5 points*\n",
    "\n",
    "Create a function called `square_cond` that takes an argument and returns the square of it, if and only if the number is even. If the number is odd return the sentence \"Odd number\". "
   ]
  },
  {
   "cell_type": "code",
   "execution_count": null,
   "metadata": {
    "collapsed": true,
    "jupyter": {
     "outputs_hidden": true
    }
   },
   "outputs": [],
   "source": [
    "### GRADED\n",
    "\n",
    "### YOUR SOLUTION HERE\n",
    "def square_cond():\n",
    "    return\n",
    "\n",
    "### BEGIN SOLUTION\n",
    "def square_cond(x):\n",
    "    if x % 2 == 0:\n",
    "        return x*x\n",
    "    else:\n",
    "        return \"Odd number\"\n",
    "### END SOLUTION"
   ]
  },
  {
   "cell_type": "code",
   "execution_count": null,
   "metadata": {
    "collapsed": true,
    "jupyter": {
     "outputs_hidden": true
    },
    "nbgrader": {
     "grade": true,
     "grade_id": "Question 01",
     "locked": true,
     "points": "5",
     "solution": false
    }
   },
   "outputs": [],
   "source": [
    "### BEGIN HIDDEN TESTS\n",
    "def square_cond_(x):\n",
    "    if x % 2 == 0:\n",
    "        return x*x\n",
    "    else:\n",
    "        return \"Odd number\"\n",
    "#\n",
    "#\n",
    "#\n",
    "assert square_cond(10) == 100\n",
    "assert square_cond(11) == \"Odd number\"\n",
    "assert square_cond_(1) == square_cond(1)\n",
    "assert square_cond_(2) == square_cond(2)\n",
    "assert square_cond_(14) == square_cond(14), \"Did you compute the square of the number correctly?\"\n",
    "assert square_cond_(7) == square_cond(7), \"Did you make sure your function only takes even numbers?\"\n",
    "print(\"That's correct!\")\n",
    "### END HIDDEN TESTS"
   ]
  },
  {
   "cell_type": "markdown",
   "metadata": {
    "nbgrader": {
     "grade": false,
     "locked": true,
     "solution": false
    }
   },
   "source": [
    "[Back to top](#Index:) \n",
    "\n",
    "### Question 2\n",
    "*15 points*\n",
    "\n",
    "Create a Python function called `multi_operation` that takes two floats `a` and `b` and returns a tuple. Keep the following in mind:\n",
    "- Ensure that both `a` and `b` are floats. If not they are not floats, parse them inside the function. \n",
    "- The first element of the tuple must be the multiplication of `a` and `b`. \n",
    "- The second element must be the integer division of `a` and `b`. \n",
    "- Return both elements.\n",
    "\n",
    "**Hint: The integer division is perfomed by the `//` operator.**"
   ]
  },
  {
   "cell_type": "code",
   "execution_count": null,
   "metadata": {
    "collapsed": true,
    "jupyter": {
     "outputs_hidden": true
    }
   },
   "outputs": [],
   "source": [
    "### GRADED\n",
    "\n",
    "### YOUR SOLUTION HERE\n",
    "def multi_operation():\n",
    "    return\n",
    "\n",
    "### BEGIN SOLUTION\n",
    "def multi_operation(a,b):\n",
    "    if not isinstance(a,float):\n",
    "        a = float(a)\n",
    "    if not isinstance(b,float):\n",
    "        b = float(b)\n",
    "    multi = a*b\n",
    "    div = a//b\n",
    "    return multi,div\n",
    "### END SOLUTION"
   ]
  },
  {
   "cell_type": "code",
   "execution_count": null,
   "metadata": {
    "collapsed": true,
    "jupyter": {
     "outputs_hidden": true
    },
    "nbgrader": {
     "grade": true,
     "grade_id": "Question 02",
     "locked": true,
     "points": "15",
     "solution": false
    }
   },
   "outputs": [],
   "source": [
    "### BEGIN HIDDEN TESTS\n",
    "def multi_operation_(a,b):\n",
    "    if not isinstance(a,float):\n",
    "        a = float(a)\n",
    "    if not isinstance(b,float):\n",
    "        b = float(b)\n",
    "    multi = a*b\n",
    "    div = a//b\n",
    "    return multi,div\n",
    "#\n",
    "#\n",
    "#\n",
    "assert multi_operation(1,2) == (2.0, 0.0)\n",
    "assert multi_operation(10.2,2.2) == (22.44, 4.0)\n",
    "assert multi_operation(20,10) == multi_operation_(20,10)\n",
    "assert multi_operation(40,2.5) == multi_operation_(40,2.5), \"Did you make sure that your function only takes floats?\"\n",
    "print(\"That's correct!\")\n",
    "### END HIDDEN TESTS"
   ]
  },
  {
   "cell_type": "markdown",
   "metadata": {},
   "source": [
    "### Local vs Global scope\n",
    "\n",
    "In this section you will test your knowledge about scope in Python. As you may remember: \n",
    "- Global scope is defined in the main body of the script.\n",
    "- Local scope is defined within a function.\n",
    "- Built-in scope comes standard with Python."
   ]
  },
  {
   "cell_type": "markdown",
   "metadata": {
    "nbgrader": {
     "grade": false,
     "locked": true,
     "solution": false
    }
   },
   "source": [
    "[Back to top](#Index:) \n",
    "\n",
    "### Question 3\n",
    "*10 points*\n",
    "\n",
    "Remember that variables that are defined inside a function body have a local scope, and those defined outside of the function body have a global scope.With that in mind, complete the following: \n",
    "- Define a function called `global_sum` that takes two integers and computes their sum. \n",
    "- Create a global variable, inside the function, named `number` to store the result without returning it."
   ]
  },
  {
   "cell_type": "code",
   "execution_count": null,
   "metadata": {
    "collapsed": true,
    "jupyter": {
     "outputs_hidden": true
    }
   },
   "outputs": [],
   "source": [
    "### GRADED\n",
    "\n",
    "### YOUR SOLUTION HERE\n",
    "def global_sum():\n",
    "    return \n",
    "\n",
    "### BEGIN SOLUTION\n",
    "def global_sum(a,b):\n",
    "    global number\n",
    "    number = a+b\n",
    "### END SOLUTION"
   ]
  },
  {
   "cell_type": "code",
   "execution_count": null,
   "metadata": {
    "collapsed": true,
    "jupyter": {
     "outputs_hidden": true
    },
    "nbgrader": {
     "grade": true,
     "grade_id": "Question 03",
     "locked": true,
     "points": "10",
     "solution": false
    }
   },
   "outputs": [],
   "source": [
    "### BEGIN HIDDEN TESTS\n",
    "#\n",
    "#\n",
    "#\n",
    "global_sum(10,4)\n",
    "assert number == 14, \"Did you define number as a global variable?\"\n",
    "global_sum(2,23)\n",
    "assert number == 25\n",
    "global_sum(-5,4)\n",
    "assert number == -1\n",
    "global_sum(223,-1233)\n",
    "assert number == -1010\n",
    "print(\"That's correct!\")\n",
    "### END HIDDEN TESTS"
   ]
  },
  {
   "cell_type": "markdown",
   "metadata": {
    "nbgrader": {
     "grade": false,
     "locked": true,
     "solution": false
    }
   },
   "source": [
    "[Back to top](#Index:) \n",
    "\n",
    "### Question 4\n",
    "*5 points*\n",
    "\n",
    "Create a function called `i_print` that takes no argument and returns the global variable `x` as an integer. A few items to note:\n",
    "- `x` is already defined for you. \n",
    "- The printed value must be an integer."
   ]
  },
  {
   "cell_type": "code",
   "execution_count": null,
   "metadata": {
    "collapsed": true,
    "jupyter": {
     "outputs_hidden": true
    }
   },
   "outputs": [],
   "source": [
    "### GRADED\n",
    "\n",
    "### YOUR SOLUTION HERE\n",
    "# Definition of x\n",
    "x = 10\n",
    "\n",
    "def i_print():\n",
    "    return \n",
    "\n",
    "### BEGIN SOLUTION\n",
    "def i_print():\n",
    "    return int(x)\n",
    "### END SOLUTION"
   ]
  },
  {
   "cell_type": "code",
   "execution_count": null,
   "metadata": {
    "collapsed": true,
    "jupyter": {
     "outputs_hidden": true
    },
    "nbgrader": {
     "grade": true,
     "grade_id": "Question 04",
     "locked": true,
     "points": "5",
     "solution": false
    }
   },
   "outputs": [],
   "source": [
    "### BEGIN HIDDEN TESTS\n",
    "x_ = 10\n",
    "\n",
    "def i_print_():\n",
    "    return int(x_)\n",
    "#\n",
    "#\n",
    "#\n",
    "assert i_print() == i_print_(), \"Did you cast x to an integer?\"\n",
    "print(\"That's correct!\")\n",
    "### END HIDDEN TESTS"
   ]
  },
  {
   "cell_type": "markdown",
   "metadata": {
    "nbgrader": {
     "grade": false,
     "locked": true,
     "solution": false
    }
   },
   "source": [
    "[Back to top](#Index:) \n",
    "\n",
    "### Question 5\n",
    "\n",
    "*5 points*\n",
    "\n",
    "We define a function as:\n",
    "\n",
    "```python\n",
    "\n",
    "a = 10\n",
    "\n",
    "def h():     \n",
    "    global a \n",
    "    a = 3\n",
    "    return a\n",
    "```\n",
    "\n",
    "What will the function `h()` return? Store your solution in the variable `ans_1`."
   ]
  },
  {
   "cell_type": "code",
   "execution_count": null,
   "metadata": {
    "collapsed": true,
    "jupyter": {
     "outputs_hidden": true
    }
   },
   "outputs": [],
   "source": [
    "### GRADED\n",
    "\n",
    "### YOUR SOLUTION HERE\n",
    "ans_1 = None\n",
    "\n",
    "### BEGIN SOLUTION\n",
    "ans_1 = 3\n",
    "### END SOLUTION"
   ]
  },
  {
   "cell_type": "code",
   "execution_count": null,
   "metadata": {
    "collapsed": true,
    "jupyter": {
     "outputs_hidden": true
    },
    "nbgrader": {
     "grade": true,
     "grade_id": "Question 05",
     "locked": true,
     "points": "5",
     "solution": false
    }
   },
   "outputs": [],
   "source": [
    "### BEGIN HIDDEN TESTS\n",
    "assert ans_1 == 3, \"Are you sure?\"\n",
    "print(\"That's correct!\")\n",
    "### END HIDDEN TESTS"
   ]
  },
  {
   "cell_type": "markdown",
   "metadata": {},
   "source": [
    "### Nested functions and functions with multiple arguments\n",
    "\n",
    "In this section you will test your knowledge on how to create and use nested functions and how to define functions with default parameters.\n",
    "\n",
    "We use nested functions to run a process multiple times. You may remember:\n",
    "- A nested function is a function within a function.\n",
    "- Return is used to return the variable so it can be used by the function.\n",
    "- The innermost function is processed first.\n",
    "- The outermost function is processed last.\n",
    "\n",
    "We can use built-in functions with default arguments and specify default arguments for our user-defined functions. \n",
    "- Default arguments make it optional for the user to enter an argument.\n",
    "- We can use an asterisk before our parameter name to indicate that any number of arguments can be passed through the function and use a for loop so the function applies the code to each argument."
   ]
  },
  {
   "cell_type": "markdown",
   "metadata": {
    "nbgrader": {
     "grade": false,
     "locked": true,
     "solution": false
    }
   },
   "source": [
    "[Back to top](#Index:) \n",
    "\n",
    "### Question 6\n",
    "*15 points*\n",
    "\n",
    "Define a nested function called `nested_sum`, where in the first part of the function you accept an argument called `x` and in the second part (the function `f`  that is inside) you take another argument called `y`. \n",
    "- In the function `f`, calculate the sum of `x` and `y`. \n",
    "- To test your function, create a variable called `res_1` where you pass the `x` argument to `nested_sum`, and then create a variable called `res_2` where you pass the `y` argument of the res_1 variable to get the final solution. \n",
    "- Have `x` equal 2 for res_1 and `y` equal 10 for res_2."
   ]
  },
  {
   "cell_type": "code",
   "execution_count": null,
   "metadata": {
    "collapsed": true,
    "jupyter": {
     "outputs_hidden": true
    }
   },
   "outputs": [],
   "source": [
    "### GRADED\n",
    "\n",
    "### YOUR SOLUTION HERE\n",
    "def nested_sum():\n",
    "    return\n",
    "\n",
    "res_1 = None\n",
    "res_2 = None\n",
    "\n",
    "### BEGIN SOLUTION\n",
    "def nested_sum(x):\n",
    "    def f(y):\n",
    "        return x+y\n",
    "    return f\n",
    "\n",
    "res_1 = nested_sum(2)\n",
    "res_2 = res_1(10)\n",
    "### END SOLUTION"
   ]
  },
  {
   "cell_type": "code",
   "execution_count": null,
   "metadata": {
    "collapsed": true,
    "jupyter": {
     "outputs_hidden": true
    },
    "nbgrader": {
     "grade": true,
     "grade_id": "Question 06",
     "locked": true,
     "points": "15",
     "solution": false
    }
   },
   "outputs": [],
   "source": [
    "### BEGIN HIDDEN TESTS\n",
    "def nested_sum_(x):\n",
    "    def f_(y):\n",
    "        return x+y\n",
    "    return f_\n",
    "\n",
    "res_1_ = nested_sum_(2)\n",
    "res_2_ = res_1_(10)\n",
    "\n",
    "res_3 = nested_sum(10)\n",
    "res_4 = res_3(10)\n",
    "\n",
    "res_5 = nested_sum_(10)\n",
    "res_6 = res_5(10)\n",
    "#\n",
    "#\n",
    "#\n",
    "assert res_2 == res_2_, \"Have you defined your nested functions correctly?\"\n",
    "assert res_4 == res_6\n",
    "print(\"That's correct!\")\n",
    "### END HIDDEN TESTS"
   ]
  },
  {
   "cell_type": "markdown",
   "metadata": {
    "nbgrader": {
     "grade": false,
     "locked": true,
     "solution": false
    }
   },
   "source": [
    "[Back to top](#Index:) \n",
    "\n",
    "### Question 7\n",
    "*10 points*\n",
    "\n",
    "Define a function called `i_divide` that takes two arguments: `num_1` and `num_2`, where `num_2` is 2 by default. The return statement should divide `num_1` by `num_2`. "
   ]
  },
  {
   "cell_type": "code",
   "execution_count": null,
   "metadata": {
    "collapsed": true,
    "jupyter": {
     "outputs_hidden": true
    }
   },
   "outputs": [],
   "source": [
    "### GRADED\n",
    "\n",
    "### YOUR SOLUTION HERE\n",
    "def i_divide():\n",
    "    return\n",
    "\n",
    "### BEGIN SOLUTION\n",
    "def i_divide(num_1, num_2=2):\n",
    "    return num_1 / num_2\n",
    "### END SOLUTION"
   ]
  },
  {
   "cell_type": "code",
   "execution_count": null,
   "metadata": {
    "collapsed": true,
    "jupyter": {
     "outputs_hidden": true
    },
    "nbgrader": {
     "grade": true,
     "grade_id": "Question 07",
     "locked": true,
     "points": "10",
     "solution": false
    }
   },
   "outputs": [],
   "source": [
    "### BEGIN HIDDEN TESTS\n",
    "def i_divide_(num_1, num_2=2):\n",
    "    return num_1 / num_2\n",
    "#\n",
    "#\n",
    "#\n",
    "assert i_divide(10,2) == i_divide_(10,2) , \"Did you set the second default argument correctly?\"\n",
    "assert i_divide(1,22) == i_divide_(1,22), \"Are you performing the correct math operation?\"\n",
    "assert i_divide(num_2=10, num_1=10) == i_divide_(num_2=10, num_1=10)\n",
    "print(\"That's correct!\")\n",
    "### END HIDDEN TESTS"
   ]
  },
  {
   "cell_type": "markdown",
   "metadata": {},
   "source": [
    "### Handling exceptions\n",
    "\n",
    "In this section you will test your knowledge on how to handle different types of exceptions and raise errors in Python.\n",
    "- You can use `try` and `except` to print a customized error message. \n",
    "- Remember to specify the error type after `except` to ensure that error messages are specific to potential errors. \n",
    "- You can use an if statement to create more refined error messages. "
   ]
  },
  {
   "cell_type": "markdown",
   "metadata": {
    "nbgrader": {
     "grade": false,
     "locked": true,
     "solution": false
    }
   },
   "source": [
    "[Back to top](#Index:) \n",
    "\n",
    "### Question 8\n",
    "*20 points*\n",
    "\n",
    "Define a function called `exce_sum` where you return the sum of two arguments, but if the both arguments are 0, the function should raise an exception saying \"Invalid numbers\". The exception needs to have the ValueError() class and the return type of the exception must be a string.\n",
    "\n",
    "**Hint: Make sure to validate if the two arguments are 0. Use `try` and `except`.**"
   ]
  },
  {
   "cell_type": "code",
   "execution_count": null,
   "metadata": {
    "collapsed": true,
    "jupyter": {
     "outputs_hidden": true
    }
   },
   "outputs": [],
   "source": [
    "### GRADED\n",
    "\n",
    "### YOUR SOLUTION HERE\n",
    "def exce_sum():\n",
    "    return\n",
    "\n",
    "### BEGIN SOLUTION\n",
    "def exce_sum(a,b):\n",
    "    try:\n",
    "        if a == 0 and b==0:\n",
    "            raise ValueError(\"Invalid numbers\")\n",
    "        return a+b\n",
    "    except ValueError as err:\n",
    "        return str(err)\n",
    "### END SOLUTION"
   ]
  },
  {
   "cell_type": "code",
   "execution_count": null,
   "metadata": {
    "collapsed": true,
    "jupyter": {
     "outputs_hidden": true
    },
    "nbgrader": {
     "grade": true,
     "grade_id": "Question 08",
     "locked": true,
     "points": "20",
     "solution": false
    }
   },
   "outputs": [],
   "source": [
    "### BEGIN HIDDEN TESTS\n",
    "def exce_sum_(a,b):\n",
    "    try:\n",
    "        if a == 0 and b==0:\n",
    "            raise ValueError(\"Invalid numbers\")\n",
    "        return a+b\n",
    "    except ValueError as err:\n",
    "        return str(err)\n",
    "#\n",
    "#\n",
    "#\n",
    "assert exce_sum(1,2) == exce_sum_(1,2), \"Did you the raise the exception correctly?\"\n",
    "assert exce_sum(1,1) == exce_sum_(1,1)\n",
    "assert exce_sum(0,1) == exce_sum_(0,1)\n",
    "assert exce_sum(0,0) == \"Invalid numbers\"\n",
    "assert exce_sum(0,0) == exce_sum_(0,0)\n",
    "assert exce_sum(1,6) == exce_sum_(1,6)\n",
    "print(\"That's correct!\")\n",
    "### END HIDDEN TESTS"
   ]
  },
  {
   "cell_type": "markdown",
   "metadata": {
    "nbgrader": {
     "grade": false,
     "locked": true,
     "solution": false
    }
   },
   "source": [
    "[Back to top](#Index:) \n",
    "\n",
    "### Question 9\n",
    "*15 points*\n",
    "\n",
    "Define a function called `exce_sub` that takes two arguments and returns the difference between two arguments. If both arguments are 1, the function should raise an exception saying \"Invalid numbers\". The exception must be inherited from the ValueError() class and the return type of the exception must be a string.\n",
    "\n",
    "**Hint: Make sure to validate if the two arguments are 0. Use `try` and `except`.**"
   ]
  },
  {
   "cell_type": "code",
   "execution_count": null,
   "metadata": {
    "collapsed": true,
    "jupyter": {
     "outputs_hidden": true
    }
   },
   "outputs": [],
   "source": [
    "### GRADED\n",
    "\n",
    "### YOUR SOLUTION HERE\n",
    "def exce_sub():\n",
    "    return\n",
    "\n",
    "### BEGIN SOLUTION\n",
    "def exce_sub(a,b):\n",
    "    try:\n",
    "        if a == 1 and b==1:\n",
    "            raise ValueError(\"Invalid numbers\")\n",
    "        return a-b\n",
    "    except ValueError as err:\n",
    "        return str(err)\n",
    "### END SOLUTION"
   ]
  },
  {
   "cell_type": "code",
   "execution_count": null,
   "metadata": {
    "collapsed": true,
    "jupyter": {
     "outputs_hidden": true
    },
    "nbgrader": {
     "grade": true,
     "grade_id": "Question 09",
     "locked": true,
     "points": "15",
     "solution": false
    }
   },
   "outputs": [],
   "source": [
    "### BEGIN HIDDEN TESTS\n",
    "def exce_sub_(a,b):\n",
    "    try:\n",
    "        if a == 1 and b == 1:\n",
    "            raise ValueError(\"Invalid numbers\")\n",
    "        return a-b\n",
    "    except ValueError as err:\n",
    "        return str(err)\n",
    "#\n",
    "#\n",
    "#\n",
    "assert exce_sub(2,1) == exce_sub_(2,1), \"Did you the raise the exception correctly?\"\n",
    "assert exce_sub(10,3) == exce_sub_(10,3)\n",
    "assert exce_sub(0,1) == exce_sub_(0,1)\n",
    "assert exce_sub(1,1) == \"Invalid numbers\"\n",
    "assert exce_sub(1,1) == exce_sub_(1,1)\n",
    "assert exce_sub(1,6) == exce_sub_(1,6)\n",
    "print(\"That's correct!\") \n",
    "### END HIDDEN TESTS"
   ]
  },
  {
   "cell_type": "markdown",
   "metadata": {
    "nbgrader": {
     "grade": false,
     "locked": true,
     "solution": false
    }
   },
   "source": [
    "### Lambda functions\n",
    "\n",
    "In this final section you will test your knowledge of lambda functions. Remember, you can use the `lambda` keyword to write functions quickly, but only for functions that evaluate to an expression. So this is a good approach for functions you will only use a few times. \n",
    "\n",
    "As you may remember, lambda functions look like this. \n",
    "\n",
    "`name = lambda argument: what the function will do`"
   ]
  },
  {
   "cell_type": "markdown",
   "metadata": {
    "nbgrader": {
     "grade": false,
     "locked": true,
     "solution": false
    }
   },
   "source": [
    "[Back to top](#Index:) \n",
    "\n",
    "### Question 10\n",
    "*5 points*\n",
    "  \n",
    "Create a variable called `f` that stores a lambda function to square a number. Test your function with the number 6 and store it in a variable called `ans_1`, then with the number 112 and store it in a variable called `ans_2`."
   ]
  },
  {
   "cell_type": "code",
   "execution_count": null,
   "metadata": {
    "collapsed": true,
    "jupyter": {
     "outputs_hidden": true
    }
   },
   "outputs": [],
   "source": [
    "### GRADED\n",
    "\n",
    "### YOUR SOLUTION HERE\n",
    "f = None\n",
    "\n",
    "ans_1 = None\n",
    "ans_2 = None\n",
    "\n",
    "### BEGIN SOLUTION\n",
    "f = lambda x: x*x\n",
    "\n",
    "ans_1 = f(6)\n",
    "ans_2 = f(112)\n",
    "### END SOLUTION"
   ]
  },
  {
   "cell_type": "code",
   "execution_count": null,
   "metadata": {
    "collapsed": true,
    "jupyter": {
     "outputs_hidden": true
    },
    "nbgrader": {
     "grade": true,
     "grade_id": "Question 10",
     "locked": true,
     "points": "5",
     "solution": false
    }
   },
   "outputs": [],
   "source": [
    "### BEGIN HIDDEN TESTS\n",
    "f_ =  lambda x: x*x\n",
    "\n",
    "ans_1_ = f_(6)\n",
    "ans_2_ = f_(112)\n",
    "\n",
    "#\n",
    "#\n",
    "#\n",
    "assert ans_1 == ans_1_, \"Did you define your lambda function correctly?\"\n",
    "assert ans_2 == ans_2\n",
    "assert f(10) == 100\n",
    "assert f(4) == 16\n",
    "print(\"That's correct!\")\n",
    "### END HIDDEN TESTS"
   ]
  },
  {
   "cell_type": "markdown",
   "metadata": {
    "nbgrader": {
     "grade": false,
     "locked": true,
     "solution": false
    }
   },
   "source": [
    "[Back to top](#Index:) \n",
    "\n",
    "### Question 11\n",
    "*10 points*\n",
    "    \n",
    "Create a list called `res` that stores a lambda function using the `map` function to capitalize all the strings inside of the list `try_list`."
   ]
  },
  {
   "cell_type": "code",
   "execution_count": null,
   "metadata": {
    "collapsed": true,
    "jupyter": {
     "outputs_hidden": true
    }
   },
   "outputs": [],
   "source": [
    "### GRADED\n",
    "\n",
    "### YOUR SOLUTION HERE\n",
    "try_list = [\"programming\", \"is\", \"awesome\", \"and\", \"more\", \"with\", \"emeritus\"]\n",
    "res = None\n",
    "\n",
    "### BEGIN SOLUTION\n",
    "res = list(map(lambda x: x.capitalize(), try_list))\n",
    "### END SOLUTION"
   ]
  },
  {
   "cell_type": "code",
   "execution_count": null,
   "metadata": {
    "collapsed": true,
    "jupyter": {
     "outputs_hidden": true
    },
    "nbgrader": {
     "grade": true,
     "grade_id": "Question 11",
     "locked": true,
     "points": "10",
     "solution": false
    }
   },
   "outputs": [],
   "source": [
    "### BEGIN HIDDEN TESTS\n",
    "try_list_ = [\"programming\", \"is\", \"awesome\", \"and\", \"more\", \"with\", \"emeritus\"]\n",
    "res_ = list(map(lambda x: x.capitalize(), try_list_))\n",
    "#\n",
    "#\n",
    "#\n",
    "assert try_list == try_list_, \"Make sure you use the correct string method here\"\n",
    "assert res == res_\n",
    "print(\"That's correct!\")\n",
    "### END HIDDEN TESTS"
   ]
  },
  {
   "cell_type": "markdown",
   "metadata": {
    "nbgrader": {
     "grade": false,
     "locked": true,
     "solution": false
    }
   },
   "source": [
    "[Back to top](#Index:)\n",
    "\n",
    "### Question 12\n",
    "*15 points*\n",
    "\n",
    "Given the dataframe `df`, define a function called `multi` that takes two arguments `x` and `y` that returns `x` multiplied by `y`. Use a lambda function inside the `df.apply` function to multiply the columns `num_legs` and `num_specimen` utilizing the multi function you defined, and then store the final result in a new column called `result` in the same dataframe.\n",
    "\n",
    "**Hint: Use `df.apply`**"
   ]
  },
  {
   "cell_type": "code",
   "execution_count": null,
   "metadata": {
    "collapsed": true,
    "jupyter": {
     "outputs_hidden": true
    }
   },
   "outputs": [],
   "source": [
    "### GRADED\n",
    "\n",
    "### YOUR SOLUTION HERE\n",
    "\n",
    "import pandas as pd\n",
    "\n",
    "df = pd.DataFrame({'type': ['falcon', 'dog', 'spider', 'fish'],\n",
    "                   'num_legs': [2, 4, 8, 0],\n",
    "                   'num_wings': [2, 0, 0, 0],\n",
    "                   'num_specimen': [10, 2, 1, 8]})\n",
    "\n",
    "df[\"result\"] = None\n",
    "\n",
    "### BEGIN SOLUTION\n",
    "\n",
    "def multi(x,y):\n",
    "    return x*y\n",
    "\n",
    "df[\"result\"] = df.apply(lambda x: multi(x[\"num_legs\"],x[\"num_specimen\"]),axis=1)\n",
    "### END SOLUTION"
   ]
  },
  {
   "cell_type": "code",
   "execution_count": null,
   "metadata": {
    "collapsed": true,
    "jupyter": {
     "outputs_hidden": true
    },
    "nbgrader": {
     "grade": true,
     "grade_id": "Question 12",
     "locked": true,
     "points": "15",
     "solution": false
    }
   },
   "outputs": [],
   "source": [
    "### BEGIN HIDDEN TESTS\n",
    "from pandas.util.testing import assert_frame_equal\n",
    "import pandas as pd\n",
    "\n",
    "df_ = pd.DataFrame({'type': ['falcon', 'dog', 'spider', 'fish'],\n",
    "                   'num_legs': [2, 4, 8, 0],\n",
    "                   'num_wings': [2, 0, 0, 0],\n",
    "                   'num_specimen': [10, 2, 1, 8]})\n",
    "\n",
    "def multi(x,y):\n",
    "    return x*y\n",
    "\n",
    "df_[\"result\"] = df_.apply(lambda x: multi(x[\"num_legs\"],x[\"num_specimen\"]),axis=1)\n",
    "#\n",
    "#\n",
    "#\n",
    "assert df.equals(df_), \"Did you define the function `multi` correctly?\"\n",
    "print(\"That's correct!\")\n",
    "### END HIDDEN TESTS"
   ]
  }
 ],
 "metadata": {
  "kernelspec": {
   "display_name": "Python 3",
   "language": "python",
   "name": "python3"
  },
  "language_info": {
   "codemirror_mode": {
    "name": "ipython",
    "version": 3
   },
   "file_extension": ".py",
   "mimetype": "text/x-python",
   "name": "python",
   "nbconvert_exporter": "python",
   "pygments_lexer": "ipython3",
   "version": "3.7.4"
  }
 },
 "nbformat": 4,
 "nbformat_minor": 4
}
