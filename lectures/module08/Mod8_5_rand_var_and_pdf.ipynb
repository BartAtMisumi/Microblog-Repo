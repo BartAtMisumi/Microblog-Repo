{
 "cells": [
  {
   "cell_type": "markdown",
   "metadata": {},
   "source": [
    "# Random Variables and Probability Distribution Functions in Python\n",
    "\n",
    "### Outline\n",
    "\n",
    "-  Quick Recap\n",
    "-  Discrete Random Variables and Probability Distribution Functions in Python\n",
    "- Continuous Random Variables and Probability Distribution Functions in Python\n",
    "- Wrap up\n"
   ]
  },
  {
   "cell_type": "markdown",
   "metadata": {},
   "source": [
    "  \n",
    "## Quick Recap: Random Variables and Probability Distribution Functions\n",
    "\n",
    "A random variable is the set of possible values from a random experiment. Depending on the experiment, random variables can assume **discrete** or **continuous** values.\n",
    "\n",
    "**Discrete Random Variable Example:** You can define a random variable X to be the number which comes up when you roll a fair dice. X can take values: [1,2,3,4,5,6] and therefore is a *discrete random variable*.\n",
    "\n",
    "**Continuous Random Variable Example:** We can also define a random variable X to be the (not rounded) height of students in a class. Since the height can assume *any* value, X in this case will be a *continuous random variable*.\n",
    "\n",
    "A **probability distribution function** (or PDF) is a list of all of the possible outcomes of a random variable along with their corresponding probability values.\n",
    "\n",
    "Again, depending on the experiment, we can have  **discrete** or **continuous probability distribution functions**."
   ]
  },
  {
   "cell_type": "markdown",
   "metadata": {},
   "source": [
    "## Discrete Random Variables and Probability Distribution Functions in Python\n",
    "\n",
    "In this section, we will demonstrate how to generate a Probability Distribution Function, or PDF, from a discrete random variable.\n",
    "\n",
    "\n",
    "### Tossing a non-fair coin\n",
    "\n",
    "Suppose we are tossing a non-fair coin. \n",
    "\n",
    " - Heads corresponds to $0$ \n",
    " - Tails corresponds to $1$\n",
    "\n",
    "Then, we know that the corresponding random variable  $X$ for this experiment will be $X = \\{0,1\\}$. Additionally, we know that:\n",
    "- Probability of Heads is $2/3$ \n",
    "- Probability of Tails is $1/3$\n",
    "\n",
    "\n",
    "The function `rv_discrete` from the library `scipy.stats` helps us create the corresponding PDF for this experiment.\n",
    "\n",
    "The function [`rv_discrete`](https://docs.scipy.org/doc/scipy/reference/generated/scipy.stats.rv_discrete.html) takes the following required argument:\n",
    "\n",
    "- values: two array like values `(xk, pk)`\n",
    "    - xk are integers  \n",
    "    - pk are the non-zero probabilities between 0 and 1 with sum(pk) = 1\n",
    "    - xk and pk must have the same shape\n",
    "\n",
    "Observe the code in below:\n",
    "\n",
    "\n"
   ]
  },
  {
   "cell_type": "code",
   "execution_count": 1,
   "metadata": {},
   "outputs": [
    {
     "data": {
      "image/png": "[encoded data removed]",
      "text/plain": [
       "<Figure size 432x288 with 1 Axes>"
      ]
     },
     "metadata": {
      "needs_background": "light"
     },
     "output_type": "display_data"
    }
   ],
   "source": [
    "#importing the necessesary libraries\n",
    "from scipy import stats\n",
    "import matplotlib.pyplot as plt\n",
    "%matplotlib inline\n",
    "\n",
    "#defining our discrete random variable\n",
    "rv = [0,1]\n",
    "#defining our probabilities \n",
    "prob = (2/3, 1/3)\n",
    "#generating our PDF\n",
    "die_pdf = stats.rv_discrete(values=(rv, prob))\n",
    "\n",
    "#plotting the PDF\n",
    "plt.plot(rv, die_pdf.pmf(rv), 'ro')\n",
    "plt.vlines(rv, 0, die_pdf.pmf(rv), colors='r')\n",
    "plt.title(\"Discrete Probability Distribution Function of tossing a non-fair coin\")\n",
    "plt.show()"
   ]
  },
  {
   "cell_type": "markdown",
   "metadata": {},
   "source": [
    "Of course, we have obtained a discrete PDF.\n",
    "\n",
    "There is something special about this specific function: you can see that it only takes two values, 0 and 1, and that their probabilities sum to one.\n",
    "\n",
    "Any PDF with these characteristics is called a **Bernouilli Distribution.**\n",
    "\n",
    "The **Bernoulli distribution** is a discrete distribution having two possible outcomes labeled by 0 and 1 in which:\n",
    "- 1 occurs with probability $p$ and \n",
    "- 0 occurs with probability $q=1-p$, where $0<p<1$. \n",
    "\n",
    "### Tossing a fair coin\n",
    "\n",
    "Suppose now we are tossing a fair coin. \n",
    "- Heads corresponds to $0$ \n",
    "- Tails corresponds to $1$\n",
    "\n",
    "Again, the corresponding random variable  $X$ for this experiment will be $X = \\{0,1\\}$ but this time **both heads and tails** have a probability of $1/2$ of turning up.\n",
    "\n",
    "We modify the code as follows:\n"
   ]
  },
  {
   "cell_type": "code",
   "execution_count": null,
   "metadata": {},
   "outputs": [],
   "source": [
    "#importing the necessesary libraries\n",
    "from scipy import stats\n",
    "import matplotlib.pyplot as plt\n",
    "\n",
    "#defining our discrete random variable\n",
    "rv = [0,1]\n",
    "#re-defining our probabilities \n",
    "prob = (1/2, 1/2)\n",
    "#generating our PDF\n",
    "die_pdf = stats.rv_discrete(values=(rv, prob))\n",
    "\n",
    "#plotting the PDF\n",
    "plt.plot(rv, die_pdf.pmf(rv), 'ro')\n",
    "plt.vlines(rv, 0, die_pdf.pmf(rv), colors='r')\n",
    "plt.title(\"Discrete Probability Distribution Function of tossing a fair coin\")\n",
    "plt.show()"
   ]
  },
  {
   "cell_type": "markdown",
   "metadata": {},
   "source": [
    "Again, we have obtained a **Bernouilli PDF** with values 0 and 1 and probabilities 0.5 and 0.5."
   ]
  },
  {
   "cell_type": "markdown",
   "metadata": {},
   "source": [
    "## Continuous Probability Distribution Functions in Python\n",
    "\n",
    "Let's see how to create a continuous probablity distribution function with an example.\n",
    "\n",
    "In the code cell below, we have imported a dataset (downloadable from [here](https://www.kaggle.com/mustafaali96/weight-height)) that includes the weights and heights of some individuals.\n",
    "\n",
    "In the code cell below, we use the `pandas` function `read_csv` to read the dataset `weight-height.csv` into the dataframe `df`.\n",
    "\n",
    "\n"
   ]
  },
  {
   "cell_type": "code",
   "execution_count": 2,
   "metadata": {},
   "outputs": [
    {
     "data": {
      "text/html": [
       "<div>\n",
       "<style scoped>\n",
       "    .dataframe tbody tr th:only-of-type {\n",
       "        vertical-align: middle;\n",
       "    }\n",
       "\n",
       "    .dataframe tbody tr th {\n",
       "        vertical-align: top;\n",
       "    }\n",
       "\n",
       "    .dataframe thead th {\n",
       "        text-align: right;\n",
       "    }\n",
       "</style>\n",
       "<table border=\"1\" class=\"dataframe\">\n",
       "  <thead>\n",
       "    <tr style=\"text-align: right;\">\n",
       "      <th></th>\n",
       "      <th>Gender</th>\n",
       "      <th>Height</th>\n",
       "      <th>Weight</th>\n",
       "    </tr>\n",
       "  </thead>\n",
       "  <tbody>\n",
       "    <tr>\n",
       "      <td>0</td>\n",
       "      <td>Male</td>\n",
       "      <td>73.847017</td>\n",
       "      <td>241.893563</td>\n",
       "    </tr>\n",
       "    <tr>\n",
       "      <td>1</td>\n",
       "      <td>Male</td>\n",
       "      <td>68.781904</td>\n",
       "      <td>162.310473</td>\n",
       "    </tr>\n",
       "    <tr>\n",
       "      <td>2</td>\n",
       "      <td>Male</td>\n",
       "      <td>74.110105</td>\n",
       "      <td>212.740856</td>\n",
       "    </tr>\n",
       "    <tr>\n",
       "      <td>3</td>\n",
       "      <td>Male</td>\n",
       "      <td>71.730978</td>\n",
       "      <td>220.042470</td>\n",
       "    </tr>\n",
       "    <tr>\n",
       "      <td>4</td>\n",
       "      <td>Male</td>\n",
       "      <td>69.881796</td>\n",
       "      <td>206.349801</td>\n",
       "    </tr>\n",
       "  </tbody>\n",
       "</table>\n",
       "</div>"
      ],
      "text/plain": [
       "  Gender     Height      Weight\n",
       "0   Male  73.847017  241.893563\n",
       "1   Male  68.781904  162.310473\n",
       "2   Male  74.110105  212.740856\n",
       "3   Male  71.730978  220.042470\n",
       "4   Male  69.881796  206.349801"
      ]
     },
     "execution_count": 2,
     "metadata": {},
     "output_type": "execute_result"
    }
   ],
   "source": [
    "import pandas as pd\n",
    "df = pd.read_csv('weight-height.csv')\n",
    "#visualize first five rows\n",
    "df.head()"
   ]
  },
  {
   "cell_type": "markdown",
   "metadata": {},
   "source": [
    "We are only interested in the weights of females, so we remove all the rows with `Gender=Male`"
   ]
  },
  {
   "cell_type": "code",
   "execution_count": 3,
   "metadata": {},
   "outputs": [
    {
     "data": {
      "text/html": [
       "<div>\n",
       "<style scoped>\n",
       "    .dataframe tbody tr th:only-of-type {\n",
       "        vertical-align: middle;\n",
       "    }\n",
       "\n",
       "    .dataframe tbody tr th {\n",
       "        vertical-align: top;\n",
       "    }\n",
       "\n",
       "    .dataframe thead th {\n",
       "        text-align: right;\n",
       "    }\n",
       "</style>\n",
       "<table border=\"1\" class=\"dataframe\">\n",
       "  <thead>\n",
       "    <tr style=\"text-align: right;\">\n",
       "      <th></th>\n",
       "      <th>Gender</th>\n",
       "      <th>Height</th>\n",
       "      <th>Weight</th>\n",
       "    </tr>\n",
       "  </thead>\n",
       "  <tbody>\n",
       "    <tr>\n",
       "      <td>5000</td>\n",
       "      <td>Female</td>\n",
       "      <td>58.910732</td>\n",
       "      <td>102.088326</td>\n",
       "    </tr>\n",
       "    <tr>\n",
       "      <td>5001</td>\n",
       "      <td>Female</td>\n",
       "      <td>65.230013</td>\n",
       "      <td>141.305823</td>\n",
       "    </tr>\n",
       "    <tr>\n",
       "      <td>5002</td>\n",
       "      <td>Female</td>\n",
       "      <td>63.369004</td>\n",
       "      <td>131.041403</td>\n",
       "    </tr>\n",
       "    <tr>\n",
       "      <td>5003</td>\n",
       "      <td>Female</td>\n",
       "      <td>64.479997</td>\n",
       "      <td>128.171511</td>\n",
       "    </tr>\n",
       "    <tr>\n",
       "      <td>5004</td>\n",
       "      <td>Female</td>\n",
       "      <td>61.793096</td>\n",
       "      <td>129.781407</td>\n",
       "    </tr>\n",
       "  </tbody>\n",
       "</table>\n",
       "</div>"
      ],
      "text/plain": [
       "      Gender     Height      Weight\n",
       "5000  Female  58.910732  102.088326\n",
       "5001  Female  65.230013  141.305823\n",
       "5002  Female  63.369004  131.041403\n",
       "5003  Female  64.479997  128.171511\n",
       "5004  Female  61.793096  129.781407"
      ]
     },
     "execution_count": 3,
     "metadata": {},
     "output_type": "execute_result"
    }
   ],
   "source": [
    "df = df[df['Gender']=='Female']\n",
    "df.head()"
   ]
  },
  {
   "cell_type": "markdown",
   "metadata": {},
   "source": [
    "Next, we plot the weight data in a histogram using 20 bins."
   ]
  },
  {
   "cell_type": "code",
   "execution_count": 4,
   "metadata": {},
   "outputs": [
    {
     "data": {
      "text/plain": [
       "(array([  3.,   3.,   9.,  36.,  82., 162., 284., 417., 565., 680., 724.,\n",
       "        670., 515., 369., 259., 120.,  63.,  25.,  11.,   3.]),\n",
       " array([ 64.70012671,  71.57698106,  78.45383542,  85.33068977,\n",
       "         92.20754412,  99.08439847, 105.96125282, 112.83810717,\n",
       "        119.71496152, 126.59181587, 133.46867023, 140.34552458,\n",
       "        147.22237893, 154.09923328, 160.97608763, 167.85294198,\n",
       "        174.72979633, 181.60665069, 188.48350504, 195.36035939,\n",
       "        202.23721374]),\n",
       " <a list of 20 Patch objects>)"
      ]
     },
     "execution_count": 4,
     "metadata": {},
     "output_type": "execute_result"
    },
    {
     "data": {
      "image/png": "[encoded data removed]",
      "text/plain": [
       "<Figure size 432x288 with 1 Axes>"
      ]
     },
     "metadata": {
      "needs_background": "light"
     },
     "output_type": "display_data"
    }
   ],
   "source": [
    "weights = df['Weight'].tolist()\n",
    "plt.hist(weights, bins=20)"
   ]
  },
  {
   "cell_type": "markdown",
   "metadata": {},
   "source": [
    "The shape of the distribution above is really similar to the shape of a very common continuous distribution, the **Normal distribution**.\n",
    "\n",
    "In fact, we can fit a Normal distribution on top of the one we have just obtained.\n",
    "\n",
    "First of all, we need to extract from our data the **mean** and the **standard deviation**, as we will need these parameters in order to generate our fitting distribution."
   ]
  },
  {
   "cell_type": "code",
   "execution_count": 5,
   "metadata": {},
   "outputs": [],
   "source": [
    "#defining the mean\n",
    "mean_dist = df['Weight'].mean()\n",
    "#defining the standard deviation\n",
    "std_dist = df['Weight'].std()"
   ]
  },
  {
   "cell_type": "markdown",
   "metadata": {},
   "source": [
    "Now, we can use these parameters to generate our Normal distribution using the `scipy.stats` function `norm`."
   ]
  },
  {
   "cell_type": "code",
   "execution_count": 6,
   "metadata": {},
   "outputs": [],
   "source": [
    "from scipy.stats import norm\n",
    "#generating the normal PDF\n",
    "distribution = norm(mean_dist, std_dist)"
   ]
  },
  {
   "cell_type": "markdown",
   "metadata": {},
   "source": [
    "Next, we choose the range on which we’ll plot the PDF and the probabilities for that range."
   ]
  },
  {
   "cell_type": "code",
   "execution_count": 7,
   "metadata": {},
   "outputs": [],
   "source": [
    "#lower bound\n",
    "min_weight = df['Weight'].min()\n",
    "#upper bound\n",
    "max_weight = df['Weight'].max()\n",
    "#generate a sequence of equally spaces values\n",
    "values = list(range(int(min_weight), int(max_weight)))\n",
    "#generate probabilities for each value (these will follow the shape of a normal distribution!)\n",
    "probabilities = [distribution.pdf(v) for v in values]\n"
   ]
  },
  {
   "cell_type": "markdown",
   "metadata": {},
   "source": [
    "Finally, we plot the sample distribution and the PDF we have generated."
   ]
  },
  {
   "cell_type": "code",
   "execution_count": 8,
   "metadata": {},
   "outputs": [
    {
     "data": {
      "text/plain": [
       "[<matplotlib.lines.Line2D at 0x122554490>]"
      ]
     },
     "execution_count": 8,
     "metadata": {},
     "output_type": "execute_result"
    },
    {
     "data": {
      "image/png": "[encoded data removed]",
      "text/plain": [
       "<Figure size 432x288 with 1 Axes>"
      ]
     },
     "metadata": {
      "needs_background": "light"
     },
     "output_type": "display_data"
    }
   ],
   "source": [
    "from matplotlib import pyplot\n",
    "#plotting weight distribution\n",
    "pyplot.hist(weights, bins=30, density = True) \n",
    "#plotting normal distribution (orange line)\n",
    "pyplot.plot(values, probabilities)"
   ]
  },
  {
   "cell_type": "markdown",
   "metadata": {},
   "source": [
    "Of course, there are many other types of discrete and continuous probability distribution functions."
   ]
  },
  {
   "cell_type": "markdown",
   "metadata": {},
   "source": [
    "## Wrap up\n",
    "\n",
    "- A **random variable** is the set of possible values from a random experiment\n",
    "- A **probability distribution function** is a list of all of the possible outcomes of a random variable along with their corresponding probability values\n",
    "- Discrete probability distribution function in Python\n",
    "- Continuous probability distribution function in Python"
   ]
  },
  {
   "cell_type": "code",
   "execution_count": null,
   "metadata": {},
   "outputs": [],
   "source": []
  }
 ],
 "metadata": {
  "kernelspec": {
   "display_name": "Python 3",
   "language": "python",
   "name": "python3"
  },
  "language_info": {
   "codemirror_mode": {
    "name": "ipython",
    "version": 3
   },
   "file_extension": ".py",
   "mimetype": "text/x-python",
   "name": "python",
   "nbconvert_exporter": "python",
   "pygments_lexer": "ipython3",
   "version": "3.7.7"
  },
  "latex_envs": {
   "LaTeX_envs_menu_present": true,
   "autoclose": false,
   "autocomplete": true,
   "bibliofile": "biblio.bib",
   "cite_by": "apalike",
   "current_citInitial": 1,
   "eqLabelWithNumbers": true,
   "eqNumInitial": 1,
   "hotkeys": {
    "equation": "Ctrl-E",
    "itemize": "Ctrl-I"
   },
   "labels_anchors": false,
   "latex_user_defs": false,
   "report_style_numbering": false,
   "user_envs_cfg": false
  }
 },
 "nbformat": 4,
 "nbformat_minor": 1
}
