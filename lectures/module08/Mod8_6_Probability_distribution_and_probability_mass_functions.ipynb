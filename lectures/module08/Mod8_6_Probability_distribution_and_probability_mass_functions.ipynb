{
 "cells": [
  {
   "cell_type": "markdown",
   "metadata": {},
   "source": [
    "# Probability Distribution Functions\n",
    "\n",
    "## Outline\n",
    "\n",
    "- Quick Recap\n",
    "- Discrete Probability Distribution and Probability Mass Function\n",
    "- Continuous Probability Distribution and Probability Density Function\n",
    "- Wrap up\n"
   ]
  },
  {
   "cell_type": "markdown",
   "metadata": {},
   "source": [
    "  \n",
    "## Recap of Probability Distribution Functions\n",
    "\n",
    "\n",
    "A probability distribution is a way to represent the possible values and the respective probabilities of a random variable. There are two types of probability distributions: **discrete** and **continuous** probability distributions.\n",
    "\n",
    "A discrete probability distribution is used when we have a discrete random variable. A continuous probability \n",
    "distribution is used when we have a continuous random variable.\n",
    "\n",
    "The two classes of  distribution are represented by a **probability mass function** (discrete) and by a **probability density function** (continuous).\n",
    "\n"
   ]
  },
  {
   "cell_type": "markdown",
   "metadata": {},
   "source": [
    "## Discrete Probability Distribution and Probability Mass Function\n",
    "\n",
    "\n",
    "### Example 1: Rolling a die\n",
    "\n",
    "Say we are going to roll a die an infinite number of times and look at the proportion of each of the faces of the die (1, 2, etc). \n",
    "\n",
    "We will use **X** to describe the random variable that corresponds to the outcome of the dice roll. Thus the random variable **X = {1,2,3,4,5,6}**.\n",
    "\n",
    "**The aim of the probability mass function is to describe the probability of each possible value.** \n",
    "\n",
    "In our example, it describes the probability to get a 1, a 2 and so on. \n",
    "\n",
    "If the die if fair, we can write:\n",
    "\n",
    "**P(x=1)=P(x=2)=P(x=3)=P(x=4)=P(x=5)=P(x=6)**\n",
    "\n",
    "Now, how can we calculate the probabilities of each possible value: P(x=1), P(x=2), etc.? Since we have 6 possible outcomes that all have the same probability:\n",
    "\n",
    "**P(x=1)=P(x=2)=P(x=3)=P(x=4)=P(x=5)=P(x=6)=1/6**\n",
    "\n",
    "Let's see how to verify this in Python."
   ]
  },
  {
   "cell_type": "code",
   "execution_count": 1,
   "metadata": {},
   "outputs": [
    {
     "data": {
      "image/png": "[encoded data removed]",
      "text/plain": [
       "<Figure size 432x288 with 1 Axes>"
      ]
     },
     "metadata": {
      "needs_background": "light"
     },
     "output_type": "display_data"
    }
   ],
   "source": [
    "#import our necessary libraries\n",
    "import numpy as np\n",
    "import matplotlib.pyplot as plt\n",
    "%matplotlib inline\n",
    "\n",
    "#number of times we roll the die\n",
    "num_throws = 100000\n",
    "#initializing our outcomes to zero at the beginning\n",
    "outcomes = np.zeros(num_throws)\n",
    "#for all the throws..\n",
    "for i in range(num_throws):\n",
    "    # let's roll the die\n",
    "    outcome = np.random.choice(['1', '2', '3', '4', '5', '6'])\n",
    "    #append the outcome to our array\n",
    "    outcomes[i] = outcome\n",
    "\n",
    "\n",
    "#extracting the outcomes and the number of times each one turned up\n",
    "val, cnt = np.unique(outcomes, return_counts=True)\n",
    "#computing the probability of each outcome\n",
    "prop = cnt / len(outcomes)\n",
    "\n",
    "\n",
    "# Now that we have rolled our die 100,000 times, let's plot the results\n",
    "plt.bar(val, prop)\n",
    "plt.ylabel(\"Probability\")\n",
    "plt.xlabel(\"Outcome\")\n",
    "plt.show()"
   ]
  },
  {
   "cell_type": "markdown",
   "metadata": {},
   "source": [
    "Because the die is fair, we notice that each outcome has the same probability of turning up. \n",
    "\n",
    "This is also a famous type of distribution called the **Uniform Distribution**.\n",
    "\n",
    "### Example 2: Calculating the Probability that a Patient will Receive a Prescription in a Year\n",
    "\n",
    "In this example, we want to visualize the probability distribution function of 200 patients who visit a doctor's office each year. We know that each patient goes to see the doctor three times a year and each of them receive up to three prescriptions in total.\n",
    "\n",
    "We will define a random variable $X$ as the number of prescriptions each patient received. The values that $X$ will take are $X = \\{0,1,2,3\\}$.\n",
    "\n",
    "The table below displays the possible scenarios for a given patient who could receive prescriptions during their appointments and their associated probabilities.\n",
    "\n",
    "![](visits.png)\n",
    "\n",
    "We see that \n",
    "- 1/8 of the patients received zero prescriptions over a year. \n",
    "- 3/8 of the patients received one prescription over a year. \n",
    "- 3/8 of the patients received two prescriptions over a year. \n",
    "- 1/8 of the patients received three prescriptions over a year. \n",
    "\n",
    "In the code cell below, we simulate the number of prescriptions for each of the patients."
   ]
  },
  {
   "cell_type": "code",
   "execution_count": 2,
   "metadata": {},
   "outputs": [
    {
     "data": {
      "image/png": "[encoded data removed]",
      "text/plain": [
       "<Figure size 432x288 with 1 Axes>"
      ]
     },
     "metadata": {
      "needs_background": "light"
     },
     "output_type": "display_data"
    }
   ],
   "source": [
    "#plotting on a Jupyter Notebook\n",
    "%matplotlib inline\n",
    "\n",
    "#importing libraries\n",
    "import numpy\n",
    "import scipy.stats\n",
    "import matplotlib.pyplot as plt\n",
    "\n",
    "#setting random seed for reproducibility\n",
    "numpy.random.seed(42)\n",
    "\n",
    "#we have 200 patients\n",
    "N = 200\n",
    "#initialize the random variable that counts the numbers of prescriptions for each of the patients\n",
    "prescription = numpy.zeros(N, dtype=int)\n",
    "#simulating the number of prescriptions written for all the patients\n",
    "for i in range(N):\n",
    "    #the counter prescription get updated based on whether we get 0, 1, 2, or 3\n",
    "    prescription[i] = numpy.random.randint(0, 2, 3).sum()\n",
    "\n",
    "#extracting the values and counting how many times each one occurs\n",
    "values, counts = numpy.unique(prescription, return_counts=True)\n",
    "#computing the probability for each result\n",
    "prop = counts / len(prescription)\n",
    "#Now that we have simulated the results for all of our patients let's plot the results\n",
    "plt.bar(values, prop)\n",
    "plt.ylabel(\"Probability\")\n",
    "plt.xlabel(\"Number of Prescriptions\")\n",
    "plt.show()"
   ]
  },
  {
   "cell_type": "markdown",
   "metadata": {},
   "source": [
    "As expected we obtain a histogram displaying the probabilities associated with this experiment.\n",
    "\n",
    "We are already a little bit familiar with the distribution we have obtained: its trend follows the shape of a **Binomial Distribution**\n",
    "\n",
    "In this case, the probability mass function is represented by the probability values 1/8, 3/8, 3/8  and 1/8."
   ]
  },
  {
   "cell_type": "markdown",
   "metadata": {},
   "source": [
    "## Continuous Probability Distribution and Probability Density Function\n",
    "\n",
    "A continuous distribution describes the probabilities of the possible values of a continuous random variable. A continuous random variable is a random variable with an infinite set of possible values. \n",
    "\n",
    "**Probability density** describes the relationship between the continuous random variable observations and their probability.\n",
    "\n",
    "The overall shape of the probability density is referred to as a probability distribution, and the calculation of probabilities for specific outcomes of a random variable is performed by a **probability density function**, or PDF for short.\n",
    "\n",
    "\n",
    "### Measuring the height of the Rocky Mountains\n",
    "\n",
    "Let's try to understand how to compute the probability density function of a continuous distribution with an example.\n",
    "\n",
    "Suppose you are measuring the height of the Rocky Mountains. You find that the shortest mountain is 1734m and that the tallest mountain in 4356m tall. Since the mountain range is extensive, you want to find the probability that any random mountain will be shorter than 3000m.\n",
    "\n",
    "Interestingly enough, you also find that the distribution of the mountain heights follows a normal distribution with mean 3062 and standard deviation 500, as shown below:"
   ]
  },
  {
   "cell_type": "code",
   "execution_count": 3,
   "metadata": {},
   "outputs": [
    {
     "data": {
      "image/png": "[encoded data removed]",
      "text/plain": [
       "<Figure size 432x288 with 1 Axes>"
      ]
     },
     "metadata": {
      "needs_background": "light"
     },
     "output_type": "display_data"
    }
   ],
   "source": [
    "#import necessary libraries\n",
    "import numpy as np\n",
    "import matplotlib.pyplot as plt\n",
    "from scipy.stats import norm\n",
    "\n",
    "# Plot between 1734 and 4356m with 1 steps.\n",
    "x_axis = np.arange(1734, 4356, 1)\n",
    "#plotting our distribution\n",
    "plt.plot(x_axis, norm.pdf(x_axis,3026,500))\n",
    "plt.xlabel(\"Height\")\n",
    "plt.ylabel(\"Probability\")\n",
    "plt.show()"
   ]
  },
  {
   "cell_type": "markdown",
   "metadata": {},
   "source": [
    "If we want to compute the probability that a mountain is shorter than 3000m, we can use the function `cdf()` on our random variable."
   ]
  },
  {
   "cell_type": "code",
   "execution_count": 4,
   "metadata": {},
   "outputs": [
    {
     "name": "stdout",
     "output_type": "stream",
     "text": [
      "47.92643467077197\n"
     ]
    },
    {
     "data": {
      "image/png": "[encoded data removed]",
      "text/plain": [
       "<Figure size 432x288 with 1 Axes>"
      ]
     },
     "metadata": {
      "needs_background": "light"
     },
     "output_type": "display_data"
    }
   ],
   "source": [
    "#declare H to be a normal random variable with mean 3062 and standard deviation 500\n",
    "H = norm(3026, 500) \n",
    "#computing the the probability density for P(<3000)\n",
    "print(H.cdf(3000)*100)\n",
    "\n",
    "#plotting\n",
    "plt.plot(x_axis, norm.pdf(x_axis,3026,500))\n",
    "plt.axvline(3000, 0, 1, label='pyplot vertical line')\n",
    "plt.xlabel(\"Height\")\n",
    "plt.ylabel(\"Probability\")\n",
    "plt.show()"
   ]
  },
  {
   "cell_type": "markdown",
   "metadata": {},
   "source": [
    "Great, it appears that about 47.9% of the Rocky mountains are shorter than 3000m. Notice also that this probability is represented by the area to the **left** of the vertical line in the graph above.\n",
    "\n",
    "\n",
    "Of course, if we wanted to compute the probability that a mountain is taller than 3000m, we would need to subtract our result from 1, like so:"
   ]
  },
  {
   "cell_type": "code",
   "execution_count": 5,
   "metadata": {},
   "outputs": [
    {
     "name": "stdout",
     "output_type": "stream",
     "text": [
      "52.07356532922803\n"
     ]
    }
   ],
   "source": [
    "#probability that a mountain is higher than 3000m\n",
    "print((1 - H.cdf(3000))*100)"
   ]
  },
  {
   "cell_type": "markdown",
   "metadata": {},
   "source": [
    "This probability is represented by the area to the **right** of the vertical line in the graph above."
   ]
  },
  {
   "cell_type": "markdown",
   "metadata": {},
   "source": [
    "## Wrap up\n",
    "- Probability Distribution Functions\n",
    "- Discrete Probability Distribution and Probability Mass Function\n",
    "- Continuous Probability Distribution and Probability Density Function"
   ]
  }
 ],
 "metadata": {
  "kernelspec": {
   "display_name": "Python 3",
   "language": "python",
   "name": "python3"
  },
  "language_info": {
   "codemirror_mode": {
    "name": "ipython",
    "version": 3
   },
   "file_extension": ".py",
   "mimetype": "text/x-python",
   "name": "python",
   "nbconvert_exporter": "python",
   "pygments_lexer": "ipython3",
   "version": "3.7.4"
  },
  "latex_envs": {
   "LaTeX_envs_menu_present": true,
   "autoclose": false,
   "autocomplete": true,
   "bibliofile": "biblio.bib",
   "cite_by": "apalike",
   "current_citInitial": 1,
   "eqLabelWithNumbers": true,
   "eqNumInitial": 1,
   "hotkeys": {
    "equation": "Ctrl-E",
    "itemize": "Ctrl-I"
   },
   "labels_anchors": false,
   "latex_user_defs": false,
   "report_style_numbering": false,
   "user_envs_cfg": false
  }
 },
 "nbformat": 4,
 "nbformat_minor": 4
}
