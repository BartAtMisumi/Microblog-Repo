{
 "cells": [
  {
   "cell_type": "markdown",
   "metadata": {},
   "source": [
    "# Sampling Using Python\n",
    "\n",
    "## Outline\n",
    "- What is Sampling?\n",
    "- Simple Random Sample\n",
    "- Sampling a Dataframe\n",
    "- Wrap Up\n"
   ]
  },
  {
   "cell_type": "markdown",
   "metadata": {},
   "source": [
    "## What is Sampling?\n",
    "   \n",
    "When you can't collect data from an entire population, sampling is performed to collect a representative \"sample\" of the whole population. \n",
    "\n",
    "Sampling can be probabilistic or non-probabilistic.\n",
    "\n",
    "Probability sampling is defined as a sampling technique in which the researcher chooses samples from a larger population using random selection.\n",
    "\n",
    "Non-probability sampling is defined as a sampling technique in which the researcher selects samples based on the subjective judgment of the researcher rather than random selection. \n"
   ]
  },
  {
   "cell_type": "markdown",
   "metadata": {},
   "source": [
    "\n",
    "| Probability Sampling | Non-Probability Sampling| \n",
    "| --- | --- | \n",
    "| The samples are randomly selected.\t|Samples are selected on the basis of the <br> researcher’s subjective judgment.| \n",
    "|Everyone in the population has an equal <br> chance of getting selected.|\tNot everyone has an equal chance to <br>participate.|\n",
    "|Researchers use this technique when they <br> want to reduce sampling bias.|\tSampling bias is not a concern for <br>the researcher.|\n",
    "|Used when the researcher wants to create <br> accurate samples.\t|This method does not help<br> in representing the population accurately.|\n",
    "|Finding the correct audience is difficult.\t|Finding an audience is very simple.|"
   ]
  },
  {
   "cell_type": "markdown",
   "metadata": {},
   "source": [
    "## Simple Random Sampling\n",
    "\n",
    "Simple random sampling is the simplest  probability sampling techique. As the name suggests, it is an entirely random method of selecting the sample.\n",
    "\n",
    "This sampling method is as easy as assigning numbers to the population we want to sample and then randomly choosing from those numbers through an automated process.\n",
    "\n",
    "\n",
    "### Understanding simple random sampling with an example\n",
    "\n",
    "The population of the United States is **330 million**. It is practically impossible to send a survey to every individual to gather information. Instead, we can identify a sample of **1 million** people using probability sampling to collect data. Sending a survey to 1 million people identified as our sample will help us question a set of citizens that are representative of the broader population and will limit the potential for bias in our sample.\n",
    "\n",
    "\n",
    "![](./images/sampling.png)\n",
    "\n",
    "### Simple random sampling in Python\n",
    "\n",
    "In Python, simple random sampling is done using the function ```random.sample(population, k)```. Notice that this function takes two required arguments:\n",
    "- `population`: a sequence. Can be any sequence: list, set, range, dictonary etc.\n",
    "- `k`: the size of the returned list.\n",
    "\n",
    "Suppose you are a data scientist at a travel company and you have access to several databases that collect data from airlines. All of these databases contain the same features, but because of their size, you may only choose four for your analysis.\n",
    "\n",
    "\n"
   ]
  },
  {
   "cell_type": "code",
   "execution_count": 1,
   "metadata": {},
   "outputs": [
    {
     "name": "stdout",
     "output_type": "stream",
     "text": [
      "Choosing four airlines databases:\n",
      " ['AirFrance', 'Poland', 'KLM', 'Emirates']\n"
     ]
    }
   ],
   "source": [
    "# Select four databases to visit\n",
    "\n",
    "#import library\n",
    "import random\n",
    "\n",
    "#defining a list with the name of the countries \n",
    "airlines_data = [\"AirFrance\", \"KLM\", \"AirCanada\", \"BritishAirways\", \"Poland\", \"Delta\", \"Emirates\", \"United\",\n",
    "                 \"ANA\", \"Lufthansa\", \"Thai\"]\n",
    "#setting seed for reproducibility\n",
    "random.seed(123)\n",
    "#sampling four databases\n",
    "print (\"Choosing four airlines databases:\\n\", random.sample(airlines_data,k=4))\n"
   ]
  },
  {
   "cell_type": "markdown",
   "metadata": {},
   "source": [
    "Notice that the `sample()` method returns a list with a random selection of a specified number of items from a sequence. \n",
    "\n",
    "This sample is meant to be an unbiased representation of the total population. "
   ]
  },
  {
   "cell_type": "markdown",
   "metadata": {},
   "source": [
    "## Sampling a dataframe\n",
    "\n",
    "Sampling is a technique widely used in Data Science and Machine Learning, so it is often used on dataframes.\n",
    "\n",
    "The `pandas` function `DataFrame.sample()` is used to generate a random sample from the dataframe. You can find the documentation about this function [here](https://pandas.pydata.org/pandas-docs/stable/reference/api/pandas.DataFrame.sample.html).\n",
    "\n",
    "Consider the following dataset that contains data of flights between Australian cities (you can find more information [here](https://www.kaggle.com/alphajuliet/au-dom-traffic))."
   ]
  },
  {
   "cell_type": "code",
   "execution_count": null,
   "metadata": {},
   "outputs": [],
   "source": [
    "#import pandas package\n",
    "import pandas as pd\n",
    "\n",
    "#read data\n",
    "flight_data = pd.read_csv(\"australia_flights.csv\")\n",
    "\n",
    "#visualize top 5 rows\n",
    "flight_data.head()"
   ]
  },
  {
   "cell_type": "markdown",
   "metadata": {},
   "source": [
    " ### Example 1: Generate 10 random rows from our dataframe."
   ]
  },
  {
   "cell_type": "code",
   "execution_count": null,
   "metadata": {},
   "outputs": [],
   "source": [
    "#obtaining a random sample of 10 rows from flight_data\n",
    "flight_10 = flight_data.sample(n =10)\n",
    "\n",
    "#displaying the 10 rows we sampled\n",
    "flight_10"
   ]
  },
  {
   "cell_type": "markdown",
   "metadata": {},
   "source": [
    " ### Example 2: Generate a sample containing 25% of the data in our dataframe."
   ]
  },
  {
   "cell_type": "code",
   "execution_count": null,
   "metadata": {},
   "outputs": [],
   "source": [
    "#obtaining a random sample of 25% of flight_data\n",
    "flights_quarter =  flight_data.sample(frac =.25) \n",
    "\n",
    "#displaying the 25% of the dataframe we sampled\n",
    "flights_quarter"
   ]
  },
  {
   "cell_type": "code",
   "execution_count": null,
   "metadata": {},
   "outputs": [],
   "source": [
    "# checking if sample is 0.25 times data or not using len()\n",
    "  \n",
    "if (0.25*(len(flight_data))== len(flights_quarter)): \n",
    "    print( \"Great!\") "
   ]
  },
  {
   "cell_type": "markdown",
   "metadata": {},
   "source": [
    "## Wrap up\n",
    "We discussed:\n",
    "- Sampling is used to select a portion of the initial data\n",
    "- Simple Random Sample is the most simple sampling technique and chooses an unbiased subset of the original data\n",
    "- Sampling can also be performed on a dataframe to select a portion of data\n"
   ]
  }
 ],
 "metadata": {
  "kernelspec": {
   "display_name": "Python 3",
   "language": "python",
   "name": "python3"
  },
  "language_info": {
   "codemirror_mode": {
    "name": "ipython",
    "version": 3
   },
   "file_extension": ".py",
   "mimetype": "text/x-python",
   "name": "python",
   "nbconvert_exporter": "python",
   "pygments_lexer": "ipython3",
   "version": "3.7.7"
  },
  "latex_envs": {
   "LaTeX_envs_menu_present": true,
   "autoclose": false,
   "autocomplete": true,
   "bibliofile": "biblio.bib",
   "cite_by": "apalike",
   "current_citInitial": 1,
   "eqLabelWithNumbers": true,
   "eqNumInitial": 1,
   "hotkeys": {
    "equation": "Ctrl-E",
    "itemize": "Ctrl-I"
   },
   "labels_anchors": false,
   "latex_user_defs": false,
   "report_style_numbering": false,
   "user_envs_cfg": false
  }
 },
 "nbformat": 4,
 "nbformat_minor": 4
}
