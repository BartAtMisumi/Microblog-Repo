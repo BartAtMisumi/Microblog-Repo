{
 "cells": [
  {
   "cell_type": "markdown",
   "metadata": {},
   "source": [
    "# Probability versus Statistics\n",
    "\n",
    "## Outline\n",
    "- What is the difference?\n",
    "- Solving a problem using Statistics\n",
    "- Solving a problem using Probability\n",
    "- Wrap up\n"
   ]
  },
  {
   "cell_type": "markdown",
   "metadata": {},
   "source": [
    "  \n",
    "## Quick Recap about the differences between Probability and Statistics\n",
    "   \n",
    "\n",
    "- **Probability**: the study of probability deals with predicting the likelihood of **future** events. Probability is primarily a theoretical branch of mathematics, which studies the consequences of mathematical definitions.\n",
    "\n",
    "- **Statistics**: the study of statistics deals with analyzing the frequency of **past** events. Statistics is primarily an applied branch of mathematics, which tries to make sense of observations in the real world.\n",
    "\n",
    "\n",
    "\n"
   ]
  },
  {
   "cell_type": "markdown",
   "metadata": {},
   "source": [
    "## Statistics in Python - Coin toss example\n",
    "\n",
    "\n",
    "The quintessential example in probability is the **coin toss**. In a coin toss the only events that can happen are:\n",
    "\n",
    "- **Flipping heads**\n",
    "\n",
    "- **Flipping tails**\n",
    "\n",
    "These two events are the set of all possible events and represent the **sample space**. \n",
    "\n",
    "To calculate the probability of an event occurring, we sum how many times an event of interest can occur and divide it by the **sample space** value. \n",
    "\n",
    "$$ \\text{P} = \\frac{\\text{Number of possible outcomes}}{\\text{Number of possible events}}$$\n",
    "\n",
    "It is pretty easy to understand that, from a probabilistic (or theoretical) point of view, a fair coin  will have exactly a 50% chance of being heads or tails. However, as we will see in the example below, from a statistical point of view, the observed probabilities of tossing a coin will not be exactly 50%.\n"
   ]
  },
  {
   "cell_type": "code",
   "execution_count": 1,
   "metadata": {},
   "outputs": [],
   "source": [
    "import random\n",
    "\n",
    "#function to simulate the toss of each coin\n",
    "def coin_trial():\n",
    "    #initialize the counter\n",
    "    heads = 0\n",
    "    #each coin is flipped 100 times\n",
    "    for i in range(100):\n",
    "        #if we get a number that is lesser or equal than 0.5...\n",
    "        if random.random() <= 0.5:\n",
    "            #...increment heads counter\n",
    "            heads +=1\n",
    "    #return total number of heads\n",
    "    return heads\n",
    "\n",
    "#function to simulate the tossing of n coins\n",
    "def simulate(n):\n",
    "    #setting a random seed for reproducibility\n",
    "   random.seed(123)\n",
    "   #create list for the trials\n",
    "   trials = []\n",
    "   #for each coin...\n",
    "   for i in range(n):\n",
    "    #...append the result of each coin flip\n",
    "       trials.append(coin_trial())\n",
    "    #compute the probability\n",
    "   return(sum(trials)/n)"
   ]
  },
  {
   "cell_type": "code",
   "execution_count": 2,
   "metadata": {},
   "outputs": [
    {
     "name": "stdout",
     "output_type": "stream",
     "text": [
      "Average of getting heads with 10 coin flips:  52.4\n",
      "Average of getting heads with 100 coin flips::  49.7\n",
      "Average of getting heads with 1000 coin flips::  49.993\n",
      "Average of getting heads with 10000 coin flips::  50.0182\n"
     ]
    }
   ],
   "source": [
    "# 10, 100, 1000, 10000, 100000 coin flips - what is the average %\n",
    "print(\"Average of getting heads with 10 coin flips: \", simulate(10))\n",
    "print(\"Average of getting heads with 100 coin flips:: \", simulate(100))\n",
    "print(\"Average of getting heads with 1000 coin flips:: \", simulate(1000))\n",
    "print(\"Average of getting heads with 10000 coin flips:: \", simulate(10000))"
   ]
  },
  {
   "cell_type": "markdown",
   "metadata": {},
   "source": [
    "## Probability in Python - Card example\n",
    "\n",
    "A probability is a number that reflects the chance or likelihood that a particular event will occur. \n",
    "\n",
    "Probabilities can be expressed as proportions that range from 0 to 1, and they can also be expressed as percentages ranging from 0% to 100%. A probability of 0 indicates that there is no chance that a particular event will occur, whereas a probability of 1 indicates that an event is certain to occur. \n",
    "\n",
    "\n",
    "### Probability of drawing an ace from a 52 card deck\n",
    "\n",
    "\n",
    "In this section, we will consider a different example: we are interested in computing the probability of drawing certain cards from a standard deck with 52 cards. In particular, we want to calculate the probability of drawing an ace."
   ]
  },
  {
   "cell_type": "code",
   "execution_count": 3,
   "metadata": {},
   "outputs": [
    {
     "name": "stdout",
     "output_type": "stream",
     "text": [
      "0.08\n"
     ]
    }
   ],
   "source": [
    "# Sample Space (all the 52 cards)\n",
    "cards = 52\n",
    "\n",
    "# Outcomes (there are four aces in the deck)\n",
    "aces = 4\n",
    "\n",
    "# Divide possible outcomes by the sample space\n",
    "ace_probability = aces / cards\n",
    "\n",
    "# Print probability rounded to two decimal places\n",
    "print(round(ace_probability, 2))"
   ]
  },
  {
   "cell_type": "markdown",
   "metadata": {},
   "source": [
    "The probability of drawing an ace from a standard deck is 0.08. To determine probability in percentage form, simply multiply by 100."
   ]
  },
  {
   "cell_type": "code",
   "execution_count": 4,
   "metadata": {},
   "outputs": [
    {
     "name": "stdout",
     "output_type": "stream",
     "text": [
      "8.0%\n"
     ]
    }
   ],
   "source": [
    "# Ace Probability Percent Code\n",
    "ace_probability_percent = ace_probability * 100\n",
    "\n",
    "# Print probability percent rounded to one decimal place\n",
    "print(str(round(ace_probability_percent, 0)) + '%')"
   ]
  },
  {
   "cell_type": "markdown",
   "metadata": {},
   "source": [
    "The probability of drawing an ace as a percent is indeed 8%.\n",
    "\n",
    "\n",
    "### Probability of drawing a heart or a face card from a 52 card deck\n",
    "\n",
    "It may be also convenient to create a user-defined function to calculate the probability of other events."
   ]
  },
  {
   "cell_type": "code",
   "execution_count": 5,
   "metadata": {},
   "outputs": [
    {
     "name": "stdout",
     "output_type": "stream",
     "text": [
      "25.0%\n",
      "23.1%\n"
     ]
    }
   ],
   "source": [
    "# Create function that returns a probability percent rounded to one decimal place\n",
    "def event_probability(event_outcomes, sample_space):\n",
    "    probability = (event_outcomes / sample_space) * 100\n",
    "    return round(probability, 1)\n",
    "\n",
    "# Sample Space\n",
    "cards = 52\n",
    "\n",
    "# Determine the probability of drawing a heart\n",
    "hearts = 13\n",
    "heart_probability = event_probability(hearts, cards)\n",
    "\n",
    "# Determine the probability of drawing a face card\n",
    "face_cards = 12\n",
    "face_card_probability = event_probability(face_cards, cards)\n",
    "\n",
    "# Print each probability\n",
    "print(str(heart_probability) + '%')\n",
    "print(str(face_card_probability) + '%')"
   ]
  },
  {
   "cell_type": "markdown",
   "metadata": {},
   "source": [
    "Notice that when computing the probability of drawing a card, we did not set a random seed. This is because, from a probabilistic point of view, the results are purely theoretical and for this reason it won't change.\n",
    "Of course, if we were to simulate drawing a certain card from a statistical point of view, the results would be similar to the ones we obtained in the example above."
   ]
  },
  {
   "cell_type": "markdown",
   "metadata": {},
   "source": [
    "## Wrap up\n",
    "\n",
    "- Probability and statistics are losely connected, however the first one deals with events in the future, the second one with events in the past.\n",
    "- Solving the coin toss problem using Statistics\n",
    "- Calculating the probability of drawing a certain card using Probability"
   ]
  },
  {
   "cell_type": "code",
   "execution_count": null,
   "metadata": {},
   "outputs": [],
   "source": []
  }
 ],
 "metadata": {
  "kernelspec": {
   "display_name": "Python 3",
   "language": "python",
   "name": "python3"
  },
  "language_info": {
   "codemirror_mode": {
    "name": "ipython",
    "version": 3
   },
   "file_extension": ".py",
   "mimetype": "text/x-python",
   "name": "python",
   "nbconvert_exporter": "python",
   "pygments_lexer": "ipython3",
   "version": "3.7.7"
  },
  "latex_envs": {
   "LaTeX_envs_menu_present": true,
   "autoclose": false,
   "autocomplete": true,
   "bibliofile": "biblio.bib",
   "cite_by": "apalike",
   "current_citInitial": 1,
   "eqLabelWithNumbers": true,
   "eqNumInitial": 1,
   "hotkeys": {
    "equation": "Ctrl-E",
    "itemize": "Ctrl-I"
   },
   "labels_anchors": false,
   "latex_user_defs": false,
   "report_style_numbering": false,
   "user_envs_cfg": false
  }
 },
 "nbformat": 4,
 "nbformat_minor": 4
}
